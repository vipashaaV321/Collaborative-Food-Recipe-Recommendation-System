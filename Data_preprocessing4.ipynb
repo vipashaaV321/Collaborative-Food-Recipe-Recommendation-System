{
  "nbformat": 4,
  "nbformat_minor": 0,
  "metadata": {
    "colab": {
      "provenance": [],
      "mount_file_id": "13KKkO0YUkPBvxd0hM8zJQk9iuDAmaPTh",
      "authorship_tag": "ABX9TyOuvJtYjKzfNpjjjAUAVsCm",
      "include_colab_link": true
    },
    "kernelspec": {
      "name": "python3",
      "display_name": "Python 3"
    },
    "language_info": {
      "name": "python"
    }
  },
  "cells": [
    {
      "cell_type": "markdown",
      "metadata": {
        "id": "view-in-github",
        "colab_type": "text"
      },
      "source": [
        "<a href=\"https://colab.research.google.com/github/vipashaaV321/Collaborative-Food-Recipe-Recommendation-System/blob/Sarvesh/Data_preprocessing4.ipynb\" target=\"_parent\"><img src=\"https://colab.research.google.com/assets/colab-badge.svg\" alt=\"Open In Colab\"/></a>"
      ]
    },
    {
      "cell_type": "code",
      "source": [
        "import pandas as pd\n",
        "import numpy as np\n",
        "import matplotlib.pyplot as plt\n",
        "from sklearn.metrics.pairwise import cosine_similarity\n",
        "from scipy.sparse import csr_matrix\n",
        "import numpy as np\n",
        "from scipy.sparse import csr_matrix\n",
        "from sklearn.decomposition import TruncatedSVD"
      ],
      "metadata": {
        "id": "NB8O_clJVvV5"
      },
      "execution_count": null,
      "outputs": []
    },
    {
      "cell_type": "code",
      "execution_count": null,
      "metadata": {
        "id": "wS100Tr-VeF8"
      },
      "outputs": [],
      "source": [
        "Base_path ='/content/drive/MyDrive/RS Data/Assignment 2'"
      ]
    },
    {
      "cell_type": "code",
      "source": [
        "raw_recipies = pd.read_csv(Base_path+\"/RAW_recipes.csv\")\n",
        "int_train = pd.read_csv(Base_path+\"/interactions_train.csv\")\n",
        "int_val = pd.read_csv(Base_path+\"/interactions_validation.csv\")\n",
        "int_test = pd.read_csv(Base_path+\"/interactions_test.csv\")"
      ],
      "metadata": {
        "id": "X2svnpfOVewx"
      },
      "execution_count": null,
      "outputs": []
    },
    {
      "cell_type": "code",
      "source": [
        "user_counts = int_train.groupby('user_id').count()\n",
        "\n",
        "# filter the user counts DataFrame to include only users who have rated at least 20 items\n",
        "user_counts_filtered = user_counts[user_counts['recipe_id'] >= 100]\n",
        "\n",
        "# get the list of user IDs who have rated at least 20 items\n",
        "users_with_20_items = user_counts_filtered.index.tolist()\n",
        "\n",
        "# filter the original DataFrame to include only the users who have rated at least 20 items\n",
        "df_filtered = int_train[int_train['user_id'].isin(users_with_20_items)]\n",
        "\n",
        "# print the filtered DataFrame\n",
        "print(df_filtered)"
      ],
      "metadata": {
        "colab": {
          "base_uri": "https://localhost:8080/"
        },
        "id": "gbVu69Bocwe6",
        "outputId": "f21ee103-6156-4e91-9799-5b8c2683a83e"
      },
      "execution_count": null,
      "outputs": [
        {
          "output_type": "stream",
          "name": "stdout",
          "text": [
            "           user_id  recipe_id        date  rating     u       i\n",
            "6             2312        780  2000-09-12     5.0  1674  127175\n",
            "7             2312      51964  2000-09-26     5.0  1674  151793\n",
            "8             2312       1232  2000-10-17     4.0  1674   15498\n",
            "9             2312       4397  2000-10-17     5.0  1674   14380\n",
            "11            2312        164  2000-10-20     5.0  1674   96573\n",
            "...            ...        ...         ...     ...   ...     ...\n",
            "698887      146742     278872  2018-12-16     5.0  2178   76230\n",
            "698888      400708       5123  2018-12-17     5.0   560   72083\n",
            "698892     1271506      53121  2018-12-17     5.0  2877   51525\n",
            "698899      226867     363072  2018-12-18     5.0  3604   29101\n",
            "698900  2000498330     314535  2018-12-19     5.0  2248   21514\n",
            "\n",
            "[410249 rows x 6 columns]\n"
          ]
        }
      ]
    },
    {
      "cell_type": "code",
      "source": [
        "user_item_matrix = df_filtered.pivot_table(values='rating', index='user_id', columns='recipe_id')\n",
        "\n",
        "# fill missing values with 0\n",
        "user_item_matrix = user_item_matrix.fillna(0)\n",
        "\n",
        "# print the user-item rating matrix\n",
        "print(user_item_matrix)"
      ],
      "metadata": {
        "colab": {
          "base_uri": "https://localhost:8080/"
        },
        "id": "Q7oaESmKc7zx",
        "outputId": "720495b3-7633-4eee-9044-08264254f755"
      },
      "execution_count": null,
      "outputs": [
        {
          "output_type": "stream",
          "name": "stdout",
          "text": [
            "recipe_id   38      40      45      46      49      52      58      62      \\\n",
            "user_id                                                                      \n",
            "1533           0.0     0.0     0.0     0.0     0.0     0.0     0.0     0.0   \n",
            "1535           0.0     0.0     0.0     0.0     0.0     0.0     0.0     0.0   \n",
            "2310           0.0     0.0     0.0     0.0     0.0     0.0     0.0     0.0   \n",
            "2312           0.0     0.0     0.0     0.0     0.0     0.0     0.0     0.0   \n",
            "3288           0.0     0.0     0.0     0.0     0.0     0.0     0.0     0.0   \n",
            "...            ...     ...     ...     ...     ...     ...     ...     ...   \n",
            "1800054678     0.0     0.0     0.0     0.0     0.0     0.0     0.0     0.0   \n",
            "1802849661     0.0     0.0     0.0     0.0     0.0     0.0     0.0     0.0   \n",
            "2000431901     0.0     0.0     0.0     0.0     0.0     0.0     0.0     0.0   \n",
            "2000498330     0.0     0.0     0.0     0.0     0.0     0.0     0.0     0.0   \n",
            "2001102678     0.0     0.0     0.0     0.0     0.0     0.0     0.0     0.0   \n",
            "\n",
            "recipe_id   63      66      ...  536401  536411  536643  536679  536726  \\\n",
            "user_id                     ...                                           \n",
            "1533           0.0     0.0  ...     0.0     0.0     0.0     0.0     0.0   \n",
            "1535           0.0     0.0  ...     0.0     0.0     0.0     0.0     0.0   \n",
            "2310           0.0     0.0  ...     0.0     0.0     0.0     0.0     0.0   \n",
            "2312           0.0     0.0  ...     0.0     0.0     0.0     0.0     0.0   \n",
            "3288           0.0     0.0  ...     0.0     0.0     0.0     0.0     0.0   \n",
            "...            ...     ...  ...     ...     ...     ...     ...     ...   \n",
            "1800054678     0.0     0.0  ...     0.0     0.0     0.0     0.0     0.0   \n",
            "1802849661     0.0     0.0  ...     0.0     0.0     0.0     0.0     0.0   \n",
            "2000431901     0.0     0.0  ...     0.0     0.0     0.0     0.0     0.0   \n",
            "2000498330     0.0     0.0  ...     0.0     0.0     0.0     0.0     0.0   \n",
            "2001102678     0.0     0.0  ...     0.0     0.0     0.0     0.0     0.0   \n",
            "\n",
            "recipe_id   536729  536990  537175  537319  537458  \n",
            "user_id                                             \n",
            "1533           0.0     0.0     0.0     0.0     0.0  \n",
            "1535           0.0     0.0     0.0     0.0     0.0  \n",
            "2310           0.0     0.0     0.0     0.0     0.0  \n",
            "2312           0.0     0.0     0.0     0.0     0.0  \n",
            "3288           0.0     0.0     0.0     0.0     0.0  \n",
            "...            ...     ...     ...     ...     ...  \n",
            "1800054678     0.0     0.0     0.0     0.0     0.0  \n",
            "1802849661     0.0     0.0     0.0     0.0     0.0  \n",
            "2000431901     0.0     0.0     0.0     0.0     0.0  \n",
            "2000498330     0.0     0.0     0.0     0.0     0.0  \n",
            "2001102678     0.0     0.0     0.0     0.0     0.0  \n",
            "\n",
            "[1165 rows x 142485 columns]\n"
          ]
        }
      ]
    },
    {
      "cell_type": "code",
      "source": [
        "users = user_item_matrix.index.tolist()"
      ],
      "metadata": {
        "id": "mHLcTqKZdkGY"
      },
      "execution_count": null,
      "outputs": []
    },
    {
      "cell_type": "code",
      "source": [
        "normalised_mat = user_item_matrix - np.asarray([(np.mean(user_item_matrix, 1))]).T"
      ],
      "metadata": {
        "id": "G8KtFO6PeMWY"
      },
      "execution_count": null,
      "outputs": []
    },
    {
      "cell_type": "code",
      "source": [
        "A = normalised_mat.T / np.sqrt(user_item_matrix.shape[0] - 1)"
      ],
      "metadata": {
        "id": "t-VEJ0SRf9GH"
      },
      "execution_count": null,
      "outputs": []
    },
    {
      "cell_type": "code",
      "source": [
        "print(A)"
      ],
      "metadata": {
        "colab": {
          "base_uri": "https://localhost:8080/"
        },
        "id": "hd9wprBxl2na",
        "outputId": "b77291b9-16b8-4755-de24-191eedf7c59a"
      },
      "execution_count": null,
      "outputs": [
        {
          "output_type": "stream",
          "name": "stdout",
          "text": [
            "user_id    1533        1535        2310        2312        3288        \\\n",
            "recipe_id                                                               \n",
            "38          -0.000112   -0.000598   -0.000327   -0.000144   -0.000156   \n",
            "40          -0.000112   -0.000598   -0.000327   -0.000144   -0.000156   \n",
            "45          -0.000112   -0.000598   -0.000327   -0.000144   -0.000156   \n",
            "46          -0.000112   -0.000598   -0.000327   -0.000144   -0.000156   \n",
            "49          -0.000112   -0.000598   -0.000327   -0.000144   -0.000156   \n",
            "...               ...         ...         ...         ...         ...   \n",
            "536729      -0.000112   -0.000598   -0.000327   -0.000144   -0.000156   \n",
            "536990      -0.000112   -0.000598   -0.000327   -0.000144   -0.000156   \n",
            "537175      -0.000112   -0.000598   -0.000327   -0.000144   -0.000156   \n",
            "537319      -0.000112   -0.000598   -0.000327   -0.000144   -0.000156   \n",
            "537458      -0.000112   -0.000598   -0.000327   -0.000144   -0.000156   \n",
            "\n",
            "user_id    4291        4439        4470        4740        5060        ...  \\\n",
            "recipe_id                                                              ...   \n",
            "38          -0.000208    -0.00052   -0.002388   -0.000193   -0.001532  ...   \n",
            "40          -0.000208    -0.00052   -0.002388   -0.000193   -0.001532  ...   \n",
            "45          -0.000208    -0.00052   -0.002388   -0.000193   -0.001532  ...   \n",
            "46          -0.000208    -0.00052   -0.002388   -0.000193   -0.001532  ...   \n",
            "49          -0.000208    -0.00052   -0.002388   -0.000193   -0.001532  ...   \n",
            "...               ...         ...         ...         ...         ...  ...   \n",
            "536729      -0.000208    -0.00052   -0.002388   -0.000193   -0.001532  ...   \n",
            "536990      -0.000208    -0.00052   -0.002388   -0.000193   -0.001532  ...   \n",
            "537175      -0.000208    -0.00052   -0.002388   -0.000193   -0.001532  ...   \n",
            "537319      -0.000208    -0.00052   -0.002388   -0.000193   -0.001532  ...   \n",
            "537458      -0.000208    -0.00052   -0.002388   -0.000193   -0.001532  ...   \n",
            "\n",
            "user_id    2123645     2324285     2399085     2549237     2597942     \\\n",
            "recipe_id                                                               \n",
            "38           0.116932   -0.000393   -0.000101   -0.000202   -0.000231   \n",
            "40          -0.000310   -0.000393   -0.000101   -0.000202   -0.000231   \n",
            "45          -0.000310   -0.000393   -0.000101   -0.000202   -0.000231   \n",
            "46          -0.000310   -0.000393   -0.000101   -0.000202   -0.000231   \n",
            "49          -0.000310   -0.000393   -0.000101   -0.000202   -0.000231   \n",
            "...               ...         ...         ...         ...         ...   \n",
            "536729      -0.000310   -0.000393   -0.000101   -0.000202   -0.000231   \n",
            "536990      -0.000310   -0.000393   -0.000101   -0.000202   -0.000231   \n",
            "537175      -0.000310   -0.000393   -0.000101   -0.000202   -0.000231   \n",
            "537319      -0.000310   -0.000393   -0.000101   -0.000202   -0.000231   \n",
            "537458      -0.000310   -0.000393   -0.000101   -0.000202   -0.000231   \n",
            "\n",
            "user_id    1800054678  1802849661  2000431901  2000498330  2001102678  \n",
            "recipe_id                                                              \n",
            "38          -0.000213   -0.000399   -0.000341   -0.000259   -0.000116  \n",
            "40          -0.000213   -0.000399   -0.000341   -0.000259   -0.000116  \n",
            "45          -0.000213   -0.000399   -0.000341   -0.000259   -0.000116  \n",
            "46          -0.000213   -0.000399   -0.000341   -0.000259   -0.000116  \n",
            "49          -0.000213   -0.000399   -0.000341   -0.000259   -0.000116  \n",
            "...               ...         ...         ...         ...         ...  \n",
            "536729      -0.000213   -0.000399   -0.000341   -0.000259   -0.000116  \n",
            "536990      -0.000213   -0.000399   -0.000341   -0.000259   -0.000116  \n",
            "537175      -0.000213   -0.000399   -0.000341   -0.000259   -0.000116  \n",
            "537319      -0.000213   -0.000399   -0.000341   -0.000259   -0.000116  \n",
            "537458      -0.000213   -0.000399   -0.000341   -0.000259   -0.000116  \n",
            "\n",
            "[142485 rows x 1165 columns]\n"
          ]
        }
      ]
    },
    {
      "cell_type": "code",
      "source": [
        "U, S, V = np.linalg.svd(A,full_matrices=False)"
      ],
      "metadata": {
        "id": "nm1NCGykjOPe"
      },
      "execution_count": null,
      "outputs": []
    },
    {
      "cell_type": "code",
      "source": [],
      "metadata": {
        "id": "A1lj7B2WoRQ9"
      },
      "execution_count": null,
      "outputs": []
    }
  ]
}