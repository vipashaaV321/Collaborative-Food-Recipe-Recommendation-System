{
  "cells": [
    {
      "cell_type": "markdown",
      "source": [
        "\n",
        "#This Baseline Model is implemented from the paper : \n",
        "# **Factorization Meets the Neighborhood: a Multifaceted Collaborative Filtering Model** by Yehuda Koren"
      ],
      "metadata": {
        "id": "FzC0VjRQkbiq"
      }
    },
    {
      "cell_type": "markdown",
      "source": [
        "Sir told us to implement this paper. Based on this he gave us another paper **Scalable Collaborative Filtering with Jointly Derived Neighborhood Interpolation Weights**"
      ],
      "metadata": {
        "id": "qpWtu5vUk7SB"
      }
    },
    {
      "cell_type": "markdown",
      "source": [
        "# The given below math has been dervied by ourselves from understanding the paper by which we have implemented our code."
      ],
      "metadata": {
        "id": "VlBdr82BHPg0"
      }
    },
    {
      "cell_type": "markdown",
      "source": [
        "---\n",
        "* **Baseline Equation**\n",
        "---\n",
        "\\begin{equation}\n",
        "b_{ui} = \\mu + b_u + b_i\n",
        "\\end{equation}\n",
        "---\n",
        "---\n",
        "* **Optimization Problem**\n",
        "---\n",
        "\\begin{equation}\n",
        "\\min_{b_u, b_i} \\sum_{(u,i) \\in R_{train}} (r_{ui} - b_{ui})^2 + \\lambda (||b_u||^2 + ||b_i||^2)\n",
        "\\end{equation}\n",
        "---\n",
        "---\n",
        "* **Gradient Descent**\n",
        "---\n",
        "\\begin{equation}\n",
        "\\frac{\\partial}{\\partial b_u} = -2 \\sum_{i \\in I_u} (r_{ui} - \\mu - b_u - b_i) + 2 \\lambda b_u\n",
        "\\end{equation}\n",
        "\n",
        "\\begin{equation}\n",
        "\\frac{\\partial}{\\partial b_i} = -2 \\sum_{u \\in U_i} (r_{ui} - \\mu - b_u - b_i) + 2 \\lambda b_i\n",
        "\\end{equation}\n",
        "\n",
        "\\begin{equation}\n",
        "b_{u}^{(k+1)} = b_{u}^{(k)} - \\gamma \\cdot \\frac{\\partial}{\\partial b_u} J(b_u^{(k)}, b_i^{(k)})\n",
        "\\end{equation}\n",
        "\n",
        "\\begin{equation}\n",
        "b_{i}^{(k+1)} = b_{i}^{(k)} - \\gamma \\cdot \\frac{\\partial}{\\partial b_i} J(b_u^{(k)}, b_i^{(k)})\n",
        "\\end{equation}\n",
        "\n",
        "\\begin{aligned}\n",
        "b_{u}^{(k+1)} &= b_{u}^{(k)} + \\gamma \\cdot \\left( \\sum_{i \\in I_u} (r_{ui} - \\mu - b_u^{(k)} - b_i^{(k)}) - \\lambda b_u^{(k)} \\right) \\\\\n",
        "b_{i}^{(k+1)} &= b_{i}^{(k)} + \\gamma \\cdot \\left( \\sum_{u \\in U_i} (r_{ui} - \\mu - b_u^{(k)} - b_i^{(k)}) - \\lambda b_i^{(k)} \\right)\n",
        "\\end{aligned}\n",
        "\n",
        "---\n",
        "* **Update Rule**\n",
        "---\n",
        "\\begin{equation}\n",
        "b_{u}^{(k+1)} = b_{u}^{(k)} + \\gamma \\cdot \\left( e_{ui} - \\lambda \\cdot b_{u}^{(k)} \\right)\n",
        "\\end{equation}\n"
      ],
      "metadata": {
        "id": "asjKe6KKEz5e"
      }
    },
    {
      "cell_type": "markdown",
      "source": [
        "# Importing Libraries"
      ],
      "metadata": {
        "id": "Kfvigju6hUsd"
      }
    },
    {
      "cell_type": "code",
      "source": [
        "from google.colab import drive\n",
        "drive.mount('/content/drive')"
      ],
      "metadata": {
        "colab": {
          "base_uri": "https://localhost:8080/"
        },
        "id": "CNEnYro-Ovft",
        "outputId": "324502cb-52e6-4a0f-b385-d9dcd048f271"
      },
      "execution_count": null,
      "outputs": [
        {
          "output_type": "stream",
          "name": "stdout",
          "text": [
            "Mounted at /content/drive\n"
          ]
        }
      ]
    },
    {
      "cell_type": "code",
      "source": [
        "import pandas as pd\n",
        "from sklearn.model_selection import train_test_split\n",
        "import numpy as np\n",
        "import os\n",
        "import pickle\n",
        "from IPython.display import display"
      ],
      "metadata": {
        "id": "LaDkFOeIhaPc"
      },
      "execution_count": null,
      "outputs": []
    },
    {
      "cell_type": "markdown",
      "source": [
        "# Importing Data and preprocessing"
      ],
      "metadata": {
        "id": "I389FJlGhc40"
      }
    },
    {
      "cell_type": "code",
      "execution_count": null,
      "metadata": {
        "id": "JPY7aoKqOlJb"
      },
      "outputs": [],
      "source": [
        "data = pd.read_csv('/content/drive/MyDrive/RS Data/Assignment 2/short-recipes-20.csv')\n"
      ]
    },
    {
      "cell_type": "code",
      "source": [
        "df = data.copy()"
      ],
      "metadata": {
        "id": "7Qqp2mKbOkX4"
      },
      "execution_count": null,
      "outputs": []
    },
    {
      "cell_type": "code",
      "source": [
        "df = data.pivot_table(index='user_id',columns='recipe_id',values='rating')\n"
      ],
      "metadata": {
        "id": "aZjXozr1PKlR"
      },
      "execution_count": null,
      "outputs": []
    },
    {
      "cell_type": "markdown",
      "source": [
        "## Train Test Split"
      ],
      "metadata": {
        "id": "txT_r9lwhlZG"
      }
    },
    {
      "cell_type": "code",
      "source": [
        "zero_mask = df == 0\n",
        "train = pd.DataFrame(columns=df.columns)\n",
        "test = pd.DataFrame(columns=df.columns)\n",
        "from sklearn.model_selection import train_test_split\n",
        "\n",
        "for row_index, row_data in df.iterrows():\n",
        "  train_data, test_data = train_test_split(row_data, test_size=0.2)\n",
        "  train_data[zero_mask.loc[row_index]] = 0\n",
        "  train = train.append(train_data)\n",
        "  test = test.append(test_data)\n",
        "train = train.fillna(0)\n"
      ],
      "metadata": {
        "id": "xnjhSknKOnEg"
      },
      "execution_count": null,
      "outputs": []
    },
    {
      "cell_type": "code",
      "source": [
        "train = train.fillna(0)"
      ],
      "metadata": {
        "id": "yxThh7hmM-3J"
      },
      "execution_count": null,
      "outputs": []
    },
    {
      "cell_type": "markdown",
      "source": [
        "## Initializing mu, bu and bi parameters "
      ],
      "metadata": {
        "id": "esGFvV_uhtK4"
      }
    },
    {
      "cell_type": "code",
      "source": [
        "mask = train != 0\n",
        "\n",
        "# calculate mean of non-zero values\n",
        "mu = np.mean(train[mask]).mean()"
      ],
      "metadata": {
        "id": "cjUm4sk6zSGe"
      },
      "execution_count": null,
      "outputs": []
    },
    {
      "cell_type": "code",
      "source": [
        "bu= np.random.randn(train.shape[0])\n",
        "bi= np.random.randn(train.shape[1])"
      ],
      "metadata": {
        "id": "-2kP-8lhU1OU"
      },
      "execution_count": null,
      "outputs": []
    },
    {
      "cell_type": "code",
      "source": [
        "bu"
      ],
      "metadata": {
        "colab": {
          "base_uri": "https://localhost:8080/"
        },
        "id": "bOqu95-SVrG-",
        "outputId": "1cca56af-0eba-4b3f-b0dc-6b1bddb9c914"
      },
      "execution_count": null,
      "outputs": [
        {
          "output_type": "execute_result",
          "data": {
            "text/plain": [
              "array([-1.22220269, -0.19078965,  0.49580904, ..., -0.01070388,\n",
              "       -1.85815435,  0.41626176])"
            ]
          },
          "metadata": {},
          "execution_count": 188
        }
      ]
    },
    {
      "cell_type": "code",
      "source": [
        "bi"
      ],
      "metadata": {
        "colab": {
          "base_uri": "https://localhost:8080/"
        },
        "id": "UceR7oJIVs98",
        "outputId": "b9bdd81b-7be4-4de3-c850-a762245088be"
      },
      "execution_count": null,
      "outputs": [
        {
          "output_type": "execute_result",
          "data": {
            "text/plain": [
              "array([-0.80995746,  0.30386749, -0.68624227, ..., -0.52889583,\n",
              "        0.49973738, -0.51527574])"
            ]
          },
          "metadata": {},
          "execution_count": 189
        }
      ]
    },
    {
      "cell_type": "markdown",
      "source": [
        "# Baseline Estimate on Ratings"
      ],
      "metadata": {
        "id": "llMQHvKKh20I"
      }
    },
    {
      "cell_type": "code",
      "source": [
        "iter = 10\n",
        "lam =0.1\n",
        "lr=0.001\n",
        "\n",
        "for _ in range(iter):\n",
        "  print(f\"iteration {_}\")\n",
        "\n",
        "  del_bu,del_bi =0,0\n",
        "  delt=0\n",
        "  for i in range(train.shape[0]):\n",
        "    print(f'iteration {_}, user {i}')\n",
        "    for j in (np.where(np.array(train.iloc[i,:]) != 0)[0]):\n",
        "      b_u = bu[i]\n",
        "      b_i = bi[j]\n",
        "      delt = (train.iloc[i,j] - mu - b_u -b_i)\n",
        "      del_bu = -delt + lam*bu\n",
        "      del_bi = -delt + lam*bi\n",
        "      bu[i] = bu[i]-(lr*del_bu)\n",
        "      bi[j]= bi[j]-(lr*del_bi)\n",
        "\n"
      ],
      "metadata": {
        "id": "iXB6JCD_VTKM"
      },
      "execution_count": null,
      "outputs": []
    },
    {
      "cell_type": "code",
      "source": [
        "bu"
      ],
      "metadata": {
        "colab": {
          "base_uri": "https://localhost:8080/"
        },
        "id": "80sz1vWiWOVp",
        "outputId": "c76191fe-1e3b-4025-8e2d-195aa58752a8"
      },
      "execution_count": null,
      "outputs": [
        {
          "output_type": "execute_result",
          "data": {
            "text/plain": [
              "array([-1.09561336, -0.0869398 ,  0.40595384, ..., -0.10250607,\n",
              "       -1.36919407,  0.34473305])"
            ]
          },
          "metadata": {},
          "execution_count": 191
        }
      ]
    },
    {
      "cell_type": "code",
      "source": [
        "bi"
      ],
      "metadata": {
        "colab": {
          "base_uri": "https://localhost:8080/"
        },
        "id": "T8hDJlePWU3E",
        "outputId": "e04eb673-f8af-48c1-d0b4-caa267b7e18f"
      },
      "execution_count": null,
      "outputs": [
        {
          "output_type": "execute_result",
          "data": {
            "text/plain": [
              "array([-0.79968182,  0.28890583, -0.66051284, ..., -0.53426238,\n",
              "        0.49973738, -0.50594707])"
            ]
          },
          "metadata": {},
          "execution_count": 192
        }
      ]
    },
    {
      "cell_type": "markdown",
      "source": [
        "took 1 hour 12 miniutes for 10 iterations "
      ],
      "metadata": {
        "id": "rPxnWVkMFtzf"
      }
    },
    {
      "cell_type": "markdown",
      "source": [
        "# Predicting Rating Matrix with filled Values"
      ],
      "metadata": {
        "id": "fA3RTUA1msYp"
      }
    },
    {
      "cell_type": "code",
      "source": [
        "BU=bu.reshape([-1,1])"
      ],
      "metadata": {
        "id": "Rj1EwNQaxt1K"
      },
      "execution_count": null,
      "outputs": []
    },
    {
      "cell_type": "code",
      "source": [
        "BI = bi.reshape([-1,1])"
      ],
      "metadata": {
        "id": "IvEib1Jnx2SX"
      },
      "execution_count": null,
      "outputs": []
    },
    {
      "cell_type": "code",
      "source": [
        "R= np.dot(BU,BI.T)"
      ],
      "metadata": {
        "id": "CQ9dsINJmxBT"
      },
      "execution_count": null,
      "outputs": []
    },
    {
      "cell_type": "code",
      "source": [
        "R_ = R+mu"
      ],
      "metadata": {
        "id": "1efydG_UyODq"
      },
      "execution_count": null,
      "outputs": []
    },
    {
      "cell_type": "code",
      "source": [
        "R_"
      ],
      "metadata": {
        "colab": {
          "base_uri": "https://localhost:8080/"
        },
        "id": "CaVj3QyTyEvw",
        "outputId": "a6164d24-8c69-4bf2-a56d-319ca1905c2b"
      },
      "execution_count": null,
      "outputs": [
        {
          "output_type": "execute_result",
          "data": {
            "text/plain": [
              "array([[5.55798508, 4.36531392, 5.40550969, ..., 5.26718801, 4.13432405,\n",
              "        5.23616537],\n",
              "       [4.75136718, 4.65672559, 4.73926785, ..., 4.72829167, 4.63839593,\n",
              "        4.72582994],\n",
              "       [4.3572091 , 4.79912543, 4.41370528, ..., 4.46495714, 4.8847133 ,\n",
              "        4.47645185],\n",
              "       ...,\n",
              "       [4.76381524, 4.6522284 , 4.74954957, ..., 4.73660814, 4.63061689,\n",
              "        4.73370564],\n",
              "       [5.7767626 , 4.28627486, 5.58621327, ..., 5.41335189, 3.99760555,\n",
              "        5.37458272],\n",
              "       [4.40616625, 4.78143839, 4.4541424 , ..., 4.4976651 , 4.85411899,\n",
              "        4.50742633]])"
            ]
          },
          "metadata": {},
          "execution_count": 197
        }
      ]
    },
    {
      "cell_type": "code",
      "source": [
        "np.save(\"bu.npy\",BU)\n",
        "np.save(\"bi.npy\",BI)"
      ],
      "metadata": {
        "id": "mjjplvw57sBU"
      },
      "execution_count": null,
      "outputs": []
    },
    {
      "cell_type": "code",
      "source": [
        "mu"
      ],
      "metadata": {
        "colab": {
          "base_uri": "https://localhost:8080/"
        },
        "id": "kGhVM_TGHiQU",
        "outputId": "72826a8a-3dce-444e-a56d-9384e0bc2628"
      },
      "execution_count": null,
      "outputs": [
        {
          "output_type": "execute_result",
          "data": {
            "text/plain": [
              "4.6818430002382145"
            ]
          },
          "metadata": {},
          "execution_count": 200
        }
      ]
    },
    {
      "cell_type": "code",
      "source": [
        "train[mask]"
      ],
      "metadata": {
        "colab": {
          "base_uri": "https://localhost:8080/",
          "height": 423
        },
        "id": "pa-xFYkXITRu",
        "outputId": "8c8b9a74-7219-4cf7-96e7-2ba775c8b409"
      },
      "execution_count": null,
      "outputs": [
        {
          "output_type": "execute_result",
          "data": {
            "text/plain": [
              "recipe_id   52      92      93      181     205     207     240     245     \\\n",
              "1533           NaN     NaN     NaN     NaN     NaN     NaN     NaN     NaN   \n",
              "1535           NaN     NaN     NaN     NaN     NaN     NaN     NaN     NaN   \n",
              "1634           NaN     NaN     NaN     NaN     NaN     NaN     NaN     NaN   \n",
              "2310           NaN     NaN     NaN     NaN     NaN     NaN     NaN     NaN   \n",
              "2312           NaN     NaN     NaN     NaN     NaN     NaN     NaN     NaN   \n",
              "...            ...     ...     ...     ...     ...     ...     ...     ...   \n",
              "1800054678     NaN     NaN     NaN     NaN     NaN     NaN     NaN     NaN   \n",
              "1802849661     NaN     NaN     NaN     NaN     NaN     NaN     NaN     NaN   \n",
              "2000431901     NaN     NaN     NaN     NaN     NaN     NaN     NaN     NaN   \n",
              "2000498330     NaN     NaN     NaN     NaN     NaN     NaN     NaN     NaN   \n",
              "2001102678     NaN     NaN     NaN     NaN     NaN     NaN     NaN     NaN   \n",
              "\n",
              "recipe_id   293     346     ...  532487  532736  532740  533125  533130  \\\n",
              "1533           NaN     NaN  ...     NaN     NaN     NaN     NaN     NaN   \n",
              "1535           NaN     NaN  ...     NaN     NaN     NaN     NaN     NaN   \n",
              "1634           NaN     NaN  ...     NaN     NaN     NaN     NaN     NaN   \n",
              "2310           NaN     NaN  ...     NaN     NaN     NaN     NaN     NaN   \n",
              "2312           NaN     NaN  ...     NaN     NaN     NaN     NaN     NaN   \n",
              "...            ...     ...  ...     ...     ...     ...     ...     ...   \n",
              "1800054678     NaN     NaN  ...     NaN     NaN     NaN     NaN     NaN   \n",
              "1802849661     NaN     NaN  ...     NaN     NaN     NaN     NaN     NaN   \n",
              "2000431901     NaN     NaN  ...     NaN     NaN     NaN     NaN     NaN   \n",
              "2000498330     NaN     NaN  ...     NaN     NaN     NaN     NaN     NaN   \n",
              "2001102678     NaN     NaN  ...     NaN     NaN     NaN     NaN     NaN   \n",
              "\n",
              "recipe_id   533250  535230  536044  536060  536729  \n",
              "1533           NaN     NaN     NaN     NaN     NaN  \n",
              "1535           NaN     NaN     NaN     NaN     NaN  \n",
              "1634           NaN     NaN     NaN     NaN     NaN  \n",
              "2310           NaN     NaN     NaN     NaN     NaN  \n",
              "2312           NaN     NaN     NaN     NaN     NaN  \n",
              "...            ...     ...     ...     ...     ...  \n",
              "1800054678     NaN     NaN     NaN     NaN     NaN  \n",
              "1802849661     NaN     NaN     NaN     NaN     NaN  \n",
              "2000431901     NaN     NaN     NaN     NaN     NaN  \n",
              "2000498330     NaN     NaN     NaN     NaN     NaN  \n",
              "2001102678     NaN     NaN     NaN     NaN     NaN  \n",
              "\n",
              "[1706 rows x 38665 columns]"
            ],
            "text/html": [
              "\n",
              "  <div id=\"df-03f90834-4b13-4d05-b617-609d29ef2956\">\n",
              "    <div class=\"colab-df-container\">\n",
              "      <div>\n",
              "<style scoped>\n",
              "    .dataframe tbody tr th:only-of-type {\n",
              "        vertical-align: middle;\n",
              "    }\n",
              "\n",
              "    .dataframe tbody tr th {\n",
              "        vertical-align: top;\n",
              "    }\n",
              "\n",
              "    .dataframe thead th {\n",
              "        text-align: right;\n",
              "    }\n",
              "</style>\n",
              "<table border=\"1\" class=\"dataframe\">\n",
              "  <thead>\n",
              "    <tr style=\"text-align: right;\">\n",
              "      <th>recipe_id</th>\n",
              "      <th>52</th>\n",
              "      <th>92</th>\n",
              "      <th>93</th>\n",
              "      <th>181</th>\n",
              "      <th>205</th>\n",
              "      <th>207</th>\n",
              "      <th>240</th>\n",
              "      <th>245</th>\n",
              "      <th>293</th>\n",
              "      <th>346</th>\n",
              "      <th>...</th>\n",
              "      <th>532487</th>\n",
              "      <th>532736</th>\n",
              "      <th>532740</th>\n",
              "      <th>533125</th>\n",
              "      <th>533130</th>\n",
              "      <th>533250</th>\n",
              "      <th>535230</th>\n",
              "      <th>536044</th>\n",
              "      <th>536060</th>\n",
              "      <th>536729</th>\n",
              "    </tr>\n",
              "  </thead>\n",
              "  <tbody>\n",
              "    <tr>\n",
              "      <th>1533</th>\n",
              "      <td>NaN</td>\n",
              "      <td>NaN</td>\n",
              "      <td>NaN</td>\n",
              "      <td>NaN</td>\n",
              "      <td>NaN</td>\n",
              "      <td>NaN</td>\n",
              "      <td>NaN</td>\n",
              "      <td>NaN</td>\n",
              "      <td>NaN</td>\n",
              "      <td>NaN</td>\n",
              "      <td>...</td>\n",
              "      <td>NaN</td>\n",
              "      <td>NaN</td>\n",
              "      <td>NaN</td>\n",
              "      <td>NaN</td>\n",
              "      <td>NaN</td>\n",
              "      <td>NaN</td>\n",
              "      <td>NaN</td>\n",
              "      <td>NaN</td>\n",
              "      <td>NaN</td>\n",
              "      <td>NaN</td>\n",
              "    </tr>\n",
              "    <tr>\n",
              "      <th>1535</th>\n",
              "      <td>NaN</td>\n",
              "      <td>NaN</td>\n",
              "      <td>NaN</td>\n",
              "      <td>NaN</td>\n",
              "      <td>NaN</td>\n",
              "      <td>NaN</td>\n",
              "      <td>NaN</td>\n",
              "      <td>NaN</td>\n",
              "      <td>NaN</td>\n",
              "      <td>NaN</td>\n",
              "      <td>...</td>\n",
              "      <td>NaN</td>\n",
              "      <td>NaN</td>\n",
              "      <td>NaN</td>\n",
              "      <td>NaN</td>\n",
              "      <td>NaN</td>\n",
              "      <td>NaN</td>\n",
              "      <td>NaN</td>\n",
              "      <td>NaN</td>\n",
              "      <td>NaN</td>\n",
              "      <td>NaN</td>\n",
              "    </tr>\n",
              "    <tr>\n",
              "      <th>1634</th>\n",
              "      <td>NaN</td>\n",
              "      <td>NaN</td>\n",
              "      <td>NaN</td>\n",
              "      <td>NaN</td>\n",
              "      <td>NaN</td>\n",
              "      <td>NaN</td>\n",
              "      <td>NaN</td>\n",
              "      <td>NaN</td>\n",
              "      <td>NaN</td>\n",
              "      <td>NaN</td>\n",
              "      <td>...</td>\n",
              "      <td>NaN</td>\n",
              "      <td>NaN</td>\n",
              "      <td>NaN</td>\n",
              "      <td>NaN</td>\n",
              "      <td>NaN</td>\n",
              "      <td>NaN</td>\n",
              "      <td>NaN</td>\n",
              "      <td>NaN</td>\n",
              "      <td>NaN</td>\n",
              "      <td>NaN</td>\n",
              "    </tr>\n",
              "    <tr>\n",
              "      <th>2310</th>\n",
              "      <td>NaN</td>\n",
              "      <td>NaN</td>\n",
              "      <td>NaN</td>\n",
              "      <td>NaN</td>\n",
              "      <td>NaN</td>\n",
              "      <td>NaN</td>\n",
              "      <td>NaN</td>\n",
              "      <td>NaN</td>\n",
              "      <td>NaN</td>\n",
              "      <td>NaN</td>\n",
              "      <td>...</td>\n",
              "      <td>NaN</td>\n",
              "      <td>NaN</td>\n",
              "      <td>NaN</td>\n",
              "      <td>NaN</td>\n",
              "      <td>NaN</td>\n",
              "      <td>NaN</td>\n",
              "      <td>NaN</td>\n",
              "      <td>NaN</td>\n",
              "      <td>NaN</td>\n",
              "      <td>NaN</td>\n",
              "    </tr>\n",
              "    <tr>\n",
              "      <th>2312</th>\n",
              "      <td>NaN</td>\n",
              "      <td>NaN</td>\n",
              "      <td>NaN</td>\n",
              "      <td>NaN</td>\n",
              "      <td>NaN</td>\n",
              "      <td>NaN</td>\n",
              "      <td>NaN</td>\n",
              "      <td>NaN</td>\n",
              "      <td>NaN</td>\n",
              "      <td>NaN</td>\n",
              "      <td>...</td>\n",
              "      <td>NaN</td>\n",
              "      <td>NaN</td>\n",
              "      <td>NaN</td>\n",
              "      <td>NaN</td>\n",
              "      <td>NaN</td>\n",
              "      <td>NaN</td>\n",
              "      <td>NaN</td>\n",
              "      <td>NaN</td>\n",
              "      <td>NaN</td>\n",
              "      <td>NaN</td>\n",
              "    </tr>\n",
              "    <tr>\n",
              "      <th>...</th>\n",
              "      <td>...</td>\n",
              "      <td>...</td>\n",
              "      <td>...</td>\n",
              "      <td>...</td>\n",
              "      <td>...</td>\n",
              "      <td>...</td>\n",
              "      <td>...</td>\n",
              "      <td>...</td>\n",
              "      <td>...</td>\n",
              "      <td>...</td>\n",
              "      <td>...</td>\n",
              "      <td>...</td>\n",
              "      <td>...</td>\n",
              "      <td>...</td>\n",
              "      <td>...</td>\n",
              "      <td>...</td>\n",
              "      <td>...</td>\n",
              "      <td>...</td>\n",
              "      <td>...</td>\n",
              "      <td>...</td>\n",
              "      <td>...</td>\n",
              "    </tr>\n",
              "    <tr>\n",
              "      <th>1800054678</th>\n",
              "      <td>NaN</td>\n",
              "      <td>NaN</td>\n",
              "      <td>NaN</td>\n",
              "      <td>NaN</td>\n",
              "      <td>NaN</td>\n",
              "      <td>NaN</td>\n",
              "      <td>NaN</td>\n",
              "      <td>NaN</td>\n",
              "      <td>NaN</td>\n",
              "      <td>NaN</td>\n",
              "      <td>...</td>\n",
              "      <td>NaN</td>\n",
              "      <td>NaN</td>\n",
              "      <td>NaN</td>\n",
              "      <td>NaN</td>\n",
              "      <td>NaN</td>\n",
              "      <td>NaN</td>\n",
              "      <td>NaN</td>\n",
              "      <td>NaN</td>\n",
              "      <td>NaN</td>\n",
              "      <td>NaN</td>\n",
              "    </tr>\n",
              "    <tr>\n",
              "      <th>1802849661</th>\n",
              "      <td>NaN</td>\n",
              "      <td>NaN</td>\n",
              "      <td>NaN</td>\n",
              "      <td>NaN</td>\n",
              "      <td>NaN</td>\n",
              "      <td>NaN</td>\n",
              "      <td>NaN</td>\n",
              "      <td>NaN</td>\n",
              "      <td>NaN</td>\n",
              "      <td>NaN</td>\n",
              "      <td>...</td>\n",
              "      <td>NaN</td>\n",
              "      <td>NaN</td>\n",
              "      <td>NaN</td>\n",
              "      <td>NaN</td>\n",
              "      <td>NaN</td>\n",
              "      <td>NaN</td>\n",
              "      <td>NaN</td>\n",
              "      <td>NaN</td>\n",
              "      <td>NaN</td>\n",
              "      <td>NaN</td>\n",
              "    </tr>\n",
              "    <tr>\n",
              "      <th>2000431901</th>\n",
              "      <td>NaN</td>\n",
              "      <td>NaN</td>\n",
              "      <td>NaN</td>\n",
              "      <td>NaN</td>\n",
              "      <td>NaN</td>\n",
              "      <td>NaN</td>\n",
              "      <td>NaN</td>\n",
              "      <td>NaN</td>\n",
              "      <td>NaN</td>\n",
              "      <td>NaN</td>\n",
              "      <td>...</td>\n",
              "      <td>NaN</td>\n",
              "      <td>NaN</td>\n",
              "      <td>NaN</td>\n",
              "      <td>NaN</td>\n",
              "      <td>NaN</td>\n",
              "      <td>NaN</td>\n",
              "      <td>NaN</td>\n",
              "      <td>NaN</td>\n",
              "      <td>NaN</td>\n",
              "      <td>NaN</td>\n",
              "    </tr>\n",
              "    <tr>\n",
              "      <th>2000498330</th>\n",
              "      <td>NaN</td>\n",
              "      <td>NaN</td>\n",
              "      <td>NaN</td>\n",
              "      <td>NaN</td>\n",
              "      <td>NaN</td>\n",
              "      <td>NaN</td>\n",
              "      <td>NaN</td>\n",
              "      <td>NaN</td>\n",
              "      <td>NaN</td>\n",
              "      <td>NaN</td>\n",
              "      <td>...</td>\n",
              "      <td>NaN</td>\n",
              "      <td>NaN</td>\n",
              "      <td>NaN</td>\n",
              "      <td>NaN</td>\n",
              "      <td>NaN</td>\n",
              "      <td>NaN</td>\n",
              "      <td>NaN</td>\n",
              "      <td>NaN</td>\n",
              "      <td>NaN</td>\n",
              "      <td>NaN</td>\n",
              "    </tr>\n",
              "    <tr>\n",
              "      <th>2001102678</th>\n",
              "      <td>NaN</td>\n",
              "      <td>NaN</td>\n",
              "      <td>NaN</td>\n",
              "      <td>NaN</td>\n",
              "      <td>NaN</td>\n",
              "      <td>NaN</td>\n",
              "      <td>NaN</td>\n",
              "      <td>NaN</td>\n",
              "      <td>NaN</td>\n",
              "      <td>NaN</td>\n",
              "      <td>...</td>\n",
              "      <td>NaN</td>\n",
              "      <td>NaN</td>\n",
              "      <td>NaN</td>\n",
              "      <td>NaN</td>\n",
              "      <td>NaN</td>\n",
              "      <td>NaN</td>\n",
              "      <td>NaN</td>\n",
              "      <td>NaN</td>\n",
              "      <td>NaN</td>\n",
              "      <td>NaN</td>\n",
              "    </tr>\n",
              "  </tbody>\n",
              "</table>\n",
              "<p>1706 rows × 38665 columns</p>\n",
              "</div>\n",
              "      <button class=\"colab-df-convert\" onclick=\"convertToInteractive('df-03f90834-4b13-4d05-b617-609d29ef2956')\"\n",
              "              title=\"Convert this dataframe to an interactive table.\"\n",
              "              style=\"display:none;\">\n",
              "        \n",
              "  <svg xmlns=\"http://www.w3.org/2000/svg\" height=\"24px\"viewBox=\"0 0 24 24\"\n",
              "       width=\"24px\">\n",
              "    <path d=\"M0 0h24v24H0V0z\" fill=\"none\"/>\n",
              "    <path d=\"M18.56 5.44l.94 2.06.94-2.06 2.06-.94-2.06-.94-.94-2.06-.94 2.06-2.06.94zm-11 1L8.5 8.5l.94-2.06 2.06-.94-2.06-.94L8.5 2.5l-.94 2.06-2.06.94zm10 10l.94 2.06.94-2.06 2.06-.94-2.06-.94-.94-2.06-.94 2.06-2.06.94z\"/><path d=\"M17.41 7.96l-1.37-1.37c-.4-.4-.92-.59-1.43-.59-.52 0-1.04.2-1.43.59L10.3 9.45l-7.72 7.72c-.78.78-.78 2.05 0 2.83L4 21.41c.39.39.9.59 1.41.59.51 0 1.02-.2 1.41-.59l7.78-7.78 2.81-2.81c.8-.78.8-2.07 0-2.86zM5.41 20L4 18.59l7.72-7.72 1.47 1.35L5.41 20z\"/>\n",
              "  </svg>\n",
              "      </button>\n",
              "      \n",
              "  <style>\n",
              "    .colab-df-container {\n",
              "      display:flex;\n",
              "      flex-wrap:wrap;\n",
              "      gap: 12px;\n",
              "    }\n",
              "\n",
              "    .colab-df-convert {\n",
              "      background-color: #E8F0FE;\n",
              "      border: none;\n",
              "      border-radius: 50%;\n",
              "      cursor: pointer;\n",
              "      display: none;\n",
              "      fill: #1967D2;\n",
              "      height: 32px;\n",
              "      padding: 0 0 0 0;\n",
              "      width: 32px;\n",
              "    }\n",
              "\n",
              "    .colab-df-convert:hover {\n",
              "      background-color: #E2EBFA;\n",
              "      box-shadow: 0px 1px 2px rgba(60, 64, 67, 0.3), 0px 1px 3px 1px rgba(60, 64, 67, 0.15);\n",
              "      fill: #174EA6;\n",
              "    }\n",
              "\n",
              "    [theme=dark] .colab-df-convert {\n",
              "      background-color: #3B4455;\n",
              "      fill: #D2E3FC;\n",
              "    }\n",
              "\n",
              "    [theme=dark] .colab-df-convert:hover {\n",
              "      background-color: #434B5C;\n",
              "      box-shadow: 0px 1px 3px 1px rgba(0, 0, 0, 0.15);\n",
              "      filter: drop-shadow(0px 1px 2px rgba(0, 0, 0, 0.3));\n",
              "      fill: #FFFFFF;\n",
              "    }\n",
              "  </style>\n",
              "\n",
              "      <script>\n",
              "        const buttonEl =\n",
              "          document.querySelector('#df-03f90834-4b13-4d05-b617-609d29ef2956 button.colab-df-convert');\n",
              "        buttonEl.style.display =\n",
              "          google.colab.kernel.accessAllowed ? 'block' : 'none';\n",
              "\n",
              "        async function convertToInteractive(key) {\n",
              "          const element = document.querySelector('#df-03f90834-4b13-4d05-b617-609d29ef2956');\n",
              "          const dataTable =\n",
              "            await google.colab.kernel.invokeFunction('convertToInteractive',\n",
              "                                                     [key], {});\n",
              "          if (!dataTable) return;\n",
              "\n",
              "          const docLinkHtml = 'Like what you see? Visit the ' +\n",
              "            '<a target=\"_blank\" href=https://colab.research.google.com/notebooks/data_table.ipynb>data table notebook</a>'\n",
              "            + ' to learn more about interactive tables.';\n",
              "          element.innerHTML = '';\n",
              "          dataTable['output_type'] = 'display_data';\n",
              "          await google.colab.output.renderOutput(dataTable, element);\n",
              "          const docLink = document.createElement('div');\n",
              "          docLink.innerHTML = docLinkHtml;\n",
              "          element.appendChild(docLink);\n",
              "        }\n",
              "      </script>\n",
              "    </div>\n",
              "  </div>\n",
              "  "
            ]
          },
          "metadata": {},
          "execution_count": 203
        }
      ]
    },
    {
      "cell_type": "code",
      "source": [
        "diff = train[mask] - R_\n",
        "\n",
        "# square the differences\n",
        "squared_diff = np.square(diff)\n",
        "\n",
        "# take mean of the squared differences\n",
        "mean_squared_diff = np.mean(squared_diff)\n",
        "mean_squared_diff = (np.nansum(mean_squared_diff)/np.count_nonzero(~np.isnan(mean_squared_diff)))\n",
        "# take square root of the mean\n",
        "rmse = np.sqrt(mean_squared_diff)\n"
      ],
      "metadata": {
        "id": "QkMyikSEIGf2"
      },
      "execution_count": null,
      "outputs": []
    },
    {
      "cell_type": "code",
      "source": [
        "rmse"
      ],
      "metadata": {
        "colab": {
          "base_uri": "https://localhost:8080/"
        },
        "id": "X3MMDGHGIZwm",
        "outputId": "7b414aef-2590-43dc-ee93-bc7ba28e3960"
      },
      "execution_count": null,
      "outputs": [
        {
          "output_type": "execute_result",
          "data": {
            "text/plain": [
              "0.7199813462498669"
            ]
          },
          "metadata": {},
          "execution_count": 212
        }
      ]
    },
    {
      "cell_type": "markdown",
      "source": [
        "## Creating Recipe Name Dictionary"
      ],
      "metadata": {
        "id": "F9r5cQ1McJ6S"
      }
    },
    {
      "cell_type": "code",
      "source": [
        "ds =pd.read_csv(\"/content/drive/MyDrive/RS Data/Assignment 2/RAW_recipes.csv\")\n",
        "ds.head()"
      ],
      "metadata": {
        "colab": {
          "base_uri": "https://localhost:8080/",
          "height": 354
        },
        "id": "G_z_y2lFc4XY",
        "outputId": "51d4150e-ba11-44c2-ebb9-fc37912738a9"
      },
      "execution_count": null,
      "outputs": [
        {
          "output_type": "execute_result",
          "data": {
            "text/plain": [
              "                                         name      id  minutes  \\\n",
              "0  arriba   baked winter squash mexican style  137739       55   \n",
              "1            a bit different  breakfast pizza   31490       30   \n",
              "2                   all in the kitchen  chili  112140      130   \n",
              "3                          alouette  potatoes   59389       45   \n",
              "4          amish  tomato ketchup  for canning   44061      190   \n",
              "\n",
              "   contributor_id   submitted  \\\n",
              "0           47892  2005-09-16   \n",
              "1           26278  2002-06-17   \n",
              "2          196586  2005-02-25   \n",
              "3           68585  2003-04-14   \n",
              "4           41706  2002-10-25   \n",
              "\n",
              "                                                tags  \\\n",
              "0  ['60-minutes-or-less', 'time-to-make', 'course...   \n",
              "1  ['30-minutes-or-less', 'time-to-make', 'course...   \n",
              "2  ['time-to-make', 'course', 'preparation', 'mai...   \n",
              "3  ['60-minutes-or-less', 'time-to-make', 'course...   \n",
              "4  ['weeknight', 'time-to-make', 'course', 'main-...   \n",
              "\n",
              "                                    nutrition  n_steps  \\\n",
              "0       [51.5, 0.0, 13.0, 0.0, 2.0, 0.0, 4.0]       11   \n",
              "1   [173.4, 18.0, 0.0, 17.0, 22.0, 35.0, 1.0]        9   \n",
              "2  [269.8, 22.0, 32.0, 48.0, 39.0, 27.0, 5.0]        6   \n",
              "3   [368.1, 17.0, 10.0, 2.0, 14.0, 8.0, 20.0]       11   \n",
              "4   [352.9, 1.0, 337.0, 23.0, 3.0, 0.0, 28.0]        5   \n",
              "\n",
              "                                               steps  \\\n",
              "0  ['make a choice and proceed with recipe', 'dep...   \n",
              "1  ['preheat oven to 425 degrees f', 'press dough...   \n",
              "2  ['brown ground beef in large pot', 'add choppe...   \n",
              "3  ['place potatoes in a large pot of lightly sal...   \n",
              "4  ['mix all ingredients& boil for 2 1 / 2 hours ...   \n",
              "\n",
              "                                         description  \\\n",
              "0  autumn is my favorite time of year to cook! th...   \n",
              "1  this recipe calls for the crust to be prebaked...   \n",
              "2  this modified version of 'mom's' chili was a h...   \n",
              "3  this is a super easy, great tasting, make ahea...   \n",
              "4  my dh's amish mother raised him on this recipe...   \n",
              "\n",
              "                                         ingredients  n_ingredients  \n",
              "0  ['winter squash', 'mexican seasoning', 'mixed ...              7  \n",
              "1  ['prepared pizza crust', 'sausage patty', 'egg...              6  \n",
              "2  ['ground beef', 'yellow onions', 'diced tomato...             13  \n",
              "3  ['spreadable cheese with garlic and herbs', 'n...             11  \n",
              "4  ['tomato juice', 'apple cider vinegar', 'sugar...              8  "
            ],
            "text/html": [
              "\n",
              "  <div id=\"df-ee42a593-9980-49fa-b062-08e2a8ee9780\">\n",
              "    <div class=\"colab-df-container\">\n",
              "      <div>\n",
              "<style scoped>\n",
              "    .dataframe tbody tr th:only-of-type {\n",
              "        vertical-align: middle;\n",
              "    }\n",
              "\n",
              "    .dataframe tbody tr th {\n",
              "        vertical-align: top;\n",
              "    }\n",
              "\n",
              "    .dataframe thead th {\n",
              "        text-align: right;\n",
              "    }\n",
              "</style>\n",
              "<table border=\"1\" class=\"dataframe\">\n",
              "  <thead>\n",
              "    <tr style=\"text-align: right;\">\n",
              "      <th></th>\n",
              "      <th>name</th>\n",
              "      <th>id</th>\n",
              "      <th>minutes</th>\n",
              "      <th>contributor_id</th>\n",
              "      <th>submitted</th>\n",
              "      <th>tags</th>\n",
              "      <th>nutrition</th>\n",
              "      <th>n_steps</th>\n",
              "      <th>steps</th>\n",
              "      <th>description</th>\n",
              "      <th>ingredients</th>\n",
              "      <th>n_ingredients</th>\n",
              "    </tr>\n",
              "  </thead>\n",
              "  <tbody>\n",
              "    <tr>\n",
              "      <th>0</th>\n",
              "      <td>arriba   baked winter squash mexican style</td>\n",
              "      <td>137739</td>\n",
              "      <td>55</td>\n",
              "      <td>47892</td>\n",
              "      <td>2005-09-16</td>\n",
              "      <td>['60-minutes-or-less', 'time-to-make', 'course...</td>\n",
              "      <td>[51.5, 0.0, 13.0, 0.0, 2.0, 0.0, 4.0]</td>\n",
              "      <td>11</td>\n",
              "      <td>['make a choice and proceed with recipe', 'dep...</td>\n",
              "      <td>autumn is my favorite time of year to cook! th...</td>\n",
              "      <td>['winter squash', 'mexican seasoning', 'mixed ...</td>\n",
              "      <td>7</td>\n",
              "    </tr>\n",
              "    <tr>\n",
              "      <th>1</th>\n",
              "      <td>a bit different  breakfast pizza</td>\n",
              "      <td>31490</td>\n",
              "      <td>30</td>\n",
              "      <td>26278</td>\n",
              "      <td>2002-06-17</td>\n",
              "      <td>['30-minutes-or-less', 'time-to-make', 'course...</td>\n",
              "      <td>[173.4, 18.0, 0.0, 17.0, 22.0, 35.0, 1.0]</td>\n",
              "      <td>9</td>\n",
              "      <td>['preheat oven to 425 degrees f', 'press dough...</td>\n",
              "      <td>this recipe calls for the crust to be prebaked...</td>\n",
              "      <td>['prepared pizza crust', 'sausage patty', 'egg...</td>\n",
              "      <td>6</td>\n",
              "    </tr>\n",
              "    <tr>\n",
              "      <th>2</th>\n",
              "      <td>all in the kitchen  chili</td>\n",
              "      <td>112140</td>\n",
              "      <td>130</td>\n",
              "      <td>196586</td>\n",
              "      <td>2005-02-25</td>\n",
              "      <td>['time-to-make', 'course', 'preparation', 'mai...</td>\n",
              "      <td>[269.8, 22.0, 32.0, 48.0, 39.0, 27.0, 5.0]</td>\n",
              "      <td>6</td>\n",
              "      <td>['brown ground beef in large pot', 'add choppe...</td>\n",
              "      <td>this modified version of 'mom's' chili was a h...</td>\n",
              "      <td>['ground beef', 'yellow onions', 'diced tomato...</td>\n",
              "      <td>13</td>\n",
              "    </tr>\n",
              "    <tr>\n",
              "      <th>3</th>\n",
              "      <td>alouette  potatoes</td>\n",
              "      <td>59389</td>\n",
              "      <td>45</td>\n",
              "      <td>68585</td>\n",
              "      <td>2003-04-14</td>\n",
              "      <td>['60-minutes-or-less', 'time-to-make', 'course...</td>\n",
              "      <td>[368.1, 17.0, 10.0, 2.0, 14.0, 8.0, 20.0]</td>\n",
              "      <td>11</td>\n",
              "      <td>['place potatoes in a large pot of lightly sal...</td>\n",
              "      <td>this is a super easy, great tasting, make ahea...</td>\n",
              "      <td>['spreadable cheese with garlic and herbs', 'n...</td>\n",
              "      <td>11</td>\n",
              "    </tr>\n",
              "    <tr>\n",
              "      <th>4</th>\n",
              "      <td>amish  tomato ketchup  for canning</td>\n",
              "      <td>44061</td>\n",
              "      <td>190</td>\n",
              "      <td>41706</td>\n",
              "      <td>2002-10-25</td>\n",
              "      <td>['weeknight', 'time-to-make', 'course', 'main-...</td>\n",
              "      <td>[352.9, 1.0, 337.0, 23.0, 3.0, 0.0, 28.0]</td>\n",
              "      <td>5</td>\n",
              "      <td>['mix all ingredients&amp; boil for 2 1 / 2 hours ...</td>\n",
              "      <td>my dh's amish mother raised him on this recipe...</td>\n",
              "      <td>['tomato juice', 'apple cider vinegar', 'sugar...</td>\n",
              "      <td>8</td>\n",
              "    </tr>\n",
              "  </tbody>\n",
              "</table>\n",
              "</div>\n",
              "      <button class=\"colab-df-convert\" onclick=\"convertToInteractive('df-ee42a593-9980-49fa-b062-08e2a8ee9780')\"\n",
              "              title=\"Convert this dataframe to an interactive table.\"\n",
              "              style=\"display:none;\">\n",
              "        \n",
              "  <svg xmlns=\"http://www.w3.org/2000/svg\" height=\"24px\"viewBox=\"0 0 24 24\"\n",
              "       width=\"24px\">\n",
              "    <path d=\"M0 0h24v24H0V0z\" fill=\"none\"/>\n",
              "    <path d=\"M18.56 5.44l.94 2.06.94-2.06 2.06-.94-2.06-.94-.94-2.06-.94 2.06-2.06.94zm-11 1L8.5 8.5l.94-2.06 2.06-.94-2.06-.94L8.5 2.5l-.94 2.06-2.06.94zm10 10l.94 2.06.94-2.06 2.06-.94-2.06-.94-.94-2.06-.94 2.06-2.06.94z\"/><path d=\"M17.41 7.96l-1.37-1.37c-.4-.4-.92-.59-1.43-.59-.52 0-1.04.2-1.43.59L10.3 9.45l-7.72 7.72c-.78.78-.78 2.05 0 2.83L4 21.41c.39.39.9.59 1.41.59.51 0 1.02-.2 1.41-.59l7.78-7.78 2.81-2.81c.8-.78.8-2.07 0-2.86zM5.41 20L4 18.59l7.72-7.72 1.47 1.35L5.41 20z\"/>\n",
              "  </svg>\n",
              "      </button>\n",
              "      \n",
              "  <style>\n",
              "    .colab-df-container {\n",
              "      display:flex;\n",
              "      flex-wrap:wrap;\n",
              "      gap: 12px;\n",
              "    }\n",
              "\n",
              "    .colab-df-convert {\n",
              "      background-color: #E8F0FE;\n",
              "      border: none;\n",
              "      border-radius: 50%;\n",
              "      cursor: pointer;\n",
              "      display: none;\n",
              "      fill: #1967D2;\n",
              "      height: 32px;\n",
              "      padding: 0 0 0 0;\n",
              "      width: 32px;\n",
              "    }\n",
              "\n",
              "    .colab-df-convert:hover {\n",
              "      background-color: #E2EBFA;\n",
              "      box-shadow: 0px 1px 2px rgba(60, 64, 67, 0.3), 0px 1px 3px 1px rgba(60, 64, 67, 0.15);\n",
              "      fill: #174EA6;\n",
              "    }\n",
              "\n",
              "    [theme=dark] .colab-df-convert {\n",
              "      background-color: #3B4455;\n",
              "      fill: #D2E3FC;\n",
              "    }\n",
              "\n",
              "    [theme=dark] .colab-df-convert:hover {\n",
              "      background-color: #434B5C;\n",
              "      box-shadow: 0px 1px 3px 1px rgba(0, 0, 0, 0.15);\n",
              "      filter: drop-shadow(0px 1px 2px rgba(0, 0, 0, 0.3));\n",
              "      fill: #FFFFFF;\n",
              "    }\n",
              "  </style>\n",
              "\n",
              "      <script>\n",
              "        const buttonEl =\n",
              "          document.querySelector('#df-ee42a593-9980-49fa-b062-08e2a8ee9780 button.colab-df-convert');\n",
              "        buttonEl.style.display =\n",
              "          google.colab.kernel.accessAllowed ? 'block' : 'none';\n",
              "\n",
              "        async function convertToInteractive(key) {\n",
              "          const element = document.querySelector('#df-ee42a593-9980-49fa-b062-08e2a8ee9780');\n",
              "          const dataTable =\n",
              "            await google.colab.kernel.invokeFunction('convertToInteractive',\n",
              "                                                     [key], {});\n",
              "          if (!dataTable) return;\n",
              "\n",
              "          const docLinkHtml = 'Like what you see? Visit the ' +\n",
              "            '<a target=\"_blank\" href=https://colab.research.google.com/notebooks/data_table.ipynb>data table notebook</a>'\n",
              "            + ' to learn more about interactive tables.';\n",
              "          element.innerHTML = '';\n",
              "          dataTable['output_type'] = 'display_data';\n",
              "          await google.colab.output.renderOutput(dataTable, element);\n",
              "          const docLink = document.createElement('div');\n",
              "          docLink.innerHTML = docLinkHtml;\n",
              "          element.appendChild(docLink);\n",
              "        }\n",
              "      </script>\n",
              "    </div>\n",
              "  </div>\n",
              "  "
            ]
          },
          "metadata": {},
          "execution_count": 308
        }
      ]
    },
    {
      "cell_type": "code",
      "source": [
        "recipe_dict = {recipe_id: ds.loc[ds['id'] == recipe_id, 'name'].iloc[0] for recipe_id in train.keys()}"
      ],
      "metadata": {
        "id": "FUBM6_qTcOgS"
      },
      "execution_count": null,
      "outputs": []
    },
    {
      "cell_type": "code",
      "source": [
        "recipe_dict"
      ],
      "metadata": {
        "id": "EvVkss_jcOiz"
      },
      "execution_count": null,
      "outputs": []
    },
    {
      "cell_type": "code",
      "source": [
        "with open('recipe_names.pkl', 'wb') as fp:\n",
        "    pickle.dump(recipe_dict, fp)\n",
        "    print('dictionary saved successfully to file')"
      ],
      "metadata": {
        "colab": {
          "base_uri": "https://localhost:8080/"
        },
        "id": "3uoVDRaBdbfs",
        "outputId": "0a9109c2-b0a8-48ce-def3-61d8dbc21272"
      },
      "execution_count": null,
      "outputs": [
        {
          "output_type": "stream",
          "name": "stdout",
          "text": [
            "dictionary saved successfully to file\n"
          ]
        }
      ]
    },
    {
      "cell_type": "markdown",
      "source": [
        "# Run From Here to directly use the Recommendation System"
      ],
      "metadata": {
        "id": "V6ZrJt_alymO"
      }
    },
    {
      "cell_type": "markdown",
      "source": [
        "## Loading Parameters"
      ],
      "metadata": {
        "id": "_cJaiu-LHa0M"
      }
    },
    {
      "cell_type": "code",
      "source": [
        "mu= 4.6818430002382145\n",
        "rating = pd.read_csv(\"/content/drive/MyDrive/RS Data/Assignment 2/Baseline/Train_data.csv\") # Empty Rating Matrix\n",
        "bi =np.load(\"/content/drive/MyDrive/RS Data/Assignment 2/Baseline/bi.npy\")\n",
        "bu =np.load(\"/content/drive/MyDrive/RS Data/Assignment 2/Baseline/bi.npy\")\n"
      ],
      "metadata": {
        "id": "Bb524sJL7yEF"
      },
      "execution_count": null,
      "outputs": []
    },
    {
      "cell_type": "code",
      "source": [
        "with open('/content/drive/MyDrive/RS Data/Assignment 2/Baseline/recipe_names.pkl', 'rb') as fp:\n",
        "    names = pickle.load(fp)\n",
        "    print('Recipe_Name dictionary imported successfully')\n",
        "    "
      ],
      "metadata": {
        "colab": {
          "base_uri": "https://localhost:8080/"
        },
        "id": "BylU7OlbbrWa",
        "outputId": "3c9b2cee-aef1-4771-83c0-f5aaf66458e1"
      },
      "execution_count": null,
      "outputs": [
        {
          "output_type": "stream",
          "name": "stdout",
          "text": [
            "Recipe_Name dictionary imported successfully\n"
          ]
        }
      ]
    },
    {
      "cell_type": "markdown",
      "source": [
        "# Recommendation System"
      ],
      "metadata": {
        "id": "-YIY7r8iKMd9"
      }
    },
    {
      "cell_type": "code",
      "source": [
        "class Recommendation_system():\n",
        "  def __init__(self,train,mu,bi,bu,names):\n",
        "    self.train = train\n",
        "    self.mu = mu\n",
        "    self.bi = bi\n",
        "    self.bu = bu\n",
        "    self.R_ = self.mu + np.dot(self.bu,self.bi.T)\n",
        "    self.dct = {user_id: index for index, user_id in enumerate(self.train.index)}\n",
        "    self.rec_name = names\n",
        "  \n",
        "  def BaseLine(self):\n",
        "\n",
        "    user_id = int(input(\"Enter Your User Id:  \"))\n",
        "    os.system('cls')\n",
        "    print(\"\\n\\n\")\n",
        "    \n",
        "    print(f\"Welcome User {user_id}\")\n",
        "    print(\"\\n\\n\")\n",
        "    \n",
        "    uid = self.dct[user_id]\n",
        "    unrated_items = np.where(self.train.iloc[uid, :] == 0)[0]\n",
        "\n",
        "    # Sort the predicted ratings for unrated items in descending order\n",
        "    sorted_ratings = np.argsort(self.R_[uid, unrated_items])[::-1]\n",
        "\n",
        "    # Recommend the top N items to the user\n",
        "    N = 5\n",
        "    recommended_items = unrated_items[sorted_ratings][:N]\n",
        "    print(f\" We have these recommendations for you today: \\n \")\n",
        "    new_dict = {}\n",
        "    for idx in recommended_items:\n",
        "      key = list(self.rec_name.keys())[idx]\n",
        "      value = self.rec_name[key]\n",
        "      new_dict[key] = value\n",
        "\n",
        "    output_df = pd.DataFrame.from_dict(new_dict, orient='index', columns=['Recpie_Name'])\n",
        "    output_df = output_df.rename_axis('Recipe_ID')\n",
        "    display(output_df)\n",
        "    return recommended_items\n",
        "\n",
        "  def get_recommendations(self):\n",
        "    os.system('cls')\n",
        "    print(\"You are using Baseline Estimated Recommendation System\")\n",
        "    self.BaseLine()"
      ],
      "metadata": {
        "id": "ZBlhvkiNKn_u"
      },
      "execution_count": null,
      "outputs": []
    },
    {
      "cell_type": "code",
      "source": [
        "RS=Recommendation_system(train,mu,BI,BU,names)\n",
        "RS.get_recommendations()"
      ],
      "metadata": {
        "colab": {
          "base_uri": "https://localhost:8080/",
          "height": 438
        },
        "id": "oHqfH2LiY3gR",
        "outputId": "528e3cd3-eab9-481a-9499-e3d40298f20b"
      },
      "execution_count": null,
      "outputs": [
        {
          "output_type": "stream",
          "name": "stdout",
          "text": [
            "You are using Baseline Estimated Recommendation System\n",
            "Enter Your User Id:  1533\n",
            "\n",
            "\n",
            "\n",
            "Welcome User 1533\n",
            "\n",
            "\n",
            "\n",
            " We have this recommendations for you today: \n",
            " \n"
          ]
        },
        {
          "output_type": "display_data",
          "data": {
            "text/plain": [
              "                             Recpie_Name\n",
              "Recipe_ID                               \n",
              "381956              orange chicken sauce\n",
              "128158     garlic spaghetti with spinach\n",
              "484348       mexican style beer marinade\n",
              "478873              cajun rubbed tilapia\n",
              "243269           twirly veggie pinwheels"
            ],
            "text/html": [
              "\n",
              "  <div id=\"df-fec2085d-7ce3-4788-851b-24148c2b8c18\">\n",
              "    <div class=\"colab-df-container\">\n",
              "      <div>\n",
              "<style scoped>\n",
              "    .dataframe tbody tr th:only-of-type {\n",
              "        vertical-align: middle;\n",
              "    }\n",
              "\n",
              "    .dataframe tbody tr th {\n",
              "        vertical-align: top;\n",
              "    }\n",
              "\n",
              "    .dataframe thead th {\n",
              "        text-align: right;\n",
              "    }\n",
              "</style>\n",
              "<table border=\"1\" class=\"dataframe\">\n",
              "  <thead>\n",
              "    <tr style=\"text-align: right;\">\n",
              "      <th></th>\n",
              "      <th>Recpie_Name</th>\n",
              "    </tr>\n",
              "    <tr>\n",
              "      <th>Recipe_ID</th>\n",
              "      <th></th>\n",
              "    </tr>\n",
              "  </thead>\n",
              "  <tbody>\n",
              "    <tr>\n",
              "      <th>381956</th>\n",
              "      <td>orange chicken sauce</td>\n",
              "    </tr>\n",
              "    <tr>\n",
              "      <th>128158</th>\n",
              "      <td>garlic spaghetti with spinach</td>\n",
              "    </tr>\n",
              "    <tr>\n",
              "      <th>484348</th>\n",
              "      <td>mexican style beer marinade</td>\n",
              "    </tr>\n",
              "    <tr>\n",
              "      <th>478873</th>\n",
              "      <td>cajun rubbed tilapia</td>\n",
              "    </tr>\n",
              "    <tr>\n",
              "      <th>243269</th>\n",
              "      <td>twirly veggie pinwheels</td>\n",
              "    </tr>\n",
              "  </tbody>\n",
              "</table>\n",
              "</div>\n",
              "      <button class=\"colab-df-convert\" onclick=\"convertToInteractive('df-fec2085d-7ce3-4788-851b-24148c2b8c18')\"\n",
              "              title=\"Convert this dataframe to an interactive table.\"\n",
              "              style=\"display:none;\">\n",
              "        \n",
              "  <svg xmlns=\"http://www.w3.org/2000/svg\" height=\"24px\"viewBox=\"0 0 24 24\"\n",
              "       width=\"24px\">\n",
              "    <path d=\"M0 0h24v24H0V0z\" fill=\"none\"/>\n",
              "    <path d=\"M18.56 5.44l.94 2.06.94-2.06 2.06-.94-2.06-.94-.94-2.06-.94 2.06-2.06.94zm-11 1L8.5 8.5l.94-2.06 2.06-.94-2.06-.94L8.5 2.5l-.94 2.06-2.06.94zm10 10l.94 2.06.94-2.06 2.06-.94-2.06-.94-.94-2.06-.94 2.06-2.06.94z\"/><path d=\"M17.41 7.96l-1.37-1.37c-.4-.4-.92-.59-1.43-.59-.52 0-1.04.2-1.43.59L10.3 9.45l-7.72 7.72c-.78.78-.78 2.05 0 2.83L4 21.41c.39.39.9.59 1.41.59.51 0 1.02-.2 1.41-.59l7.78-7.78 2.81-2.81c.8-.78.8-2.07 0-2.86zM5.41 20L4 18.59l7.72-7.72 1.47 1.35L5.41 20z\"/>\n",
              "  </svg>\n",
              "      </button>\n",
              "      \n",
              "  <style>\n",
              "    .colab-df-container {\n",
              "      display:flex;\n",
              "      flex-wrap:wrap;\n",
              "      gap: 12px;\n",
              "    }\n",
              "\n",
              "    .colab-df-convert {\n",
              "      background-color: #E8F0FE;\n",
              "      border: none;\n",
              "      border-radius: 50%;\n",
              "      cursor: pointer;\n",
              "      display: none;\n",
              "      fill: #1967D2;\n",
              "      height: 32px;\n",
              "      padding: 0 0 0 0;\n",
              "      width: 32px;\n",
              "    }\n",
              "\n",
              "    .colab-df-convert:hover {\n",
              "      background-color: #E2EBFA;\n",
              "      box-shadow: 0px 1px 2px rgba(60, 64, 67, 0.3), 0px 1px 3px 1px rgba(60, 64, 67, 0.15);\n",
              "      fill: #174EA6;\n",
              "    }\n",
              "\n",
              "    [theme=dark] .colab-df-convert {\n",
              "      background-color: #3B4455;\n",
              "      fill: #D2E3FC;\n",
              "    }\n",
              "\n",
              "    [theme=dark] .colab-df-convert:hover {\n",
              "      background-color: #434B5C;\n",
              "      box-shadow: 0px 1px 3px 1px rgba(0, 0, 0, 0.15);\n",
              "      filter: drop-shadow(0px 1px 2px rgba(0, 0, 0, 0.3));\n",
              "      fill: #FFFFFF;\n",
              "    }\n",
              "  </style>\n",
              "\n",
              "      <script>\n",
              "        const buttonEl =\n",
              "          document.querySelector('#df-fec2085d-7ce3-4788-851b-24148c2b8c18 button.colab-df-convert');\n",
              "        buttonEl.style.display =\n",
              "          google.colab.kernel.accessAllowed ? 'block' : 'none';\n",
              "\n",
              "        async function convertToInteractive(key) {\n",
              "          const element = document.querySelector('#df-fec2085d-7ce3-4788-851b-24148c2b8c18');\n",
              "          const dataTable =\n",
              "            await google.colab.kernel.invokeFunction('convertToInteractive',\n",
              "                                                     [key], {});\n",
              "          if (!dataTable) return;\n",
              "\n",
              "          const docLinkHtml = 'Like what you see? Visit the ' +\n",
              "            '<a target=\"_blank\" href=https://colab.research.google.com/notebooks/data_table.ipynb>data table notebook</a>'\n",
              "            + ' to learn more about interactive tables.';\n",
              "          element.innerHTML = '';\n",
              "          dataTable['output_type'] = 'display_data';\n",
              "          await google.colab.output.renderOutput(dataTable, element);\n",
              "          const docLink = document.createElement('div');\n",
              "          docLink.innerHTML = docLinkHtml;\n",
              "          element.appendChild(docLink);\n",
              "        }\n",
              "      </script>\n",
              "    </div>\n",
              "  </div>\n",
              "  "
            ]
          },
          "metadata": {}
        }
      ]
    }
  ],
  "metadata": {
    "language_info": {
      "name": "python"
    },
    "orig_nbformat": 4,
    "colab": {
      "provenance": [],
      "collapsed_sections": [
        "Kfvigju6hUsd",
        "I389FJlGhc40",
        "llMQHvKKh20I",
        "fA3RTUA1msYp",
        "F9r5cQ1McJ6S"
      ]
    },
    "kernelspec": {
      "name": "python3",
      "display_name": "Python 3"
    },
    "gpuClass": "standard"
  },
  "nbformat": 4,
  "nbformat_minor": 0
}