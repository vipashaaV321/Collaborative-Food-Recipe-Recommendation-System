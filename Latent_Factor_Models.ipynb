{
  "nbformat": 4,
  "nbformat_minor": 0,
  "metadata": {
    "colab": {
      "provenance": []
    },
    "kernelspec": {
      "name": "python3",
      "display_name": "Python 3"
    },
    "language_info": {
      "name": "python"
    }
  },
  "cells": [
    {
      "cell_type": "markdown",
      "source": [
        "---\n",
        "* **Latent factor SVD**\n",
        "---\n",
        "\\begin{equation}\n",
        "\\hat{r}_{ui} = \\mu + b_u + b_i + \\sum{f=1}^{k} (q_{if} + p_{uf})\n",
        "\\end{equation}\n",
        "\n",
        "---\n",
        "* **Optimization Problem**\n",
        "---\n",
        "\\begin{equation}\n",
        "\\min_{b_u, b_i, q_i, p_u} \\sum_{(u,i) \\in R_{train}} (r_{ui} - \\hat{r}_{ui})^2 + \\lambda (||q_i||^2 + ||p_u||^2 + ||b_u||^2 + ||b_i||^2)\n",
        "\\end{equation}\n",
        "\n",
        "---\n",
        "* **Gradient Descent**\n",
        "---\n",
        "\n",
        "\\begin{equation}\n",
        "\\frac{\\partial}{\\partial b_u} = -2 (r_{ui} - \\hat{r}_{ui}) + 2 \\lambda b_u\n",
        "\\end{equation}\n",
        "\n",
        "\\begin{equation}\n",
        "\\frac{\\partial}{\\partial b_i} = -2 (r_{ui} - \\hat{r}_{ui}) + 2 \\lambda b_i\n",
        "\\end{equation}\n",
        "\n",
        "\\begin{equation}\n",
        "\\frac{\\partial}{\\partial p_{uf}} = -2 (r_{ui} - \\hat{r}{ui}) q{if} + 2 \\lambda p_{uf}\n",
        "\\end{equation}\n",
        "\n",
        "\\begin{equation}\n",
        "\\frac{\\partial}{\\partial q_{if}} = -2 (r_{ui} - \\hat{r}{ui}) p{uf} + 2 \\lambda q_{if}\n",
        "\\end{equation}\n",
        "\n",
        "---\n",
        "* **Update Rule**\n",
        "---\n",
        "\n",
        "\n",
        "\\begin{aligned}\n",
        "b_{u}^{(k+1)} &= b_{u}^{(k)} + \\gamma \\cdot \\left( \\sum_{i \\in I_u} (r_{ui} - \\mu - b_u^{(k)} - b_i^{(k)}) - \\lambda b_u^{(k)} \\right) \\\\\n",
        "b_{i}^{(k+1)} &= b_{i}^{(k)} + \\gamma \\cdot \\left( \\sum_{u \\in U_i} (r_{ui} - \\mu - b_u^{(k)} - b_i^{(k)}) - \\lambda b_i^{(k)} \\right)\n",
        "\\end{aligned}\n",
        "\n",
        "\\begin{equation}\n",
        "p_{uk}^{(t+1)} = p_{uk}^{(t)} - \\gamma \\cdot \\frac{\\partial}{\\partial p_{uk}} J(p_{uk}^{(t)}, q_{ik}^{(t)}, b_u^{(t)}, b_i^{(t)})\n",
        "\\end{equation}\n",
        "\n",
        "\\begin{equation}\n",
        "q_{ik}^{(t+1)} = q_{ik}^{(t)} - \\gamma \\cdot \\frac{\\partial}{\\partial q_{ik}} J(p_{uk}^{(t)}, q_{ik}^{(t)}, b_u^{(t)}, b_i^{(t)})\n",
        "\\end{equation}"
      ],
      "metadata": {
        "id": "q15sgtA1uFxs"
      }
    },
    {
      "cell_type": "markdown",
      "source": [
        "# Importing Libraries"
      ],
      "metadata": {
        "id": "8stZkGUvyUM1"
      }
    },
    {
      "cell_type": "code",
      "source": [
        "from google.colab import drive\n",
        "drive.mount('/content/drive')"
      ],
      "metadata": {
        "colab": {
          "base_uri": "https://localhost:8080/"
        },
        "id": "7LpcBIkYw1pf",
        "outputId": "b58ca365-e817-4f5d-aa1d-19983b085e35"
      },
      "execution_count": 1,
      "outputs": [
        {
          "output_type": "stream",
          "name": "stdout",
          "text": [
            "Mounted at /content/drive\n"
          ]
        }
      ]
    },
    {
      "cell_type": "code",
      "source": [
        "import pandas as pd\n",
        "from sklearn.model_selection import train_test_split\n",
        "import numpy as np\n",
        "import pickle\n",
        "from IPython.display import display\n",
        "import matplotlib.pyplot as plt"
      ],
      "metadata": {
        "id": "mOzlsGSxw3DE"
      },
      "execution_count": 57,
      "outputs": []
    },
    {
      "cell_type": "markdown",
      "source": [
        "# Importing Data and Preprocessing"
      ],
      "metadata": {
        "id": "6NuBeb3ByYWd"
      }
    },
    {
      "cell_type": "code",
      "source": [
        "data = pd.read_csv('/content/drive/MyDrive/RS Data/Assignment 2/short-recipes-20.csv')\n"
      ],
      "metadata": {
        "id": "ED8nty6ww6Mt"
      },
      "execution_count": 3,
      "outputs": []
    },
    {
      "cell_type": "code",
      "source": [
        "data"
      ],
      "metadata": {
        "id": "vykIugHJECFg"
      },
      "execution_count": null,
      "outputs": []
    },
    {
      "cell_type": "code",
      "source": [
        "df = data.copy()"
      ],
      "metadata": {
        "id": "Htz_5oDMw6n-"
      },
      "execution_count": 4,
      "outputs": []
    },
    {
      "cell_type": "code",
      "source": [
        "df = data.pivot_table(index='user_id',columns='recipe_id',values='rating')\n"
      ],
      "metadata": {
        "id": "KUOT2NHnw99M"
      },
      "execution_count": 5,
      "outputs": []
    },
    {
      "cell_type": "code",
      "source": [
        "zero_mask = df == 0\n",
        "train = pd.DataFrame(columns=df.columns)\n",
        "test = pd.DataFrame(columns=df.columns)\n",
        "from sklearn.model_selection import train_test_split\n",
        "\n",
        "for row_index, row_data in df.iterrows():\n",
        "  train_data, test_data = train_test_split(row_data, test_size=0.2)\n",
        "  train_data[zero_mask.loc[row_index]] = 0\n",
        "  train = train.append(train_data)\n",
        "  test = test.append(test_data)\n",
        "train = train.fillna(0)\n"
      ],
      "metadata": {
        "id": "K2DYrLO_xDlE"
      },
      "execution_count": 6,
      "outputs": []
    },
    {
      "cell_type": "code",
      "source": [
        "with open('/content/drive/MyDrive/RS Data/Assignment 2/Baseline/recipe_names.pkl', 'rb') as fp:\n",
        "    names = pickle.load(fp)\n",
        "    print('Recipe_Name dictionary imported successfully')\n",
        "    "
      ],
      "metadata": {
        "colab": {
          "base_uri": "https://localhost:8080/"
        },
        "id": "vJoCTMe-EIuA",
        "outputId": "90bc10ce-1c65-4d38-b5bb-87e21052ef04"
      },
      "execution_count": 58,
      "outputs": [
        {
          "output_type": "stream",
          "name": "stdout",
          "text": [
            "Recipe_Name dictionary imported successfully\n"
          ]
        }
      ]
    },
    {
      "cell_type": "markdown",
      "source": [
        "# Latent Factor Model and Recommendation System"
      ],
      "metadata": {
        "id": "LWXsDa2mxC3c"
      }
    },
    {
      "cell_type": "code",
      "execution_count": 64,
      "metadata": {
        "id": "PIv8MIfJuBQd"
      },
      "outputs": [],
      "source": [
        "import numpy as np\n",
        "\n",
        "class LatentFactorModel():\n",
        "    def __init__(self, X, k, names, alpha=0.01, lmbda=0.1, n_epochs=10, verbose=True):\n",
        "        self.X = X\n",
        "        self.n_users = X.shape[0] \n",
        "        self.n_items = X.shape[1]\n",
        "        self.k = k\n",
        "        self.alpha = alpha\n",
        "        self.lmbda = lmbda\n",
        "        self.n_epochs = n_epochs\n",
        "        self.verbose = verbose\n",
        "        self.rec_name = names\n",
        "    def fit(self):\n",
        "        self.P = np.random.normal(scale=1./self.k, size=(self.n_users, self.k))\n",
        "        self.Q = np.random.normal(scale=1./self.k, size=(self.k, self.n_items))\n",
        "        self.training_errors = []\n",
        "        \n",
        "        for epoch in range(self.n_epochs):\n",
        "            for i in range(self.n_users):\n",
        "                for j in (np.where(np.array(self.X.iloc[i,:]) != 0)[0]):\n",
        "\n",
        "                  eij = self.X.iloc[i, j] - self.P[i, :].dot(self.Q[:, j])\n",
        "                  self.P[i, :] += self.alpha * (eij * self.Q[:, j] - self.lmbda * self.P[i, :])\n",
        "                  self.Q[:, j] += self.alpha * (eij * self.P[i, :] - self.lmbda * self.Q[:, j])\n",
        "            \n",
        "            train_error = self.rmse(self.X)\n",
        "            self.training_errors.append(train_error)\n",
        "            \n",
        "            if self.verbose:\n",
        "                print(\"Epoch {}: Training error={:.4f}\".format(epoch+1, train_error))\n",
        "\n",
        "    def predict(self, X):\n",
        "        return self.P.dot(self.Q)\n",
        "\n",
        "    def rmse(self, X):\n",
        "        predictions = self.predict(X)\n",
        "        mask = self.X != 0\n",
        "        diff = self.X[mask] - predictions\n",
        "        squared_diff = np.square(diff)\n",
        "        mean_squared_diff = np.mean(squared_diff)\n",
        "        mean_squared_diff = (np.nansum(mean_squared_diff)/np.count_nonzero(~np.isnan(mean_squared_diff)))\n",
        "        # take square root of the mean\n",
        "        rmse = np.sqrt(mean_squared_diff)\n",
        "        return rmse\n",
        "\n",
        "    def recommend_items(self, k=10):\n",
        "      print(\"This recommendation system is based on Latent Factor Models \\n\")\n",
        "      user_id = int(input(\"Enter User ID: \"))\n",
        "      print(f\"\\n Welcome User {user_id}\")\n",
        "      predictions = self.predict(self.X)\n",
        "      user_ratings = self.X.loc[user_id, :]\n",
        "      unrated_items_mask = np.where(user_ratings == 0)\n",
        "      unrated_items_ids = unrated_items_mask[0]\n",
        "      unrated_items_pred = predictions[user_id, unrated_items_ids]\n",
        "      top_k_items = unrated_items_pred.argsort()[::-1][:k]\n",
        "      new_dict={}\n",
        "      for idx in top_k_items:\n",
        "        key = list(self.rec_name.keys())[idx]\n",
        "        value = self.rec_name[key]\n",
        "        new_dict[key] = value\n",
        "      print(\"We have these recommendations for you today: \")\n",
        "      output_df = pd.DataFrame.from_dict(new_dict, orient='index', columns=['Recpie_Name'])\n",
        "      output_df = output_df.rename_axis('Recipe_ID')\n",
        "      display(output_df)\n",
        "    \n"
      ]
    },
    {
      "cell_type": "code",
      "source": [
        "LFM5=LatentFactorModel(train,5,alpha=0.01,lmbda=0.1,n_epochs=20)\n",
        "LFM5.fit()"
      ],
      "metadata": {
        "colab": {
          "base_uri": "https://localhost:8080/"
        },
        "id": "usT7eW5y7kHT",
        "outputId": "f238bcec-0c9c-41bd-c42c-debda41810b9"
      },
      "execution_count": 55,
      "outputs": [
        {
          "output_type": "stream",
          "name": "stdout",
          "text": [
            "Epoch 1: Training error=4.7053\n",
            "Epoch 2: Training error=4.6542\n",
            "Epoch 3: Training error=4.3635\n",
            "Epoch 4: Training error=3.8022\n",
            "Epoch 5: Training error=3.2296\n",
            "Epoch 6: Training error=2.7360\n",
            "Epoch 7: Training error=2.3336\n",
            "Epoch 8: Training error=2.0063\n",
            "Epoch 9: Training error=1.7378\n",
            "Epoch 10: Training error=1.5156\n",
            "Epoch 11: Training error=1.3304\n",
            "Epoch 12: Training error=1.1753\n",
            "Epoch 13: Training error=1.0451\n",
            "Epoch 14: Training error=0.9356\n",
            "Epoch 15: Training error=0.8439\n",
            "Epoch 16: Training error=0.7670\n",
            "Epoch 17: Training error=0.7029\n",
            "Epoch 18: Training error=0.6493\n",
            "Epoch 19: Training error=0.6045\n",
            "Epoch 20: Training error=0.5671\n"
          ]
        }
      ]
    },
    {
      "cell_type": "code",
      "source": [
        "LFM=LatentFactorModel(train,50,names,alpha=0.01,lmbda=0.1,n_epochs=20)\n",
        "LFM.fit()\n"
      ],
      "metadata": {
        "colab": {
          "base_uri": "https://localhost:8080/"
        },
        "id": "wGiGSZmSxJdR",
        "outputId": "85751fe6-fab3-4cc8-e33d-9aa8a333432c"
      },
      "execution_count": 68,
      "outputs": [
        {
          "output_type": "stream",
          "name": "stdout",
          "text": [
            "Epoch 1: Training error=4.7200\n",
            "Epoch 2: Training error=4.7112\n",
            "Epoch 3: Training error=4.5783\n",
            "Epoch 4: Training error=4.0617\n",
            "Epoch 5: Training error=3.4613\n",
            "Epoch 6: Training error=2.9278\n",
            "Epoch 7: Training error=2.4890\n",
            "Epoch 8: Training error=2.1358\n",
            "Epoch 9: Training error=1.8491\n",
            "Epoch 10: Training error=1.6129\n",
            "Epoch 11: Training error=1.4160\n",
            "Epoch 12: Training error=1.2507\n",
            "Epoch 13: Training error=1.1113\n",
            "Epoch 14: Training error=0.9936\n",
            "Epoch 15: Training error=0.8943\n",
            "Epoch 16: Training error=0.8108\n",
            "Epoch 17: Training error=0.7405\n",
            "Epoch 18: Training error=0.6816\n",
            "Epoch 19: Training error=0.6322\n",
            "Epoch 20: Training error=0.5908\n"
          ]
        }
      ]
    },
    {
      "cell_type": "code",
      "source": [
        "LFM1=LatentFactorModel(train,100,names,alpha=0.01,lmbda=0.1,n_epochs=20)\n",
        "LFM1.fit()"
      ],
      "metadata": {
        "colab": {
          "base_uri": "https://localhost:8080/"
        },
        "id": "nJ9Rw2yB2-lt",
        "outputId": "1e424155-7fbd-4598-a0d3-ff721b985f67"
      },
      "execution_count": 48,
      "outputs": [
        {
          "output_type": "stream",
          "name": "stdout",
          "text": [
            "Epoch 1: Training error=4.7210\n",
            "Epoch 2: Training error=4.7170\n",
            "Epoch 3: Training error=4.6467\n",
            "Epoch 4: Training error=4.2194\n",
            "Epoch 5: Training error=3.6168\n",
            "Epoch 6: Training error=3.0636\n",
            "Epoch 7: Training error=2.6020\n",
            "Epoch 8: Training error=2.2292\n",
            "Epoch 9: Training error=1.9273\n",
            "Epoch 10: Training error=1.6792\n",
            "Epoch 11: Training error=1.4728\n",
            "Epoch 12: Training error=1.2996\n",
            "Epoch 13: Training error=1.1536\n",
            "Epoch 14: Training error=1.0303\n",
            "Epoch 15: Training error=0.9262\n",
            "Epoch 16: Training error=0.8385\n",
            "Epoch 17: Training error=0.7647\n",
            "Epoch 18: Training error=0.7028\n",
            "Epoch 19: Training error=0.6509\n",
            "Epoch 20: Training error=0.6075\n"
          ]
        }
      ]
    },
    {
      "cell_type": "code",
      "source": [
        "LFM2=LatentFactorModel(train,200,names,alpha=0.01,lmbda=0.1,n_epochs=20)\n",
        "LFM2.fit()"
      ],
      "metadata": {
        "colab": {
          "base_uri": "https://localhost:8080/"
        },
        "id": "8sljqgXG4MJV",
        "outputId": "02480d8e-2e93-40dc-e18a-32c04e3d3102"
      },
      "execution_count": 49,
      "outputs": [
        {
          "output_type": "stream",
          "name": "stdout",
          "text": [
            "Epoch 1: Training error=4.7214\n",
            "Epoch 2: Training error=4.7187\n",
            "Epoch 3: Training error=4.6620\n",
            "Epoch 4: Training error=4.2660\n",
            "Epoch 5: Training error=3.6707\n",
            "Epoch 6: Training error=3.1150\n",
            "Epoch 7: Training error=2.6469\n",
            "Epoch 8: Training error=2.2678\n",
            "Epoch 9: Training error=1.9606\n",
            "Epoch 10: Training error=1.7082\n",
            "Epoch 11: Training error=1.4983\n",
            "Epoch 12: Training error=1.3222\n",
            "Epoch 13: Training error=1.1737\n",
            "Epoch 14: Training error=1.0482\n",
            "Epoch 15: Training error=0.9422\n",
            "Epoch 16: Training error=0.8529\n",
            "Epoch 17: Training error=0.7777\n",
            "Epoch 18: Training error=0.7146\n",
            "Epoch 19: Training error=0.6618\n",
            "Epoch 20: Training error=0.6177\n"
          ]
        }
      ]
    },
    {
      "cell_type": "code",
      "source": [
        "LFM3=LatentFactorModel(train,500,names,alpha=0.01,lmbda=0.1,n_epochs=20)\n",
        "LFM3.fit()"
      ],
      "metadata": {
        "colab": {
          "base_uri": "https://localhost:8080/"
        },
        "id": "u1uRcQHY4ODN",
        "outputId": "590114b2-59f6-44d1-b685-d7edaca47071"
      },
      "execution_count": 50,
      "outputs": [
        {
          "output_type": "stream",
          "name": "stdout",
          "text": [
            "Epoch 1: Training error=4.7217\n",
            "Epoch 2: Training error=4.7206\n",
            "Epoch 3: Training error=4.6969\n",
            "Epoch 4: Training error=4.4231\n",
            "Epoch 5: Training error=3.8487\n",
            "Epoch 6: Training error=3.2770\n",
            "Epoch 7: Training error=2.7826\n",
            "Epoch 8: Training error=2.3788\n",
            "Epoch 9: Training error=2.0522\n",
            "Epoch 10: Training error=1.7848\n",
            "Epoch 11: Training error=1.5631\n",
            "Epoch 12: Training error=1.3774\n",
            "Epoch 13: Training error=1.2210\n",
            "Epoch 14: Training error=1.0888\n",
            "Epoch 15: Training error=0.9771\n",
            "Epoch 16: Training error=0.8828\n",
            "Epoch 17: Training error=0.8035\n",
            "Epoch 18: Training error=0.7369\n",
            "Epoch 19: Training error=0.6811\n",
            "Epoch 20: Training error=0.6345\n"
          ]
        }
      ]
    },
    {
      "cell_type": "code",
      "source": [
        "LFM4=LatentFactorModel(train,1000,names,alpha=0.01,lmbda=0.1,n_epochs=20)\n",
        "LFM4.fit()"
      ],
      "metadata": {
        "colab": {
          "base_uri": "https://localhost:8080/"
        },
        "id": "cVqpW3id4RY_",
        "outputId": "92fb2162-6ff0-4879-b413-841ca1e7a169"
      },
      "execution_count": 70,
      "outputs": [
        {
          "output_type": "stream",
          "name": "stdout",
          "text": [
            "Epoch 1: Training error=4.7218\n",
            "Epoch 2: Training error=4.7213\n",
            "Epoch 3: Training error=4.7100\n",
            "Epoch 4: Training error=4.5274\n",
            "Epoch 5: Training error=3.9897\n",
            "Epoch 6: Training error=3.4079\n",
            "Epoch 7: Training error=2.8930\n",
            "Epoch 8: Training error=2.4687\n",
            "Epoch 9: Training error=2.1257\n",
            "Epoch 10: Training error=1.8458\n",
            "Epoch 11: Training error=1.6143\n",
            "Epoch 12: Training error=1.4208\n",
            "Epoch 13: Training error=1.2579\n",
            "Epoch 14: Training error=1.1203\n",
            "Epoch 15: Training error=1.0040\n",
            "Epoch 16: Training error=0.9058\n",
            "Epoch 17: Training error=0.8231\n",
            "Epoch 18: Training error=0.7536\n",
            "Epoch 19: Training error=0.6955\n",
            "Epoch 20: Training error=0.6468\n"
          ]
        }
      ]
    },
    {
      "cell_type": "code",
      "source": [
        "# Numbers might change each time we run the notebook but these are the average values of RMSE for each time they are trained \n",
        "tr_error=[0.5671,0.5869,0.6075,0.6177,0.6345,0.6467]\n",
        "k_val = [5,50,100,200,500,1000]\n",
        "plt.plot(k_val,tr_error)\n",
        "plt.xlabel(\"Value of K\")\n",
        "plt.ylabel(\"RMSE\")\n",
        "plt.title(\"RMSE Error for different values of K for 20 epochs\")\n",
        "plt.show()"
      ],
      "metadata": {
        "colab": {
          "base_uri": "https://localhost:8080/",
          "height": 295
        },
        "id": "ZftlS2SJ4W2E",
        "outputId": "2e134211-edf1-4cde-a281-f8ec0525d202"
      },
      "execution_count": 63,
      "outputs": [
        {
          "output_type": "display_data",
          "data": {
            "text/plain": [
              "<Figure size 432x288 with 1 Axes>"
            ],
            "image/png": "[encoded data removed]"
          },
          "metadata": {
            "needs_background": "light"
          }
        }
      ]
    },
    {
      "cell_type": "markdown",
      "source": [
        "From the experiments done while training we observed that the performance saturates to particular value for different value of K indicating there is no significant change when k --> infinity "
      ],
      "metadata": {
        "id": "FP2GF9l_E1We"
      }
    },
    {
      "cell_type": "markdown",
      "source": [
        "**This results follows the simmilar results that were obtained in the paper Factorization Meets Neighbourhood ( Section 3 Latent Factor Models)** "
      ],
      "metadata": {
        "id": "H_3JxGRtE-vD"
      }
    },
    {
      "cell_type": "markdown",
      "source": [
        "## Recommendation System "
      ],
      "metadata": {
        "id": "qDToQ4oLGAAx"
      }
    },
    {
      "cell_type": "code",
      "source": [
        "# LFM model with K = 50 \n",
        "LFM.recommend_items()"
      ],
      "metadata": {
        "colab": {
          "base_uri": "https://localhost:8080/",
          "height": 503
        },
        "id": "3xQL7j-f5pxU",
        "outputId": "49f31917-7013-4ff9-f9ff-319f0974b029"
      },
      "execution_count": 69,
      "outputs": [
        {
          "output_type": "stream",
          "name": "stdout",
          "text": [
            "This recommendation system is based on Latent Factor Models \n",
            "\n",
            "Enter User ID: 1533\n",
            "\n",
            " Welcome User 1533\n",
            "We have these recommendations for you today: \n"
          ]
        },
        {
          "output_type": "display_data",
          "data": {
            "text/plain": [
              "                                                 Recpie_Name\n",
              "Recipe_ID                                                   \n",
              "225832                               great gavacho guacamole\n",
              "142481                                butterscotch chai  hot\n",
              "78490                         applebee s honey mustard sauce\n",
              "147145                                   hot chocolate float\n",
              "371297     kittencal s easy no bake cheesecake  chocolate...\n",
              "36279                                             easy gravy\n",
              "28924              ginger s  dorito  soup  spicy tomato soup\n",
              "242700                              creamy bruschetta spread\n",
              "110818                             mom s  50 year hard sauce\n",
              "169343                  moroccan orange walnut salad  zwt ii"
            ],
            "text/html": [
              "\n",
              "  <div id=\"df-b095d57f-0080-43c7-9b70-6a01378dcfc0\">\n",
              "    <div class=\"colab-df-container\">\n",
              "      <div>\n",
              "<style scoped>\n",
              "    .dataframe tbody tr th:only-of-type {\n",
              "        vertical-align: middle;\n",
              "    }\n",
              "\n",
              "    .dataframe tbody tr th {\n",
              "        vertical-align: top;\n",
              "    }\n",
              "\n",
              "    .dataframe thead th {\n",
              "        text-align: right;\n",
              "    }\n",
              "</style>\n",
              "<table border=\"1\" class=\"dataframe\">\n",
              "  <thead>\n",
              "    <tr style=\"text-align: right;\">\n",
              "      <th></th>\n",
              "      <th>Recpie_Name</th>\n",
              "    </tr>\n",
              "    <tr>\n",
              "      <th>Recipe_ID</th>\n",
              "      <th></th>\n",
              "    </tr>\n",
              "  </thead>\n",
              "  <tbody>\n",
              "    <tr>\n",
              "      <th>225832</th>\n",
              "      <td>great gavacho guacamole</td>\n",
              "    </tr>\n",
              "    <tr>\n",
              "      <th>142481</th>\n",
              "      <td>butterscotch chai  hot</td>\n",
              "    </tr>\n",
              "    <tr>\n",
              "      <th>78490</th>\n",
              "      <td>applebee s honey mustard sauce</td>\n",
              "    </tr>\n",
              "    <tr>\n",
              "      <th>147145</th>\n",
              "      <td>hot chocolate float</td>\n",
              "    </tr>\n",
              "    <tr>\n",
              "      <th>371297</th>\n",
              "      <td>kittencal s easy no bake cheesecake  chocolate...</td>\n",
              "    </tr>\n",
              "    <tr>\n",
              "      <th>36279</th>\n",
              "      <td>easy gravy</td>\n",
              "    </tr>\n",
              "    <tr>\n",
              "      <th>28924</th>\n",
              "      <td>ginger s  dorito  soup  spicy tomato soup</td>\n",
              "    </tr>\n",
              "    <tr>\n",
              "      <th>242700</th>\n",
              "      <td>creamy bruschetta spread</td>\n",
              "    </tr>\n",
              "    <tr>\n",
              "      <th>110818</th>\n",
              "      <td>mom s  50 year hard sauce</td>\n",
              "    </tr>\n",
              "    <tr>\n",
              "      <th>169343</th>\n",
              "      <td>moroccan orange walnut salad  zwt ii</td>\n",
              "    </tr>\n",
              "  </tbody>\n",
              "</table>\n",
              "</div>\n",
              "      <button class=\"colab-df-convert\" onclick=\"convertToInteractive('df-b095d57f-0080-43c7-9b70-6a01378dcfc0')\"\n",
              "              title=\"Convert this dataframe to an interactive table.\"\n",
              "              style=\"display:none;\">\n",
              "        \n",
              "  <svg xmlns=\"http://www.w3.org/2000/svg\" height=\"24px\"viewBox=\"0 0 24 24\"\n",
              "       width=\"24px\">\n",
              "    <path d=\"M0 0h24v24H0V0z\" fill=\"none\"/>\n",
              "    <path d=\"M18.56 5.44l.94 2.06.94-2.06 2.06-.94-2.06-.94-.94-2.06-.94 2.06-2.06.94zm-11 1L8.5 8.5l.94-2.06 2.06-.94-2.06-.94L8.5 2.5l-.94 2.06-2.06.94zm10 10l.94 2.06.94-2.06 2.06-.94-2.06-.94-.94-2.06-.94 2.06-2.06.94z\"/><path d=\"M17.41 7.96l-1.37-1.37c-.4-.4-.92-.59-1.43-.59-.52 0-1.04.2-1.43.59L10.3 9.45l-7.72 7.72c-.78.78-.78 2.05 0 2.83L4 21.41c.39.39.9.59 1.41.59.51 0 1.02-.2 1.41-.59l7.78-7.78 2.81-2.81c.8-.78.8-2.07 0-2.86zM5.41 20L4 18.59l7.72-7.72 1.47 1.35L5.41 20z\"/>\n",
              "  </svg>\n",
              "      </button>\n",
              "      \n",
              "  <style>\n",
              "    .colab-df-container {\n",
              "      display:flex;\n",
              "      flex-wrap:wrap;\n",
              "      gap: 12px;\n",
              "    }\n",
              "\n",
              "    .colab-df-convert {\n",
              "      background-color: #E8F0FE;\n",
              "      border: none;\n",
              "      border-radius: 50%;\n",
              "      cursor: pointer;\n",
              "      display: none;\n",
              "      fill: #1967D2;\n",
              "      height: 32px;\n",
              "      padding: 0 0 0 0;\n",
              "      width: 32px;\n",
              "    }\n",
              "\n",
              "    .colab-df-convert:hover {\n",
              "      background-color: #E2EBFA;\n",
              "      box-shadow: 0px 1px 2px rgba(60, 64, 67, 0.3), 0px 1px 3px 1px rgba(60, 64, 67, 0.15);\n",
              "      fill: #174EA6;\n",
              "    }\n",
              "\n",
              "    [theme=dark] .colab-df-convert {\n",
              "      background-color: #3B4455;\n",
              "      fill: #D2E3FC;\n",
              "    }\n",
              "\n",
              "    [theme=dark] .colab-df-convert:hover {\n",
              "      background-color: #434B5C;\n",
              "      box-shadow: 0px 1px 3px 1px rgba(0, 0, 0, 0.15);\n",
              "      filter: drop-shadow(0px 1px 2px rgba(0, 0, 0, 0.3));\n",
              "      fill: #FFFFFF;\n",
              "    }\n",
              "  </style>\n",
              "\n",
              "      <script>\n",
              "        const buttonEl =\n",
              "          document.querySelector('#df-b095d57f-0080-43c7-9b70-6a01378dcfc0 button.colab-df-convert');\n",
              "        buttonEl.style.display =\n",
              "          google.colab.kernel.accessAllowed ? 'block' : 'none';\n",
              "\n",
              "        async function convertToInteractive(key) {\n",
              "          const element = document.querySelector('#df-b095d57f-0080-43c7-9b70-6a01378dcfc0');\n",
              "          const dataTable =\n",
              "            await google.colab.kernel.invokeFunction('convertToInteractive',\n",
              "                                                     [key], {});\n",
              "          if (!dataTable) return;\n",
              "\n",
              "          const docLinkHtml = 'Like what you see? Visit the ' +\n",
              "            '<a target=\"_blank\" href=https://colab.research.google.com/notebooks/data_table.ipynb>data table notebook</a>'\n",
              "            + ' to learn more about interactive tables.';\n",
              "          element.innerHTML = '';\n",
              "          dataTable['output_type'] = 'display_data';\n",
              "          await google.colab.output.renderOutput(dataTable, element);\n",
              "          const docLink = document.createElement('div');\n",
              "          docLink.innerHTML = docLinkHtml;\n",
              "          element.appendChild(docLink);\n",
              "        }\n",
              "      </script>\n",
              "    </div>\n",
              "  </div>\n",
              "  "
            ]
          },
          "metadata": {}
        }
      ]
    },
    {
      "cell_type": "code",
      "source": [
        "LFM4.recommend_items()"
      ],
      "metadata": {
        "colab": {
          "base_uri": "https://localhost:8080/",
          "height": 503
        },
        "id": "8ALWRqziICb4",
        "outputId": "b2eab302-b55b-4c24-eea9-e9874638860c"
      },
      "execution_count": 71,
      "outputs": [
        {
          "output_type": "stream",
          "name": "stdout",
          "text": [
            "This recommendation system is based on Latent Factor Models \n",
            "\n",
            "Enter User ID: 1533\n",
            "\n",
            " Welcome User 1533\n",
            "We have these recommendations for you today: \n"
          ]
        },
        {
          "output_type": "display_data",
          "data": {
            "text/plain": [
              "                                                 Recpie_Name\n",
              "Recipe_ID                                                   \n",
              "78490                         applebee s honey mustard sauce\n",
              "225832                               great gavacho guacamole\n",
              "142481                                butterscotch chai  hot\n",
              "371297     kittencal s easy no bake cheesecake  chocolate...\n",
              "28924              ginger s  dorito  soup  spicy tomato soup\n",
              "248042                              spiced chai tea smoothie\n",
              "147145                                   hot chocolate float\n",
              "36279                                             easy gravy\n",
              "43553                                     artichoke crostini\n",
              "110818                             mom s  50 year hard sauce"
            ],
            "text/html": [
              "\n",
              "  <div id=\"df-3a62d8fd-4ab8-4418-bbec-1141a8e23ad5\">\n",
              "    <div class=\"colab-df-container\">\n",
              "      <div>\n",
              "<style scoped>\n",
              "    .dataframe tbody tr th:only-of-type {\n",
              "        vertical-align: middle;\n",
              "    }\n",
              "\n",
              "    .dataframe tbody tr th {\n",
              "        vertical-align: top;\n",
              "    }\n",
              "\n",
              "    .dataframe thead th {\n",
              "        text-align: right;\n",
              "    }\n",
              "</style>\n",
              "<table border=\"1\" class=\"dataframe\">\n",
              "  <thead>\n",
              "    <tr style=\"text-align: right;\">\n",
              "      <th></th>\n",
              "      <th>Recpie_Name</th>\n",
              "    </tr>\n",
              "    <tr>\n",
              "      <th>Recipe_ID</th>\n",
              "      <th></th>\n",
              "    </tr>\n",
              "  </thead>\n",
              "  <tbody>\n",
              "    <tr>\n",
              "      <th>78490</th>\n",
              "      <td>applebee s honey mustard sauce</td>\n",
              "    </tr>\n",
              "    <tr>\n",
              "      <th>225832</th>\n",
              "      <td>great gavacho guacamole</td>\n",
              "    </tr>\n",
              "    <tr>\n",
              "      <th>142481</th>\n",
              "      <td>butterscotch chai  hot</td>\n",
              "    </tr>\n",
              "    <tr>\n",
              "      <th>371297</th>\n",
              "      <td>kittencal s easy no bake cheesecake  chocolate...</td>\n",
              "    </tr>\n",
              "    <tr>\n",
              "      <th>28924</th>\n",
              "      <td>ginger s  dorito  soup  spicy tomato soup</td>\n",
              "    </tr>\n",
              "    <tr>\n",
              "      <th>248042</th>\n",
              "      <td>spiced chai tea smoothie</td>\n",
              "    </tr>\n",
              "    <tr>\n",
              "      <th>147145</th>\n",
              "      <td>hot chocolate float</td>\n",
              "    </tr>\n",
              "    <tr>\n",
              "      <th>36279</th>\n",
              "      <td>easy gravy</td>\n",
              "    </tr>\n",
              "    <tr>\n",
              "      <th>43553</th>\n",
              "      <td>artichoke crostini</td>\n",
              "    </tr>\n",
              "    <tr>\n",
              "      <th>110818</th>\n",
              "      <td>mom s  50 year hard sauce</td>\n",
              "    </tr>\n",
              "  </tbody>\n",
              "</table>\n",
              "</div>\n",
              "      <button class=\"colab-df-convert\" onclick=\"convertToInteractive('df-3a62d8fd-4ab8-4418-bbec-1141a8e23ad5')\"\n",
              "              title=\"Convert this dataframe to an interactive table.\"\n",
              "              style=\"display:none;\">\n",
              "        \n",
              "  <svg xmlns=\"http://www.w3.org/2000/svg\" height=\"24px\"viewBox=\"0 0 24 24\"\n",
              "       width=\"24px\">\n",
              "    <path d=\"M0 0h24v24H0V0z\" fill=\"none\"/>\n",
              "    <path d=\"M18.56 5.44l.94 2.06.94-2.06 2.06-.94-2.06-.94-.94-2.06-.94 2.06-2.06.94zm-11 1L8.5 8.5l.94-2.06 2.06-.94-2.06-.94L8.5 2.5l-.94 2.06-2.06.94zm10 10l.94 2.06.94-2.06 2.06-.94-2.06-.94-.94-2.06-.94 2.06-2.06.94z\"/><path d=\"M17.41 7.96l-1.37-1.37c-.4-.4-.92-.59-1.43-.59-.52 0-1.04.2-1.43.59L10.3 9.45l-7.72 7.72c-.78.78-.78 2.05 0 2.83L4 21.41c.39.39.9.59 1.41.59.51 0 1.02-.2 1.41-.59l7.78-7.78 2.81-2.81c.8-.78.8-2.07 0-2.86zM5.41 20L4 18.59l7.72-7.72 1.47 1.35L5.41 20z\"/>\n",
              "  </svg>\n",
              "      </button>\n",
              "      \n",
              "  <style>\n",
              "    .colab-df-container {\n",
              "      display:flex;\n",
              "      flex-wrap:wrap;\n",
              "      gap: 12px;\n",
              "    }\n",
              "\n",
              "    .colab-df-convert {\n",
              "      background-color: #E8F0FE;\n",
              "      border: none;\n",
              "      border-radius: 50%;\n",
              "      cursor: pointer;\n",
              "      display: none;\n",
              "      fill: #1967D2;\n",
              "      height: 32px;\n",
              "      padding: 0 0 0 0;\n",
              "      width: 32px;\n",
              "    }\n",
              "\n",
              "    .colab-df-convert:hover {\n",
              "      background-color: #E2EBFA;\n",
              "      box-shadow: 0px 1px 2px rgba(60, 64, 67, 0.3), 0px 1px 3px 1px rgba(60, 64, 67, 0.15);\n",
              "      fill: #174EA6;\n",
              "    }\n",
              "\n",
              "    [theme=dark] .colab-df-convert {\n",
              "      background-color: #3B4455;\n",
              "      fill: #D2E3FC;\n",
              "    }\n",
              "\n",
              "    [theme=dark] .colab-df-convert:hover {\n",
              "      background-color: #434B5C;\n",
              "      box-shadow: 0px 1px 3px 1px rgba(0, 0, 0, 0.15);\n",
              "      filter: drop-shadow(0px 1px 2px rgba(0, 0, 0, 0.3));\n",
              "      fill: #FFFFFF;\n",
              "    }\n",
              "  </style>\n",
              "\n",
              "      <script>\n",
              "        const buttonEl =\n",
              "          document.querySelector('#df-3a62d8fd-4ab8-4418-bbec-1141a8e23ad5 button.colab-df-convert');\n",
              "        buttonEl.style.display =\n",
              "          google.colab.kernel.accessAllowed ? 'block' : 'none';\n",
              "\n",
              "        async function convertToInteractive(key) {\n",
              "          const element = document.querySelector('#df-3a62d8fd-4ab8-4418-bbec-1141a8e23ad5');\n",
              "          const dataTable =\n",
              "            await google.colab.kernel.invokeFunction('convertToInteractive',\n",
              "                                                     [key], {});\n",
              "          if (!dataTable) return;\n",
              "\n",
              "          const docLinkHtml = 'Like what you see? Visit the ' +\n",
              "            '<a target=\"_blank\" href=https://colab.research.google.com/notebooks/data_table.ipynb>data table notebook</a>'\n",
              "            + ' to learn more about interactive tables.';\n",
              "          element.innerHTML = '';\n",
              "          dataTable['output_type'] = 'display_data';\n",
              "          await google.colab.output.renderOutput(dataTable, element);\n",
              "          const docLink = document.createElement('div');\n",
              "          docLink.innerHTML = docLinkHtml;\n",
              "          element.appendChild(docLink);\n",
              "        }\n",
              "      </script>\n",
              "    </div>\n",
              "  </div>\n",
              "  "
            ]
          },
          "metadata": {}
        }
      ]
    }
  ]
}