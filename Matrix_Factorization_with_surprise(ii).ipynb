{
  "nbformat": 4,
  "nbformat_minor": 0,
  "metadata": {
    "colab": {
      "provenance": [],
      "toc_visible": true
    },
    "kernelspec": {
      "name": "python3",
      "display_name": "Python 3"
    },
    "language_info": {
      "name": "python"
    }
  },
  "cells": [
    {
      "cell_type": "code",
      "execution_count": 7,
      "metadata": {
        "id": "IjVi_v1_yy-u"
      },
      "outputs": [],
      "source": [
        "import pandas as pd\n",
        "import numpy as np\n",
        "import matplotlib.pyplot as plt\n",
        "from surprise import accuracy\n",
        "from surprise import Dataset, Reader, SVD\n",
        "from surprise.model_selection import train_test_split"
      ]
    },
    {
      "cell_type": "markdown",
      "source": [
        "# Item - Item collaborative filtering with Matrix factorization"
      ],
      "metadata": {
        "id": "2cLGGdiVh_SP"
      }
    },
    {
      "cell_type": "markdown",
      "source": [
        "## SVD with surprise library"
      ],
      "metadata": {
        "id": "zHyupsrZiFOg"
      }
    },
    {
      "cell_type": "markdown",
      "source": [
        "#### Load google drive and define base path"
      ],
      "metadata": {
        "id": "-J89dyZgtyWD"
      }
    },
    {
      "cell_type": "code",
      "execution_count": 3,
      "metadata": {
        "id": "jBRLIrE9tyWE"
      },
      "outputs": [],
      "source": [
        "Base_path ='/content/drive/MyDrive/Data/RS2'"
      ]
    },
    {
      "cell_type": "code",
      "source": [
        "!pip install surprise"
      ],
      "metadata": {
        "colab": {
          "base_uri": "https://localhost:8080/"
        },
        "outputId": "0522d994-2a63-490c-c159-432626ca57e4",
        "id": "IxlJ2FS9tyWG"
      },
      "execution_count": 4,
      "outputs": [
        {
          "output_type": "stream",
          "name": "stdout",
          "text": [
            "Looking in indexes: https://pypi.org/simple, https://us-python.pkg.dev/colab-wheels/public/simple/\n",
            "Requirement already satisfied: surprise in /usr/local/lib/python3.8/dist-packages (0.1)\n",
            "Requirement already satisfied: scikit-surprise in /usr/local/lib/python3.8/dist-packages (from surprise) (1.1.3)\n",
            "Requirement already satisfied: joblib>=1.0.0 in /usr/local/lib/python3.8/dist-packages (from scikit-surprise->surprise) (1.2.0)\n",
            "Requirement already satisfied: numpy>=1.17.3 in /usr/local/lib/python3.8/dist-packages (from scikit-surprise->surprise) (1.22.4)\n",
            "Requirement already satisfied: scipy>=1.3.2 in /usr/local/lib/python3.8/dist-packages (from scikit-surprise->surprise) (1.10.1)\n"
          ]
        }
      ]
    },
    {
      "cell_type": "code",
      "source": [
        "from google.colab import drive\n",
        "drive.mount('/content/drive')"
      ],
      "metadata": {
        "colab": {
          "base_uri": "https://localhost:8080/"
        },
        "outputId": "36d0c807-71cb-416b-8d29-f46097c7556b",
        "id": "y0gDWB10tyWH"
      },
      "execution_count": 5,
      "outputs": [
        {
          "output_type": "stream",
          "name": "stdout",
          "text": [
            "Drive already mounted at /content/drive; to attempt to forcibly remount, call drive.mount(\"/content/drive\", force_remount=True).\n"
          ]
        }
      ]
    },
    {
      "cell_type": "markdown",
      "source": [
        "#### Load Filtered data and applying operations using surprise library"
      ],
      "metadata": {
        "id": "D6aBO0RIiPRX"
      }
    },
    {
      "cell_type": "code",
      "source": [
        "# Load dataset\n",
        "data = pd.read_csv(Base_path+\"/short-recipes-20.csv\")"
      ],
      "metadata": {
        "id": "H9n6Fb72zmqV"
      },
      "execution_count": 20,
      "outputs": []
    },
    {
      "cell_type": "code",
      "source": [
        "# Define the reader object\n",
        "reader = Reader(rating_scale=(1, 5))"
      ],
      "metadata": {
        "id": "19VA4RZCztl-"
      },
      "execution_count": 21,
      "outputs": []
    },
    {
      "cell_type": "code",
      "source": [
        "# Load the dataset into Surprise format\n",
        "data = Dataset.load_from_df(data[['user_id', 'recipe_id', 'rating']], reader)"
      ],
      "metadata": {
        "id": "ueTFeWPUzv85"
      },
      "execution_count": 22,
      "outputs": []
    },
    {
      "cell_type": "code",
      "source": [
        "# Split the dataset into training and testing sets\n",
        "trainset, testset = train_test_split(data, test_size=0.2)"
      ],
      "metadata": {
        "id": "Zo87gLbAzyJG"
      },
      "execution_count": 23,
      "outputs": []
    },
    {
      "cell_type": "code",
      "source": [
        "# Define the item-item similarity options\n",
        "sim_options = {'name': 'cosine', 'user_based': False}\n",
        "\n",
        "# Define the SVD model with item-item similarity\n",
        "model = SVD(biased='False')"
      ],
      "metadata": {
        "id": "4GaRO5G7zzX2"
      },
      "execution_count": 24,
      "outputs": []
    },
    {
      "cell_type": "code",
      "source": [
        "# Train the model on the training set\n",
        "model.fit(trainset)"
      ],
      "metadata": {
        "colab": {
          "base_uri": "https://localhost:8080/"
        },
        "id": "L_yNCCjyz8Tv",
        "outputId": "6ce39e3c-0625-472a-c173-ddc7dadc35de"
      },
      "execution_count": 25,
      "outputs": [
        {
          "output_type": "execute_result",
          "data": {
            "text/plain": [
              "<surprise.prediction_algorithms.matrix_factorization.SVD at 0x7f23802e80d0>"
            ]
          },
          "metadata": {},
          "execution_count": 25
        }
      ]
    },
    {
      "cell_type": "code",
      "source": [
        "# Make predictions on the test set\n",
        "predictions = model.test(testset)"
      ],
      "metadata": {
        "id": "hw28SMDV0Rhd"
      },
      "execution_count": 26,
      "outputs": []
    },
    {
      "cell_type": "code",
      "source": [
        "type(predictions)"
      ],
      "metadata": {
        "colab": {
          "base_uri": "https://localhost:8080/"
        },
        "id": "zMIzJUOMRd_9",
        "outputId": "a30bbf62-74ab-47be-d372-9e44ab473cc1"
      },
      "execution_count": 27,
      "outputs": [
        {
          "output_type": "execute_result",
          "data": {
            "text/plain": [
              "list"
            ]
          },
          "metadata": {},
          "execution_count": 27
        }
      ]
    },
    {
      "cell_type": "code",
      "source": [
        "predictions[0]"
      ],
      "metadata": {
        "colab": {
          "base_uri": "https://localhost:8080/"
        },
        "id": "3tP8pl2nRvW-",
        "outputId": "419b8b4b-6f17-4d3e-a8bb-63884844daa8"
      },
      "execution_count": 28,
      "outputs": [
        {
          "output_type": "execute_result",
          "data": {
            "text/plain": [
              "Prediction(uid=107135, iid=416397, r_ui=5.0, est=4.714509680937896, details={'was_impossible': False})"
            ]
          },
          "metadata": {},
          "execution_count": 28
        }
      ]
    },
    {
      "cell_type": "code",
      "source": [
        "predictions[0][1]"
      ],
      "metadata": {
        "colab": {
          "base_uri": "https://localhost:8080/"
        },
        "id": "pKpJyyB1Rzrj",
        "outputId": "662f7c85-72ed-4852-e7e8-368c39f7de49"
      },
      "execution_count": 29,
      "outputs": [
        {
          "output_type": "execute_result",
          "data": {
            "text/plain": [
              "416397"
            ]
          },
          "metadata": {},
          "execution_count": 29
        }
      ]
    },
    {
      "cell_type": "markdown",
      "source": [
        "#### Different Performance Measure"
      ],
      "metadata": {
        "id": "i0WbOlR9iag1"
      }
    },
    {
      "cell_type": "markdown",
      "source": [
        "##### RMSE"
      ],
      "metadata": {
        "id": "DEKOhcY8ikec"
      }
    },
    {
      "cell_type": "code",
      "source": [
        "# Compute and print the RMSE score\n",
        "rmse = accuracy.rmse(predictions)"
      ],
      "metadata": {
        "colab": {
          "base_uri": "https://localhost:8080/"
        },
        "id": "ZNmec1Hx0TgK",
        "outputId": "2c92c1c2-c914-411a-dc85-791a4f6759b3"
      },
      "execution_count": 30,
      "outputs": [
        {
          "output_type": "stream",
          "name": "stdout",
          "text": [
            "RMSE: 0.7744\n"
          ]
        }
      ]
    },
    {
      "cell_type": "markdown",
      "source": [
        "##### Precision,Recall,F1 score"
      ],
      "metadata": {
        "id": "tO_od0H8ioUC"
      }
    },
    {
      "cell_type": "code",
      "source": [
        "# Compute precision, recall, and F1-score\n",
        "tp = 0  # true positives\n",
        "fp = 0  # false positives\n",
        "fn = 0  # false negatives\n",
        "for uid, iid, r_ui, est, _ in predictions:\n",
        "    if est >= 3.5 and r_ui >= 3.5:\n",
        "        tp += 1\n",
        "    elif est >= 3.5 and r_ui < 3.5:\n",
        "        fp += 1\n",
        "    elif est < 3.5 and r_ui >= 3.5:\n",
        "        fn += 1\n",
        "\n",
        "precision = tp / (tp + fp)\n",
        "recall = tp / (tp + fn)\n",
        "f1_score = 2 * precision * recall / (precision + recall)\n",
        "\n",
        "print(\"Precision:\", precision)\n",
        "print(\"Recall:\", recall)\n",
        "print(\"F1-score:\", f1_score)"
      ],
      "metadata": {
        "colab": {
          "base_uri": "https://localhost:8080/"
        },
        "id": "4pk8YXpIeu1h",
        "outputId": "962771a8-c014-43dc-d17b-359bfc99b8a3"
      },
      "execution_count": 31,
      "outputs": [
        {
          "output_type": "stream",
          "name": "stdout",
          "text": [
            "Precision: 0.9504812615195577\n",
            "Recall: 0.9972496776966051\n",
            "F1-score: 0.9733039739960155\n"
          ]
        }
      ]
    },
    {
      "cell_type": "markdown",
      "source": [
        "#### Recommendation"
      ],
      "metadata": {
        "id": "pe5iUQv0ixBz"
      }
    },
    {
      "cell_type": "code",
      "source": [
        "# Use the trained model to recommend recipes for a given user\n",
        "user_id = 1533"
      ],
      "metadata": {
        "id": "bH7zUrI40ZZz"
      },
      "execution_count": 32,
      "outputs": []
    },
    {
      "cell_type": "code",
      "source": [
        "# Get a list of all recipe IDs\n",
        "recipe_ids = data.df['recipe_id'].unique()"
      ],
      "metadata": {
        "id": "XZWS1HDa0bkJ"
      },
      "execution_count": 33,
      "outputs": []
    },
    {
      "cell_type": "code",
      "source": [
        "# Create a list of tuples with the recipe ID and its estimated rating\n",
        "predictions = [(recipe_id, model.predict(user_id, recipe_id).est) for recipe_id in recipe_ids]"
      ],
      "metadata": {
        "id": "1GDGbyfx0dUk"
      },
      "execution_count": 34,
      "outputs": []
    },
    {
      "cell_type": "code",
      "source": [
        "# Sort the list in descending order by the estimated rating\n",
        "predictions.sort(key=lambda x: x[1], reverse=True)"
      ],
      "metadata": {
        "id": "q_oYpkax0fby"
      },
      "execution_count": 35,
      "outputs": []
    },
    {
      "cell_type": "code",
      "source": [
        "recipes = pd.read_csv(Base_path+'/RAW_recipes.csv')\n",
        "recipes.head()"
      ],
      "metadata": {
        "id": "uQCg53seUaby"
      },
      "execution_count": null,
      "outputs": []
    },
    {
      "cell_type": "code",
      "source": [
        "# Print the top 10 recommended recipes with their metadata\n",
        "print(\"Your Top 10 recommendations\")\n",
        "for recipe_id, rating in predictions[:10]:\n",
        "    recipe = recipes[recipes['id'] == recipe_id]\n",
        "    print()\n",
        "    print(f\"Recipe Name: {recipe['name'].values[0]}\")\n",
        "    print(f\"It will take Minutes to prepare: {recipe['minutes'].values[0]}\")\n",
        "    print(f\"Ingredients: {recipe['ingredients'].values[0]}\")\n",
        "    print()"
      ],
      "metadata": {
        "colab": {
          "base_uri": "https://localhost:8080/"
        },
        "id": "D0hWBTaf0gxC",
        "outputId": "9cc20822-ddfc-4f78-fc49-30c4fde624fb"
      },
      "execution_count": 37,
      "outputs": [
        {
          "output_type": "stream",
          "name": "stdout",
          "text": [
            "Your Top 10 recommendations\n",
            "\n",
            "Recipe Name: 4th of july grilled salmon  or chicken\n",
            "It will take Minutes to prepare: 15\n",
            "Ingredients: ['salmon steaks', 'peanut oil', 'soy sauce', 'balsamic vinegar', 'onion', 'brown sugar', 'garlic cloves', 'fresh ginger', 'crushed red pepper flakes', 'sesame oil', 'salt']\n",
            "\n",
            "\n",
            "Recipe Name: 7 30 salad\n",
            "It will take Minutes to prepare: 15\n",
            "Ingredients: ['romaine lettuce hearts', 'baby spinach', 'hearts of palm', 'cucumber', 'carrot', 'tomatoes', 'red onion', 'frozen green pea', 'capers']\n",
            "\n",
            "\n",
            "Recipe Name: a faster egg muffin\n",
            "It will take Minutes to prepare: 2\n",
            "Ingredients: ['english muffin', 'egg', 'deli ham', 'cheese']\n",
            "\n",
            "\n",
            "Recipe Name: afternoon pick me up\n",
            "It will take Minutes to prepare: 2\n",
            "Ingredients: ['vegetable juice cocktail', 'balsamic vinegar', 'garlic powder', 'hot sauce']\n",
            "\n",
            "\n",
            "Recipe Name: an italian tuna sandwich\n",
            "It will take Minutes to prepare: 15\n",
            "Ingredients: ['hamburger buns with sesame seeds', 'mixed salad green', 'lemon, juice of', 'tuna in vegetable oil', 'capers', 'green olives', 'celery', 'olive oil', 'salt and pepper']\n",
            "\n",
            "\n",
            "Recipe Name: apple butterflies\n",
            "It will take Minutes to prepare: 15\n",
            "Ingredients: ['peanut butter', 'baby carrots', 'red apple', 'celery', 'decorator sugar']\n",
            "\n",
            "\n",
            "Recipe Name: apple or pear crisp for one\n",
            "It will take Minutes to prepare: 8\n",
            "Ingredients: ['apples', 'brown sugar', 'quick-cooking oats', 'flour', 'cinnamon', 'butter']\n",
            "\n",
            "\n",
            "Recipe Name: applesauce jello salad\n",
            "It will take Minutes to prepare: 12\n",
            "Ingredients: ['unsweetened applesauce', 'sugar-free raspberry gelatin', 'unsweetened orange juice', 'diet 7-up']\n",
            "\n",
            "\n",
            "Recipe Name: artichoke bruschetta\n",
            "It will take Minutes to prepare: 17\n",
            "Ingredients: ['marinated artichoke hearts', 'tomatoes', 'romano cheese', 'red onion', 'garlic cloves', 'mayonnaise', 'french baguette']\n",
            "\n",
            "\n",
            "Recipe Name: asparagus on the side\n",
            "It will take Minutes to prepare: 17\n",
            "Ingredients: ['fresh asparagus', 'water', 'olive oil', 'fresh parmesan cheese', 'grape tomatoes']\n",
            "\n"
          ]
        }
      ]
    },
    {
      "cell_type": "markdown",
      "source": [
        "#### compare RMSE value for different value of K(RecommRecommendation)"
      ],
      "metadata": {
        "id": "F-uWuUgui2Zo"
      }
    },
    {
      "cell_type": "code",
      "source": [
        "# Define the range of number of recommendations to try\n",
        "n_recommendations = [5, 10, 20, 30, 40, 50, 60, 70, 80, 90, 100]\n",
        "\n",
        "# Compute the accuracy metrics for different number of recommendations\n",
        "rmse_scores = []\n",
        "mae_scores = []\n",
        "for n in n_recommendations:\n",
        "    # Train the model on the training set\n",
        "    model.fit(trainset)\n",
        "    # Make predictions on the test set for n recommendations\n",
        "    predictions = model.test(testset[:n])\n",
        "    # Compute and append the RMSE and MAE scores\n",
        "    rmse_scores.append(accuracy.rmse(predictions, verbose=False))\n",
        "    mae_scores.append(accuracy.mae(predictions, verbose=False))\n"
      ],
      "metadata": {
        "id": "mlWG03cd1ONV"
      },
      "execution_count": null,
      "outputs": []
    },
    {
      "cell_type": "code",
      "source": [
        "# Plot the RMSE and MAE scores against the number of recommendations\n",
        "plt.plot(n_recommendations, rmse_scores, label='RMSE')\n",
        "plt.plot(n_recommendations, mae_scores, label='MAE')\n",
        "plt.title('Accuracy Metrics for Different Number of Recommendations')\n",
        "plt.xlabel('Number of Recommendations')\n",
        "plt.ylabel('Accuracy')\n",
        "plt.legend()\n",
        "plt.show()"
      ],
      "metadata": {
        "colab": {
          "base_uri": "https://localhost:8080/",
          "height": 295
        },
        "id": "b8_FjboN1RLq",
        "outputId": "fb6f9478-5192-42e7-8b05-c77504ca4b49"
      },
      "execution_count": 62,
      "outputs": [
        {
          "output_type": "display_data",
          "data": {
            "text/plain": [
              "<Figure size 432x288 with 1 Axes>"
            ],
            "image/png": "[encoded data removed]"
          },
          "metadata": {
            "needs_background": "light"
          }
        }
      ]
    },
    {
      "cell_type": "code",
      "source": [],
      "metadata": {
        "id": "oKsjImONZvjU"
      },
      "execution_count": null,
      "outputs": []
    }
  ]
}