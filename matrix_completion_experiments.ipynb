{
  "nbformat": 4,
  "nbformat_minor": 0,
  "metadata": {
    "colab": {
      "provenance": [],
      "authorship_tag": "ABX9TyPvVO0VqvnqJyLbHoEiEsyH",
      "include_colab_link": true
    },
    "kernelspec": {
      "name": "python3",
      "display_name": "Python 3"
    },
    "language_info": {
      "name": "python"
    }
  },
  "cells": [
    {
      "cell_type": "markdown",
      "metadata": {
        "id": "view-in-github",
        "colab_type": "text"
      },
      "source": [
        "<a href=\"https://colab.research.google.com/github/vipashaaV321/Collaborative-Food-Recipe-Recommendation-System/blob/Sarvesh/matrix_completion_experiments.ipynb\" target=\"_parent\"><img src=\"https://colab.research.google.com/assets/colab-badge.svg\" alt=\"Open In Colab\"/></a>"
      ]
    },
    {
      "cell_type": "code",
      "execution_count": null,
      "metadata": {
        "colab": {
          "base_uri": "https://localhost:8080/"
        },
        "id": "95QJe2J2IV2-",
        "outputId": "dfcfa760-214a-4883-8708-9e6e3e110094"
      },
      "outputs": [
        {
          "output_type": "stream",
          "name": "stdout",
          "text": [
            "Original rating matrix:\n",
            " [[4. 0. 0. 0. 5.]\n",
            " [0. 2. 0. 3. 0.]\n",
            " [0. 0. 3. 0. 0.]\n",
            " [0. 0. 0. 2. 0.]]\n",
            "Predicted rating matrix:\n",
            " [[ 4.00000000e+00 -3.51628090e-17  4.57966998e-16  4.29274743e-16\n",
            "   5.00000000e+00]\n",
            " [-7.03256180e-17  1.60000000e+00 -7.62668258e-32  3.20000000e+00\n",
            "  -8.79070225e-17]\n",
            " [ 6.10622664e-16 -5.08445505e-32  6.99112570e-32 -2.54222753e-32\n",
            "   7.63278329e-16]\n",
            " [ 9.64037913e-16  8.00000000e-01  7.62668258e-32  1.60000000e+00\n",
            "   1.20504739e-15]]\n"
          ]
        }
      ],
      "source": [
        "import numpy as np\n",
        "from scipy.sparse.linalg import svds\n",
        "\n",
        "# Define a sparse rating matrix with data type float\n",
        "rating_matrix = np.array([[4.0, 0.0, 1.0, 0.0, 5.0],\n",
        "                          [0.0, 2.0, 0.0, 3.0, 0.0],\n",
        "                          [3.0, 0.0, 3.0, 0.0, 0.0],\n",
        "                          [0.0, 5.0, 0.0, 2.0, 0.0]], dtype=float)\n",
        "\n",
        "# Define the number of latent factors\n",
        "k = 2\n",
        "\n",
        "# Perform singular value decomposition\n",
        "U, s, V = svds(rating_matrix, k)\n",
        "\n",
        "# Construct diagonal matrix from singular values\n",
        "s_diag_matrix = np.diag(s)\n",
        "\n",
        "# Fill in the missing values in the rating matrix\n",
        "predicted_ratings = np.dot(np.dot(U, s_diag_matrix), V)\n",
        "\n",
        "print(\"Original rating matrix:\\n\", rating_matrix)\n",
        "print(\"Predicted rating matrix:\\n\", predicted_ratings)\n"
      ]
    },
    {
      "cell_type": "code",
      "source": [
        "RMSE = np.sqrt(np.sum((predicted_ratings - rating_matrix)**2) / 20)\n",
        "import numpy as np\n",
        "from scipy.sparse.linalg import svds\n",
        "\n",
        "# Define a sparse rating matrix with data type float\n",
        "rating_matrix = np.array([[4.0, 0.0, 1.0, 0.0, 5.0],\n",
        "                          [0.0, 2.0, 0.0, 3.0, 0.0],\n",
        "                          [3.0, 0.0, 3.0, 0.0, 0.0],\n",
        "                          [0.0, 5.0, 0.0, 2.0, 0.0]], dtype=float)\n",
        "\n",
        "# Define the number of latent factors\n",
        "k = 2\n",
        "\n",
        "# Perform singular value decomposition\n",
        "U, s, V = svds(rating_matrix, k)\n",
        "\n",
        "# Construct diagonal matrix from singular values\n",
        "s_diag_matrix = np.diag(s)\n",
        "\n",
        "# Fill in the missing values in the rating matrix\n",
        "predicted_ratings = np.dot(np.dot(U, s_diag_matrix), V)\n",
        "\n",
        "print(\"Original rating matrix:\\n\", rating_matrix)\n",
        "print(\"Predicted rating matrix:\\n\", predicted_ratings)\n"
      ],
      "metadata": {
        "colab": {
          "base_uri": "https://localhost:8080/"
        },
        "id": "0iu2tAKYIZoy",
        "outputId": "41a16c77-87cc-4f37-800f-4380460ac9a8"
      },
      "execution_count": null,
      "outputs": [
        {
          "output_type": "stream",
          "name": "stdout",
          "text": [
            "Original rating matrix:\n",
            " [[4. 0. 1. 0. 5.]\n",
            " [0. 2. 0. 3. 0.]\n",
            " [3. 0. 3. 0. 0.]\n",
            " [0. 5. 0. 2. 0.]]\n",
            "Predicted rating matrix:\n",
            " [[ 4.42069331e+00 -2.50161901e-16  1.98365074e+00 -1.00064761e-16\n",
            "   4.06173762e+00]\n",
            " [ 0.00000000e+00  2.78885438e+00  0.00000000e+00  1.72360680e+00\n",
            "   0.00000000e+00]\n",
            " [ 2.12469505e+00 -1.20234026e-16  9.53391833e-01 -4.80936103e-17\n",
            "   1.95217202e+00]\n",
            " [-2.72269936e-16  4.51246118e+00 -1.22172796e-16  2.78885438e+00\n",
            "  -2.50161901e-16]]\n"
          ]
        }
      ]
    },
    {
      "cell_type": "code",
      "source": [
        "RMSE"
      ],
      "metadata": {
        "colab": {
          "base_uri": "https://localhost:8080/"
        },
        "id": "mnL8fnTqJbhA",
        "outputId": "3bcb5a14-fa0b-4373-e506-779b75637da2"
      },
      "execution_count": null,
      "outputs": [
        {
          "output_type": "execute_result",
          "data": {
            "text/plain": [
              "0.7071067811865476"
            ]
          },
          "metadata": {},
          "execution_count": 12
        }
      ]
    },
    {
      "cell_type": "code",
      "source": [
        "predicted_ratings[1][0]"
      ],
      "metadata": {
        "colab": {
          "base_uri": "https://localhost:8080/"
        },
        "id": "eZYOwHi7KOEP",
        "outputId": "580b1eb7-acf1-4ed9-ac0e-003b19fa55f5"
      },
      "execution_count": null,
      "outputs": [
        {
          "output_type": "execute_result",
          "data": {
            "text/plain": [
              "-7.032561799574852e-17"
            ]
          },
          "metadata": {},
          "execution_count": 14
        }
      ]
    },
    {
      "cell_type": "code",
      "source": [],
      "metadata": {
        "id": "inIV5DuiKZQ_"
      },
      "execution_count": null,
      "outputs": []
    }
  ]
}