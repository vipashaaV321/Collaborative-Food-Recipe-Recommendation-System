{
  "nbformat": 4,
  "nbformat_minor": 0,
  "metadata": {
    "colab": {
      "provenance": [],
      "toc_visible": true
    },
    "kernelspec": {
      "name": "python3",
      "display_name": "Python 3"
    },
    "language_info": {
      "name": "python"
    }
  },
  "cells": [
    {
      "cell_type": "code",
      "execution_count": 7,
      "metadata": {
        "id": "IjVi_v1_yy-u"
      },
      "outputs": [],
      "source": [
        "import pandas as pd\n",
        "import numpy as np\n",
        "import matplotlib.pyplot as plt\n",
        "from surprise import accuracy\n",
        "from surprise import Dataset, Reader, SVD\n",
        "from surprise.model_selection import train_test_split"
      ]
    },
    {
      "cell_type": "markdown",
      "source": [
        "# Item - Item collaborative filtering with Matrix factorization"
      ],
      "metadata": {
        "id": "2cLGGdiVh_SP"
      }
    },
    {
      "cell_type": "markdown",
      "source": [
        "## SVD with surprise library"
      ],
      "metadata": {
        "id": "zHyupsrZiFOg"
      }
    },
    {
      "cell_type": "markdown",
      "source": [
        "#### Load google drive and define base path"
      ],
      "metadata": {
        "id": "-J89dyZgtyWD"
      }
    },
    {
      "cell_type": "code",
      "execution_count": 3,
      "metadata": {
        "id": "jBRLIrE9tyWE"
      },
      "outputs": [],
      "source": [
        "Base_path ='/content/drive/MyDrive/Data/RS2'"
      ]
    },
    {
      "cell_type": "code",
      "source": [
        "!pip install surprise"
      ],
      "metadata": {
        "colab": {
          "base_uri": "https://localhost:8080/"
        },
        "outputId": "0522d994-2a63-490c-c159-432626ca57e4",
        "id": "IxlJ2FS9tyWG"
      },
      "execution_count": 4,
      "outputs": [
        {
          "output_type": "stream",
          "name": "stdout",
          "text": [
            "Looking in indexes: https://pypi.org/simple, https://us-python.pkg.dev/colab-wheels/public/simple/\n",
            "Requirement already satisfied: surprise in /usr/local/lib/python3.8/dist-packages (0.1)\n",
            "Requirement already satisfied: scikit-surprise in /usr/local/lib/python3.8/dist-packages (from surprise) (1.1.3)\n",
            "Requirement already satisfied: joblib>=1.0.0 in /usr/local/lib/python3.8/dist-packages (from scikit-surprise->surprise) (1.2.0)\n",
            "Requirement already satisfied: numpy>=1.17.3 in /usr/local/lib/python3.8/dist-packages (from scikit-surprise->surprise) (1.22.4)\n",
            "Requirement already satisfied: scipy>=1.3.2 in /usr/local/lib/python3.8/dist-packages (from scikit-surprise->surprise) (1.10.1)\n"
          ]
        }
      ]
    },
    {
      "cell_type": "code",
      "source": [
        "from google.colab import drive\n",
        "drive.mount('/content/drive')"
      ],
      "metadata": {
        "colab": {
          "base_uri": "https://localhost:8080/"
        },
        "outputId": "36d0c807-71cb-416b-8d29-f46097c7556b",
        "id": "y0gDWB10tyWH"
      },
      "execution_count": 5,
      "outputs": [
        {
          "output_type": "stream",
          "name": "stdout",
          "text": [
            "Drive already mounted at /content/drive; to attempt to forcibly remount, call drive.mount(\"/content/drive\", force_remount=True).\n"
          ]
        }
      ]
    },
    {
      "cell_type": "markdown",
      "source": [
        "#### Load Filtered data and applying operations using surprise library"
      ],
      "metadata": {
        "id": "D6aBO0RIiPRX"
      }
    },
    {
      "cell_type": "code",
      "source": [
        "# Load dataset\n",
        "data = pd.read_csv(Base_path+\"/short-recipes-20.csv\")"
      ],
      "metadata": {
        "id": "H9n6Fb72zmqV"
      },
      "execution_count": 20,
      "outputs": []
    },
    {
      "cell_type": "code",
      "source": [
        "# Define the reader object\n",
        "reader = Reader(rating_scale=(1, 5))"
      ],
      "metadata": {
        "id": "19VA4RZCztl-"
      },
      "execution_count": 21,
      "outputs": []
    },
    {
      "cell_type": "code",
      "source": [
        "# Load the dataset into Surprise format\n",
        "data = Dataset.load_from_df(data[['user_id', 'recipe_id', 'rating']], reader)"
      ],
      "metadata": {
        "id": "ueTFeWPUzv85"
      },
      "execution_count": 22,
      "outputs": []
    },
    {
      "cell_type": "code",
      "source": [
        "# Split the dataset into training and testing sets\n",
        "trainset, testset = train_test_split(data, test_size=0.2)"
      ],
      "metadata": {
        "id": "Zo87gLbAzyJG"
      },
      "execution_count": 23,
      "outputs": []
    },
    {
      "cell_type": "code",
      "source": [
        "# Define the item-item similarity options\n",
        "sim_options = {'name': 'cosine', 'user_based': False}\n",
        "\n",
        "# Define the SVD model with item-item similarity\n",
        "model = SVD(biased='False')"
      ],
      "metadata": {
        "id": "4GaRO5G7zzX2"
      },
      "execution_count": 24,
      "outputs": []
    },
    {
      "cell_type": "code",
      "source": [
        "# Train the model on the training set\n",
        "model.fit(trainset)"
      ],
      "metadata": {
        "colab": {
          "base_uri": "https://localhost:8080/"
        },
        "id": "L_yNCCjyz8Tv",
        "outputId": "6ce39e3c-0625-472a-c173-ddc7dadc35de"
      },
      "execution_count": 25,
      "outputs": [
        {
          "output_type": "execute_result",
          "data": {
            "text/plain": [
              "<surprise.prediction_algorithms.matrix_factorization.SVD at 0x7f23802e80d0>"
            ]
          },
          "metadata": {},
          "execution_count": 25
        }
      ]
    },
    {
      "cell_type": "code",
      "source": [
        "# Make predictions on the test set\n",
        "predictions = model.test(testset)"
      ],
      "metadata": {
        "id": "hw28SMDV0Rhd"
      },
      "execution_count": 26,
      "outputs": []
    },
    {
      "cell_type": "code",
      "source": [
        "type(predictions)"
      ],
      "metadata": {
        "colab": {
          "base_uri": "https://localhost:8080/"
        },
        "id": "zMIzJUOMRd_9",
        "outputId": "a30bbf62-74ab-47be-d372-9e44ab473cc1"
      },
      "execution_count": 27,
      "outputs": [
        {
          "output_type": "execute_result",
          "data": {
            "text/plain": [
              "list"
            ]
          },
          "metadata": {},
          "execution_count": 27
        }
      ]
    },
    {
      "cell_type": "code",
      "source": [
        "predictions[0]"
      ],
      "metadata": {
        "colab": {
          "base_uri": "https://localhost:8080/"
        },
        "id": "3tP8pl2nRvW-",
        "outputId": "419b8b4b-6f17-4d3e-a8bb-63884844daa8"
      },
      "execution_count": 28,
      "outputs": [
        {
          "output_type": "execute_result",
          "data": {
            "text/plain": [
              "Prediction(uid=107135, iid=416397, r_ui=5.0, est=4.714509680937896, details={'was_impossible': False})"
            ]
          },
          "metadata": {},
          "execution_count": 28
        }
      ]
    },
    {
      "cell_type": "code",
      "source": [
        "predictions[0][1]"
      ],
      "metadata": {
        "colab": {
          "base_uri": "https://localhost:8080/"
        },
        "id": "pKpJyyB1Rzrj",
        "outputId": "662f7c85-72ed-4852-e7e8-368c39f7de49"
      },
      "execution_count": 29,
      "outputs": [
        {
          "output_type": "execute_result",
          "data": {
            "text/plain": [
              "416397"
            ]
          },
          "metadata": {},
          "execution_count": 29
        }
      ]
    },
    {
      "cell_type": "markdown",
      "source": [
        "#### Different Performance Measure"
      ],
      "metadata": {
        "id": "i0WbOlR9iag1"
      }
    },
    {
      "cell_type": "markdown",
      "source": [
        "##### RMSE"
      ],
      "metadata": {
        "id": "DEKOhcY8ikec"
      }
    },
    {
      "cell_type": "code",
      "source": [
        "# Compute and print the RMSE score\n",
        "rmse = accuracy.rmse(predictions)"
      ],
      "metadata": {
        "colab": {
          "base_uri": "https://localhost:8080/"
        },
        "id": "ZNmec1Hx0TgK",
        "outputId": "2c92c1c2-c914-411a-dc85-791a4f6759b3"
      },
      "execution_count": 30,
      "outputs": [
        {
          "output_type": "stream",
          "name": "stdout",
          "text": [
            "RMSE: 0.7744\n"
          ]
        }
      ]
    },
    {
      "cell_type": "markdown",
      "source": [
        "##### Precision,Recall,F1 score"
      ],
      "metadata": {
        "id": "tO_od0H8ioUC"
      }
    },
    {
      "cell_type": "code",
      "source": [
        "# Compute precision, recall, and F1-score\n",
        "tp = 0  # true positives\n",
        "fp = 0  # false positives\n",
        "fn = 0  # false negatives\n",
        "for uid, iid, r_ui, est, _ in predictions:\n",
        "    if est >= 3.5 and r_ui >= 3.5:\n",
        "        tp += 1\n",
        "    elif est >= 3.5 and r_ui < 3.5:\n",
        "        fp += 1\n",
        "    elif est < 3.5 and r_ui >= 3.5:\n",
        "        fn += 1\n",
        "\n",
        "precision = tp / (tp + fp)\n",
        "recall = tp / (tp + fn)\n",
        "f1_score = 2 * precision * recall / (precision + recall)\n",
        "\n",
        "print(\"Precision:\", precision)\n",
        "print(\"Recall:\", recall)\n",
        "print(\"F1-score:\", f1_score)"
      ],
      "metadata": {
        "colab": {
          "base_uri": "https://localhost:8080/"
        },
        "id": "4pk8YXpIeu1h",
        "outputId": "962771a8-c014-43dc-d17b-359bfc99b8a3"
      },
      "execution_count": 31,
      "outputs": [
        {
          "output_type": "stream",
          "name": "stdout",
          "text": [
            "Precision: 0.9504812615195577\n",
            "Recall: 0.9972496776966051\n",
            "F1-score: 0.9733039739960155\n"
          ]
        }
      ]
    },
    {
      "cell_type": "markdown",
      "source": [
        "#### Recommendation"
      ],
      "metadata": {
        "id": "pe5iUQv0ixBz"
      }
    },
    {
      "cell_type": "code",
      "source": [
        "# Use the trained model to recommend recipes for a given user\n",
        "user_id = 1533"
      ],
      "metadata": {
        "id": "bH7zUrI40ZZz"
      },
      "execution_count": 32,
      "outputs": []
    },
    {
      "cell_type": "code",
      "source": [
        "# Get a list of all recipe IDs\n",
        "recipe_ids = data.df['recipe_id'].unique()"
      ],
      "metadata": {
        "id": "XZWS1HDa0bkJ"
      },
      "execution_count": 33,
      "outputs": []
    },
    {
      "cell_type": "code",
      "source": [
        "# Create a list of tuples with the recipe ID and its estimated rating\n",
        "predictions = [(recipe_id, model.predict(user_id, recipe_id).est) for recipe_id in recipe_ids]"
      ],
      "metadata": {
        "id": "1GDGbyfx0dUk"
      },
      "execution_count": 34,
      "outputs": []
    },
    {
      "cell_type": "code",
      "source": [
        "# Sort the list in descending order by the estimated rating\n",
        "predictions.sort(key=lambda x: x[1], reverse=True)"
      ],
      "metadata": {
        "id": "q_oYpkax0fby"
      },
      "execution_count": 35,
      "outputs": []
    },
    {
      "cell_type": "code",
      "source": [
        "recipes = pd.read_csv(Base_path+'/RAW_recipes.csv')\n",
        "recipes.head()"
      ],
      "metadata": {
        "id": "uQCg53seUaby"
      },
      "execution_count": null,
      "outputs": []
    },
    {
      "cell_type": "code",
      "source": [
        "# Print the top 10 recommended recipes with their metadata\n",
        "print(\"Your Top 10 recommendations\")\n",
        "for recipe_id, rating in predictions[:10]:\n",
        "    recipe = recipes[recipes['id'] == recipe_id]\n",
        "    print()\n",
        "    print(f\"Recipe Name: {recipe['name'].values[0]}\")\n",
        "    print(f\"It will take Minutes to prepare: {recipe['minutes'].values[0]}\")\n",
        "    print(f\"Ingredients: {recipe['ingredients'].values[0]}\")\n",
        "    print()"
      ],
      "metadata": {
        "colab": {
          "base_uri": "https://localhost:8080/"
        },
        "id": "D0hWBTaf0gxC",
        "outputId": "9cc20822-ddfc-4f78-fc49-30c4fde624fb"
      },
      "execution_count": 37,
      "outputs": [
        {
          "output_type": "stream",
          "name": "stdout",
          "text": [
            "Your Top 10 recommendations\n",
            "\n",
            "Recipe Name: 4th of july grilled salmon  or chicken\n",
            "It will take Minutes to prepare: 15\n",
            "Ingredients: ['salmon steaks', 'peanut oil', 'soy sauce', 'balsamic vinegar', 'onion', 'brown sugar', 'garlic cloves', 'fresh ginger', 'crushed red pepper flakes', 'sesame oil', 'salt']\n",
            "\n",
            "\n",
            "Recipe Name: 7 30 salad\n",
            "It will take Minutes to prepare: 15\n",
            "Ingredients: ['romaine lettuce hearts', 'baby spinach', 'hearts of palm', 'cucumber', 'carrot', 'tomatoes', 'red onion', 'frozen green pea', 'capers']\n",
            "\n",
            "\n",
            "Recipe Name: a faster egg muffin\n",
            "It will take Minutes to prepare: 2\n",
            "Ingredients: ['english muffin', 'egg', 'deli ham', 'cheese']\n",
            "\n",
            "\n",
            "Recipe Name: afternoon pick me up\n",
            "It will take Minutes to prepare: 2\n",
            "Ingredients: ['vegetable juice cocktail', 'balsamic vinegar', 'garlic powder', 'hot sauce']\n",
            "\n",
            "\n",
            "Recipe Name: an italian tuna sandwich\n",
            "It will take Minutes to prepare: 15\n",
            "Ingredients: ['hamburger buns with sesame seeds', 'mixed salad green', 'lemon, juice of', 'tuna in vegetable oil', 'capers', 'green olives', 'celery', 'olive oil', 'salt and pepper']\n",
            "\n",
            "\n",
            "Recipe Name: apple butterflies\n",
            "It will take Minutes to prepare: 15\n",
            "Ingredients: ['peanut butter', 'baby carrots', 'red apple', 'celery', 'decorator sugar']\n",
            "\n",
            "\n",
            "Recipe Name: apple or pear crisp for one\n",
            "It will take Minutes to prepare: 8\n",
            "Ingredients: ['apples', 'brown sugar', 'quick-cooking oats', 'flour', 'cinnamon', 'butter']\n",
            "\n",
            "\n",
            "Recipe Name: applesauce jello salad\n",
            "It will take Minutes to prepare: 12\n",
            "Ingredients: ['unsweetened applesauce', 'sugar-free raspberry gelatin', 'unsweetened orange juice', 'diet 7-up']\n",
            "\n",
            "\n",
            "Recipe Name: artichoke bruschetta\n",
            "It will take Minutes to prepare: 17\n",
            "Ingredients: ['marinated artichoke hearts', 'tomatoes', 'romano cheese', 'red onion', 'garlic cloves', 'mayonnaise', 'french baguette']\n",
            "\n",
            "\n",
            "Recipe Name: asparagus on the side\n",
            "It will take Minutes to prepare: 17\n",
            "Ingredients: ['fresh asparagus', 'water', 'olive oil', 'fresh parmesan cheese', 'grape tomatoes']\n",
            "\n"
          ]
        }
      ]
    },
    {
      "cell_type": "markdown",
      "source": [
        "#### compare RMSE value for different value of K(RecommRecommendation)"
      ],
      "metadata": {
        "id": "F-uWuUgui2Zo"
      }
    },
    {
      "cell_type": "code",
      "source": [
        "# Define the range of number of recommendations to try\n",
        "n_recommendations = [5, 10, 20, 30, 40, 50, 60, 70, 80, 90, 100]\n",
        "\n",
        "# Compute the accuracy metrics for different number of recommendations\n",
        "rmse_scores = []\n",
        "mae_scores = []\n",
        "for n in n_recommendations:\n",
        "    # Train the model on the training set\n",
        "    model.fit(trainset)\n",
        "    # Make predictions on the test set for n recommendations\n",
        "    predictions = model.test(testset[:n])\n",
        "    # Compute and append the RMSE and MAE scores\n",
        "    rmse_scores.append(accuracy.rmse(predictions, verbose=False))\n",
        "    mae_scores.append(accuracy.mae(predictions, verbose=False))\n"
      ],
      "metadata": {
        "colab": {
          "base_uri": "https://localhost:8080/"
        },
        "id": "mlWG03cd1ONV",
        "outputId": "1edb7346-a974-472a-ca9c-9079c4fe684d"
      },
      "execution_count": 61,
      "outputs": [
        {
          "output_type": "stream",
          "name": "stdout",
          "text": [
            "[Prediction(uid=275742, iid=156132, r_ui=5.0, est=4.930181547183327, details={'was_impossible': False}), Prediction(uid=89831, iid=37640, r_ui=5.0, est=5, details={'was_impossible': False}), Prediction(uid=41578, iid=32170, r_ui=5.0, est=5, details={'was_impossible': False}), Prediction(uid=37779, iid=302815, r_ui=5.0, est=4.613014652939386, details={'was_impossible': False}), Prediction(uid=95743, iid=92208, r_ui=5.0, est=4.494526387345404, details={'was_impossible': False})]\n",
            "[Prediction(uid=275742, iid=156132, r_ui=5.0, est=4.9561871212069315, details={'was_impossible': False}), Prediction(uid=89831, iid=37640, r_ui=5.0, est=4.960692724941203, details={'was_impossible': False}), Prediction(uid=41578, iid=32170, r_ui=5.0, est=5, details={'was_impossible': False}), Prediction(uid=37779, iid=302815, r_ui=5.0, est=4.6157677133506505, details={'was_impossible': False}), Prediction(uid=95743, iid=92208, r_ui=5.0, est=4.693199328574508, details={'was_impossible': False}), Prediction(uid=498271, iid=485585, r_ui=5.0, est=4.686087947544973, details={'was_impossible': False}), Prediction(uid=382071, iid=108042, r_ui=5.0, est=4.603572374832838, details={'was_impossible': False}), Prediction(uid=357358, iid=321917, r_ui=5.0, est=4.594540036496351, details={'was_impossible': False}), Prediction(uid=55380, iid=23225, r_ui=4.0, est=4.830096128768104, details={'was_impossible': False}), Prediction(uid=305531, iid=233830, r_ui=5.0, est=4.931289478107849, details={'was_impossible': False})]\n",
            "[Prediction(uid=275742, iid=156132, r_ui=5.0, est=4.928480584006558, details={'was_impossible': False}), Prediction(uid=89831, iid=37640, r_ui=5.0, est=5, details={'was_impossible': False}), Prediction(uid=41578, iid=32170, r_ui=5.0, est=5, details={'was_impossible': False}), Prediction(uid=37779, iid=302815, r_ui=5.0, est=4.638019437510953, details={'was_impossible': False}), Prediction(uid=95743, iid=92208, r_ui=5.0, est=4.349870035467667, details={'was_impossible': False}), Prediction(uid=498271, iid=485585, r_ui=5.0, est=4.689129861966086, details={'was_impossible': False}), Prediction(uid=382071, iid=108042, r_ui=5.0, est=4.427423024490263, details={'was_impossible': False}), Prediction(uid=357358, iid=321917, r_ui=5.0, est=4.651870864609153, details={'was_impossible': False}), Prediction(uid=55380, iid=23225, r_ui=4.0, est=4.4358217504051005, details={'was_impossible': False}), Prediction(uid=305531, iid=233830, r_ui=5.0, est=4.860884371629931, details={'was_impossible': False}), Prediction(uid=1168148, iid=113930, r_ui=5.0, est=5, details={'was_impossible': False}), Prediction(uid=209747, iid=170335, r_ui=3.0, est=4.775566602404185, details={'was_impossible': False}), Prediction(uid=485728, iid=410657, r_ui=5.0, est=4.938676627119965, details={'was_impossible': False}), Prediction(uid=593927, iid=425452, r_ui=4.0, est=4.997276764542411, details={'was_impossible': False}), Prediction(uid=156034, iid=165379, r_ui=4.0, est=4.599790908675105, details={'was_impossible': False}), Prediction(uid=542159, iid=361968, r_ui=5.0, est=4.9825940370688855, details={'was_impossible': False}), Prediction(uid=4470, iid=72747, r_ui=5.0, est=4.764827998335595, details={'was_impossible': False}), Prediction(uid=175124, iid=89207, r_ui=5.0, est=4.90263313611242, details={'was_impossible': False}), Prediction(uid=494084, iid=65287, r_ui=5.0, est=4.739319278773494, details={'was_impossible': False}), Prediction(uid=464080, iid=412886, r_ui=5.0, est=4.512993654339542, details={'was_impossible': False})]\n",
            "[Prediction(uid=275742, iid=156132, r_ui=5.0, est=4.943031216157266, details={'was_impossible': False}), Prediction(uid=89831, iid=37640, r_ui=5.0, est=4.930803604325673, details={'was_impossible': False}), Prediction(uid=41578, iid=32170, r_ui=5.0, est=5, details={'was_impossible': False}), Prediction(uid=37779, iid=302815, r_ui=5.0, est=4.667209599524172, details={'was_impossible': False}), Prediction(uid=95743, iid=92208, r_ui=5.0, est=4.709968588406982, details={'was_impossible': False}), Prediction(uid=498271, iid=485585, r_ui=5.0, est=4.789925581214829, details={'was_impossible': False}), Prediction(uid=382071, iid=108042, r_ui=5.0, est=4.088039105970607, details={'was_impossible': False}), Prediction(uid=357358, iid=321917, r_ui=5.0, est=4.687873104264052, details={'was_impossible': False}), Prediction(uid=55380, iid=23225, r_ui=4.0, est=4.365189261824883, details={'was_impossible': False}), Prediction(uid=305531, iid=233830, r_ui=5.0, est=4.87183033067149, details={'was_impossible': False}), Prediction(uid=1168148, iid=113930, r_ui=5.0, est=5, details={'was_impossible': False}), Prediction(uid=209747, iid=170335, r_ui=3.0, est=4.78093261413467, details={'was_impossible': False}), Prediction(uid=485728, iid=410657, r_ui=5.0, est=4.698003610428874, details={'was_impossible': False}), Prediction(uid=593927, iid=425452, r_ui=4.0, est=4.611216153173901, details={'was_impossible': False}), Prediction(uid=156034, iid=165379, r_ui=4.0, est=4.585879529894239, details={'was_impossible': False}), Prediction(uid=542159, iid=361968, r_ui=5.0, est=4.964560735534737, details={'was_impossible': False}), Prediction(uid=4470, iid=72747, r_ui=5.0, est=4.8152048063543855, details={'was_impossible': False}), Prediction(uid=175124, iid=89207, r_ui=5.0, est=4.864645737058913, details={'was_impossible': False}), Prediction(uid=494084, iid=65287, r_ui=5.0, est=4.737441471460093, details={'was_impossible': False}), Prediction(uid=464080, iid=412886, r_ui=5.0, est=4.516388197588919, details={'was_impossible': False}), Prediction(uid=452355, iid=306156, r_ui=4.0, est=4.335191537117457, details={'was_impossible': False}), Prediction(uid=593927, iid=446126, r_ui=5.0, est=4.848341739498976, details={'was_impossible': False}), Prediction(uid=526666, iid=332093, r_ui=5.0, est=4.884914455836716, details={'was_impossible': False}), Prediction(uid=316717, iid=916, r_ui=3.0, est=3.9828757484651507, details={'was_impossible': False}), Prediction(uid=599450, iid=141651, r_ui=5.0, est=4.482368195986079, details={'was_impossible': False}), Prediction(uid=93446, iid=498060, r_ui=5.0, est=4.869584560560458, details={'was_impossible': False}), Prediction(uid=93997, iid=138654, r_ui=5.0, est=4.740998571526629, details={'was_impossible': False}), Prediction(uid=57042, iid=334409, r_ui=0.0, est=3.789615446874748, details={'was_impossible': False}), Prediction(uid=869184, iid=369578, r_ui=5.0, est=4.9188460624078685, details={'was_impossible': False}), Prediction(uid=296809, iid=48279, r_ui=5.0, est=4.557268775242556, details={'was_impossible': False})]\n",
            "[Prediction(uid=275742, iid=156132, r_ui=5.0, est=4.94664809032602, details={'was_impossible': False}), Prediction(uid=89831, iid=37640, r_ui=5.0, est=4.969453995993697, details={'was_impossible': False}), Prediction(uid=41578, iid=32170, r_ui=5.0, est=5, details={'was_impossible': False}), Prediction(uid=37779, iid=302815, r_ui=5.0, est=4.756808252539239, details={'was_impossible': False}), Prediction(uid=95743, iid=92208, r_ui=5.0, est=4.897722701041548, details={'was_impossible': False}), Prediction(uid=498271, iid=485585, r_ui=5.0, est=4.810301716242083, details={'was_impossible': False}), Prediction(uid=382071, iid=108042, r_ui=5.0, est=4.588932751873605, details={'was_impossible': False}), Prediction(uid=357358, iid=321917, r_ui=5.0, est=4.562236498982513, details={'was_impossible': False}), Prediction(uid=55380, iid=23225, r_ui=4.0, est=4.50000661913311, details={'was_impossible': False}), Prediction(uid=305531, iid=233830, r_ui=5.0, est=4.855148354200167, details={'was_impossible': False}), Prediction(uid=1168148, iid=113930, r_ui=5.0, est=5, details={'was_impossible': False}), Prediction(uid=209747, iid=170335, r_ui=3.0, est=4.763443282507269, details={'was_impossible': False}), Prediction(uid=485728, iid=410657, r_ui=5.0, est=4.745179320297312, details={'was_impossible': False}), Prediction(uid=593927, iid=425452, r_ui=4.0, est=4.711499339505101, details={'was_impossible': False}), Prediction(uid=156034, iid=165379, r_ui=4.0, est=4.570568472713941, details={'was_impossible': False}), Prediction(uid=542159, iid=361968, r_ui=5.0, est=4.996204642739631, details={'was_impossible': False}), Prediction(uid=4470, iid=72747, r_ui=5.0, est=4.8621026065704065, details={'was_impossible': False}), Prediction(uid=175124, iid=89207, r_ui=5.0, est=4.806248945763225, details={'was_impossible': False}), Prediction(uid=494084, iid=65287, r_ui=5.0, est=4.710031369655197, details={'was_impossible': False}), Prediction(uid=464080, iid=412886, r_ui=5.0, est=4.501515667657069, details={'was_impossible': False}), Prediction(uid=452355, iid=306156, r_ui=4.0, est=4.6361855754762935, details={'was_impossible': False}), Prediction(uid=593927, iid=446126, r_ui=5.0, est=4.874356829708866, details={'was_impossible': False}), Prediction(uid=526666, iid=332093, r_ui=5.0, est=4.997848523980048, details={'was_impossible': False}), Prediction(uid=316717, iid=916, r_ui=3.0, est=3.9090811943343344, details={'was_impossible': False}), Prediction(uid=599450, iid=141651, r_ui=5.0, est=4.68474451949746, details={'was_impossible': False}), Prediction(uid=93446, iid=498060, r_ui=5.0, est=4.49090970999628, details={'was_impossible': False}), Prediction(uid=93997, iid=138654, r_ui=5.0, est=4.6460412798351935, details={'was_impossible': False}), Prediction(uid=57042, iid=334409, r_ui=0.0, est=4.071962411983728, details={'was_impossible': False}), Prediction(uid=869184, iid=369578, r_ui=5.0, est=5, details={'was_impossible': False}), Prediction(uid=296809, iid=48279, r_ui=5.0, est=4.54237995008407, details={'was_impossible': False}), Prediction(uid=211184, iid=424502, r_ui=5.0, est=5, details={'was_impossible': False}), Prediction(uid=198154, iid=117565, r_ui=5.0, est=3.8972344495285336, details={'was_impossible': False}), Prediction(uid=324390, iid=400569, r_ui=5.0, est=4.952711662443245, details={'was_impossible': False}), Prediction(uid=52282, iid=94663, r_ui=5.0, est=4.607225774019482, details={'was_impossible': False}), Prediction(uid=1802849661, iid=212439, r_ui=5.0, est=4.93255072899682, details={'was_impossible': False}), Prediction(uid=231057, iid=415164, r_ui=5.0, est=4.942809673643063, details={'was_impossible': False}), Prediction(uid=104295, iid=29357, r_ui=4.0, est=3.657702381920247, details={'was_impossible': False}), Prediction(uid=228458, iid=253540, r_ui=5.0, est=4.336467180037014, details={'was_impossible': False}), Prediction(uid=157425, iid=84574, r_ui=5.0, est=4.861318899456626, details={'was_impossible': False}), Prediction(uid=542159, iid=169254, r_ui=5.0, est=4.770378704694669, details={'was_impossible': False})]\n",
            "[Prediction(uid=275742, iid=156132, r_ui=5.0, est=4.875862333076646, details={'was_impossible': False}), Prediction(uid=89831, iid=37640, r_ui=5.0, est=5, details={'was_impossible': False}), Prediction(uid=41578, iid=32170, r_ui=5.0, est=5, details={'was_impossible': False}), Prediction(uid=37779, iid=302815, r_ui=5.0, est=4.74934131518035, details={'was_impossible': False}), Prediction(uid=95743, iid=92208, r_ui=5.0, est=4.5490756281345135, details={'was_impossible': False}), Prediction(uid=498271, iid=485585, r_ui=5.0, est=4.78428032810161, details={'was_impossible': False}), Prediction(uid=382071, iid=108042, r_ui=5.0, est=4.542135287581656, details={'was_impossible': False}), Prediction(uid=357358, iid=321917, r_ui=5.0, est=4.699781739191057, details={'was_impossible': False}), Prediction(uid=55380, iid=23225, r_ui=4.0, est=4.711912636096796, details={'was_impossible': False}), Prediction(uid=305531, iid=233830, r_ui=5.0, est=4.869424476133806, details={'was_impossible': False}), Prediction(uid=1168148, iid=113930, r_ui=5.0, est=5, details={'was_impossible': False}), Prediction(uid=209747, iid=170335, r_ui=3.0, est=4.638196917698517, details={'was_impossible': False}), Prediction(uid=485728, iid=410657, r_ui=5.0, est=4.827225656850839, details={'was_impossible': False}), Prediction(uid=593927, iid=425452, r_ui=4.0, est=4.552712526035835, details={'was_impossible': False}), Prediction(uid=156034, iid=165379, r_ui=4.0, est=4.54946929847959, details={'was_impossible': False}), Prediction(uid=542159, iid=361968, r_ui=5.0, est=4.9124836401764, details={'was_impossible': False}), Prediction(uid=4470, iid=72747, r_ui=5.0, est=4.976617816642037, details={'was_impossible': False}), Prediction(uid=175124, iid=89207, r_ui=5.0, est=4.991816952122757, details={'was_impossible': False}), Prediction(uid=494084, iid=65287, r_ui=5.0, est=4.858515944248541, details={'was_impossible': False}), Prediction(uid=464080, iid=412886, r_ui=5.0, est=4.508256719643545, details={'was_impossible': False}), Prediction(uid=452355, iid=306156, r_ui=4.0, est=4.4588775872989705, details={'was_impossible': False}), Prediction(uid=593927, iid=446126, r_ui=5.0, est=4.496968427974351, details={'was_impossible': False}), Prediction(uid=526666, iid=332093, r_ui=5.0, est=4.949995552811499, details={'was_impossible': False}), Prediction(uid=316717, iid=916, r_ui=3.0, est=4.060316856589812, details={'was_impossible': False}), Prediction(uid=599450, iid=141651, r_ui=5.0, est=4.7222499433610645, details={'was_impossible': False}), Prediction(uid=93446, iid=498060, r_ui=5.0, est=4.7118924494553305, details={'was_impossible': False}), Prediction(uid=93997, iid=138654, r_ui=5.0, est=4.75817583726618, details={'was_impossible': False}), Prediction(uid=57042, iid=334409, r_ui=0.0, est=3.8567600755876694, details={'was_impossible': False}), Prediction(uid=869184, iid=369578, r_ui=5.0, est=4.8228523994286805, details={'was_impossible': False}), Prediction(uid=296809, iid=48279, r_ui=5.0, est=4.587687913135455, details={'was_impossible': False}), Prediction(uid=211184, iid=424502, r_ui=5.0, est=4.979428745629811, details={'was_impossible': False}), Prediction(uid=198154, iid=117565, r_ui=5.0, est=3.910937488322099, details={'was_impossible': False}), Prediction(uid=324390, iid=400569, r_ui=5.0, est=5, details={'was_impossible': False}), Prediction(uid=52282, iid=94663, r_ui=5.0, est=4.5502261030227, details={'was_impossible': False}), Prediction(uid=1802849661, iid=212439, r_ui=5.0, est=5, details={'was_impossible': False}), Prediction(uid=231057, iid=415164, r_ui=5.0, est=4.963153883607296, details={'was_impossible': False}), Prediction(uid=104295, iid=29357, r_ui=4.0, est=4.491224746297085, details={'was_impossible': False}), Prediction(uid=228458, iid=253540, r_ui=5.0, est=4.328204117370894, details={'was_impossible': False}), Prediction(uid=157425, iid=84574, r_ui=5.0, est=4.659112088487476, details={'was_impossible': False}), Prediction(uid=542159, iid=169254, r_ui=5.0, est=4.7597469607649, details={'was_impossible': False}), Prediction(uid=705251, iid=190476, r_ui=3.0, est=4.640588077342486, details={'was_impossible': False}), Prediction(uid=322326, iid=106438, r_ui=5.0, est=4.728993744929068, details={'was_impossible': False}), Prediction(uid=186802, iid=64915, r_ui=5.0, est=4.9452849626085715, details={'was_impossible': False}), Prediction(uid=104295, iid=146775, r_ui=4.0, est=3.7973355470595274, details={'was_impossible': False}), Prediction(uid=168416, iid=4395, r_ui=5.0, est=4.120774440534448, details={'was_impossible': False}), Prediction(uid=36128, iid=19247, r_ui=5.0, est=4.748865716425994, details={'was_impossible': False}), Prediction(uid=246482, iid=218227, r_ui=0.0, est=4.786684253610519, details={'was_impossible': False}), Prediction(uid=498271, iid=331211, r_ui=5.0, est=4.847733151883522, details={'was_impossible': False}), Prediction(uid=188119, iid=12711, r_ui=5.0, est=4.595318669783188, details={'was_impossible': False}), Prediction(uid=394085, iid=16574, r_ui=3.0, est=4.512343824995123, details={'was_impossible': False})]\n",
            "[Prediction(uid=275742, iid=156132, r_ui=5.0, est=4.941463870205599, details={'was_impossible': False}), Prediction(uid=89831, iid=37640, r_ui=5.0, est=4.9902327316494315, details={'was_impossible': False}), Prediction(uid=41578, iid=32170, r_ui=5.0, est=5, details={'was_impossible': False}), Prediction(uid=37779, iid=302815, r_ui=5.0, est=4.570682162290088, details={'was_impossible': False}), Prediction(uid=95743, iid=92208, r_ui=5.0, est=4.968528158947359, details={'was_impossible': False}), Prediction(uid=498271, iid=485585, r_ui=5.0, est=4.747863546136451, details={'was_impossible': False}), Prediction(uid=382071, iid=108042, r_ui=5.0, est=4.273285305484556, details={'was_impossible': False}), Prediction(uid=357358, iid=321917, r_ui=5.0, est=4.794119746503526, details={'was_impossible': False}), Prediction(uid=55380, iid=23225, r_ui=4.0, est=4.593258971488111, details={'was_impossible': False}), Prediction(uid=305531, iid=233830, r_ui=5.0, est=4.865958106318359, details={'was_impossible': False}), Prediction(uid=1168148, iid=113930, r_ui=5.0, est=5, details={'was_impossible': False}), Prediction(uid=209747, iid=170335, r_ui=3.0, est=4.741056538336132, details={'was_impossible': False}), Prediction(uid=485728, iid=410657, r_ui=5.0, est=4.646819113182007, details={'was_impossible': False}), Prediction(uid=593927, iid=425452, r_ui=4.0, est=4.769529657337575, details={'was_impossible': False}), Prediction(uid=156034, iid=165379, r_ui=4.0, est=4.597209912015731, details={'was_impossible': False}), Prediction(uid=542159, iid=361968, r_ui=5.0, est=5, details={'was_impossible': False}), Prediction(uid=4470, iid=72747, r_ui=5.0, est=4.701883232936316, details={'was_impossible': False}), Prediction(uid=175124, iid=89207, r_ui=5.0, est=4.839062996147804, details={'was_impossible': False}), Prediction(uid=494084, iid=65287, r_ui=5.0, est=4.918790602307064, details={'was_impossible': False}), Prediction(uid=464080, iid=412886, r_ui=5.0, est=4.4989446831265765, details={'was_impossible': False}), Prediction(uid=452355, iid=306156, r_ui=4.0, est=4.300969596618777, details={'was_impossible': False}), Prediction(uid=593927, iid=446126, r_ui=5.0, est=4.544229737941179, details={'was_impossible': False}), Prediction(uid=526666, iid=332093, r_ui=5.0, est=4.930716386875898, details={'was_impossible': False}), Prediction(uid=316717, iid=916, r_ui=3.0, est=3.9084655639890613, details={'was_impossible': False}), Prediction(uid=599450, iid=141651, r_ui=5.0, est=4.7005939343228365, details={'was_impossible': False}), Prediction(uid=93446, iid=498060, r_ui=5.0, est=4.731542266636616, details={'was_impossible': False}), Prediction(uid=93997, iid=138654, r_ui=5.0, est=4.690359108458815, details={'was_impossible': False}), Prediction(uid=57042, iid=334409, r_ui=0.0, est=3.8223440978959395, details={'was_impossible': False}), Prediction(uid=869184, iid=369578, r_ui=5.0, est=4.687153444806951, details={'was_impossible': False}), Prediction(uid=296809, iid=48279, r_ui=5.0, est=4.56706852638611, details={'was_impossible': False}), Prediction(uid=211184, iid=424502, r_ui=5.0, est=4.883768010697207, details={'was_impossible': False}), Prediction(uid=198154, iid=117565, r_ui=5.0, est=4.269456845533953, details={'was_impossible': False}), Prediction(uid=324390, iid=400569, r_ui=5.0, est=4.922259883837867, details={'was_impossible': False}), Prediction(uid=52282, iid=94663, r_ui=5.0, est=4.555985001429415, details={'was_impossible': False}), Prediction(uid=1802849661, iid=212439, r_ui=5.0, est=4.891732120472577, details={'was_impossible': False}), Prediction(uid=231057, iid=415164, r_ui=5.0, est=4.962047776511512, details={'was_impossible': False}), Prediction(uid=104295, iid=29357, r_ui=4.0, est=4.261746652470464, details={'was_impossible': False}), Prediction(uid=228458, iid=253540, r_ui=5.0, est=4.338983318305437, details={'was_impossible': False}), Prediction(uid=157425, iid=84574, r_ui=5.0, est=4.655970930404731, details={'was_impossible': False}), Prediction(uid=542159, iid=169254, r_ui=5.0, est=4.764959079592753, details={'was_impossible': False}), Prediction(uid=705251, iid=190476, r_ui=3.0, est=4.40928935911589, details={'was_impossible': False}), Prediction(uid=322326, iid=106438, r_ui=5.0, est=4.723846629881802, details={'was_impossible': False}), Prediction(uid=186802, iid=64915, r_ui=5.0, est=5, details={'was_impossible': False}), Prediction(uid=104295, iid=146775, r_ui=4.0, est=3.3034729033519015, details={'was_impossible': False}), Prediction(uid=168416, iid=4395, r_ui=5.0, est=4.278647098375301, details={'was_impossible': False}), Prediction(uid=36128, iid=19247, r_ui=5.0, est=4.79832177662786, details={'was_impossible': False}), Prediction(uid=246482, iid=218227, r_ui=0.0, est=4.92837741855412, details={'was_impossible': False}), Prediction(uid=498271, iid=331211, r_ui=5.0, est=4.82773046590843, details={'was_impossible': False}), Prediction(uid=188119, iid=12711, r_ui=5.0, est=4.641919450375119, details={'was_impossible': False}), Prediction(uid=394085, iid=16574, r_ui=3.0, est=4.577393692032127, details={'was_impossible': False}), Prediction(uid=192264, iid=150768, r_ui=5.0, est=4.50645395403974, details={'was_impossible': False}), Prediction(uid=383346, iid=306127, r_ui=4.0, est=4.645596379652263, details={'was_impossible': False}), Prediction(uid=35140, iid=170905, r_ui=5.0, est=4.859869360778229, details={'was_impossible': False}), Prediction(uid=1375473, iid=358875, r_ui=4.0, est=4.8129215331512665, details={'was_impossible': False}), Prediction(uid=53932, iid=234508, r_ui=4.0, est=4.606243548127203, details={'was_impossible': False}), Prediction(uid=124249, iid=28924, r_ui=5.0, est=4.795453418785943, details={'was_impossible': False}), Prediction(uid=136997, iid=243370, r_ui=5.0, est=4.406502785424819, details={'was_impossible': False}), Prediction(uid=171790, iid=85504, r_ui=5.0, est=4.699784984832284, details={'was_impossible': False}), Prediction(uid=482812, iid=103767, r_ui=4.0, est=4.737252803397991, details={'was_impossible': False}), Prediction(uid=645114, iid=33875, r_ui=5.0, est=4.4289953935049295, details={'was_impossible': False})]\n",
            "[Prediction(uid=275742, iid=156132, r_ui=5.0, est=4.957701782192178, details={'was_impossible': False}), Prediction(uid=89831, iid=37640, r_ui=5.0, est=5, details={'was_impossible': False}), Prediction(uid=41578, iid=32170, r_ui=5.0, est=5, details={'was_impossible': False}), Prediction(uid=37779, iid=302815, r_ui=5.0, est=4.686600374273736, details={'was_impossible': False}), Prediction(uid=95743, iid=92208, r_ui=5.0, est=4.470375043236547, details={'was_impossible': False}), Prediction(uid=498271, iid=485585, r_ui=5.0, est=4.710054475223694, details={'was_impossible': False}), Prediction(uid=382071, iid=108042, r_ui=5.0, est=4.631989905249263, details={'was_impossible': False}), Prediction(uid=357358, iid=321917, r_ui=5.0, est=4.527083785713922, details={'was_impossible': False}), Prediction(uid=55380, iid=23225, r_ui=4.0, est=4.806199828358832, details={'was_impossible': False}), Prediction(uid=305531, iid=233830, r_ui=5.0, est=4.833158487563819, details={'was_impossible': False}), Prediction(uid=1168148, iid=113930, r_ui=5.0, est=4.99707003656683, details={'was_impossible': False}), Prediction(uid=209747, iid=170335, r_ui=3.0, est=4.849089080705737, details={'was_impossible': False}), Prediction(uid=485728, iid=410657, r_ui=5.0, est=4.852527835544307, details={'was_impossible': False}), Prediction(uid=593927, iid=425452, r_ui=4.0, est=4.425915966838256, details={'was_impossible': False}), Prediction(uid=156034, iid=165379, r_ui=4.0, est=4.598429355663209, details={'was_impossible': False}), Prediction(uid=542159, iid=361968, r_ui=5.0, est=4.918397329976044, details={'was_impossible': False}), Prediction(uid=4470, iid=72747, r_ui=5.0, est=4.903210537707055, details={'was_impossible': False}), Prediction(uid=175124, iid=89207, r_ui=5.0, est=4.704147572519886, details={'was_impossible': False}), Prediction(uid=494084, iid=65287, r_ui=5.0, est=4.787704353451334, details={'was_impossible': False}), Prediction(uid=464080, iid=412886, r_ui=5.0, est=4.524074194902825, details={'was_impossible': False}), Prediction(uid=452355, iid=306156, r_ui=4.0, est=4.3831943583864215, details={'was_impossible': False}), Prediction(uid=593927, iid=446126, r_ui=5.0, est=4.516172902554354, details={'was_impossible': False}), Prediction(uid=526666, iid=332093, r_ui=5.0, est=4.804678947650753, details={'was_impossible': False}), Prediction(uid=316717, iid=916, r_ui=3.0, est=4.0253979649121, details={'was_impossible': False}), Prediction(uid=599450, iid=141651, r_ui=5.0, est=4.688027124853384, details={'was_impossible': False}), Prediction(uid=93446, iid=498060, r_ui=5.0, est=4.767184498771004, details={'was_impossible': False}), Prediction(uid=93997, iid=138654, r_ui=5.0, est=4.667956000231786, details={'was_impossible': False}), Prediction(uid=57042, iid=334409, r_ui=0.0, est=3.5537627906801186, details={'was_impossible': False}), Prediction(uid=869184, iid=369578, r_ui=5.0, est=4.807557995827981, details={'was_impossible': False}), Prediction(uid=296809, iid=48279, r_ui=5.0, est=4.718531783946513, details={'was_impossible': False}), Prediction(uid=211184, iid=424502, r_ui=5.0, est=4.9050526207687595, details={'was_impossible': False}), Prediction(uid=198154, iid=117565, r_ui=5.0, est=3.9224822753607698, details={'was_impossible': False}), Prediction(uid=324390, iid=400569, r_ui=5.0, est=4.947188732188028, details={'was_impossible': False}), Prediction(uid=52282, iid=94663, r_ui=5.0, est=4.53850687559304, details={'was_impossible': False}), Prediction(uid=1802849661, iid=212439, r_ui=5.0, est=4.883051730312896, details={'was_impossible': False}), Prediction(uid=231057, iid=415164, r_ui=5.0, est=4.965924775669452, details={'was_impossible': False}), Prediction(uid=104295, iid=29357, r_ui=4.0, est=4.080321957267893, details={'was_impossible': False}), Prediction(uid=228458, iid=253540, r_ui=5.0, est=4.342141596830803, details={'was_impossible': False}), Prediction(uid=157425, iid=84574, r_ui=5.0, est=5, details={'was_impossible': False}), Prediction(uid=542159, iid=169254, r_ui=5.0, est=4.780988136058744, details={'was_impossible': False}), Prediction(uid=705251, iid=190476, r_ui=3.0, est=4.482043187479968, details={'was_impossible': False}), Prediction(uid=322326, iid=106438, r_ui=5.0, est=4.7051302374163155, details={'was_impossible': False}), Prediction(uid=186802, iid=64915, r_ui=5.0, est=5, details={'was_impossible': False}), Prediction(uid=104295, iid=146775, r_ui=4.0, est=3.8081438344509695, details={'was_impossible': False}), Prediction(uid=168416, iid=4395, r_ui=5.0, est=4.120721169030757, details={'was_impossible': False}), Prediction(uid=36128, iid=19247, r_ui=5.0, est=4.883886171387918, details={'was_impossible': False}), Prediction(uid=246482, iid=218227, r_ui=0.0, est=4.931262035071452, details={'was_impossible': False}), Prediction(uid=498271, iid=331211, r_ui=5.0, est=4.755795809342176, details={'was_impossible': False}), Prediction(uid=188119, iid=12711, r_ui=5.0, est=4.669782470397342, details={'was_impossible': False}), Prediction(uid=394085, iid=16574, r_ui=3.0, est=4.39488295756123, details={'was_impossible': False}), Prediction(uid=192264, iid=150768, r_ui=5.0, est=4.536035533362784, details={'was_impossible': False}), Prediction(uid=383346, iid=306127, r_ui=4.0, est=4.815917258660233, details={'was_impossible': False}), Prediction(uid=35140, iid=170905, r_ui=5.0, est=4.686086241287664, details={'was_impossible': False}), Prediction(uid=1375473, iid=358875, r_ui=4.0, est=4.896649865673982, details={'was_impossible': False}), Prediction(uid=53932, iid=234508, r_ui=4.0, est=4.591942127705759, details={'was_impossible': False}), Prediction(uid=124249, iid=28924, r_ui=5.0, est=4.763138425203593, details={'was_impossible': False}), Prediction(uid=136997, iid=243370, r_ui=5.0, est=4.390723213379649, details={'was_impossible': False}), Prediction(uid=171790, iid=85504, r_ui=5.0, est=4.737808644899607, details={'was_impossible': False}), Prediction(uid=482812, iid=103767, r_ui=4.0, est=4.459678765574461, details={'was_impossible': False}), Prediction(uid=645114, iid=33875, r_ui=5.0, est=4.2578010619179745, details={'was_impossible': False}), Prediction(uid=93006, iid=122481, r_ui=5.0, est=4.716761178965028, details={'was_impossible': False}), Prediction(uid=4291, iid=16371, r_ui=5.0, est=4.832731900174592, details={'was_impossible': False}), Prediction(uid=119466, iid=163922, r_ui=5.0, est=5, details={'was_impossible': False}), Prediction(uid=351811, iid=37201, r_ui=5.0, est=4.587344961504614, details={'was_impossible': False}), Prediction(uid=107583, iid=132855, r_ui=5.0, est=4.840232750694937, details={'was_impossible': False}), Prediction(uid=6357, iid=55802, r_ui=4.0, est=4.696772805226239, details={'was_impossible': False}), Prediction(uid=329638, iid=28026, r_ui=5.0, est=5, details={'was_impossible': False}), Prediction(uid=296809, iid=217032, r_ui=4.0, est=4.647956176817387, details={'was_impossible': False}), Prediction(uid=29196, iid=303911, r_ui=5.0, est=4.629566907468076, details={'was_impossible': False}), Prediction(uid=305531, iid=202806, r_ui=5.0, est=4.919521108910416, details={'was_impossible': False})]\n",
            "[Prediction(uid=275742, iid=156132, r_ui=5.0, est=4.926454195191422, details={'was_impossible': False}), Prediction(uid=89831, iid=37640, r_ui=5.0, est=4.981464032229159, details={'was_impossible': False}), Prediction(uid=41578, iid=32170, r_ui=5.0, est=5, details={'was_impossible': False}), Prediction(uid=37779, iid=302815, r_ui=5.0, est=4.595799517855486, details={'was_impossible': False}), Prediction(uid=95743, iid=92208, r_ui=5.0, est=4.514266329781806, details={'was_impossible': False}), Prediction(uid=498271, iid=485585, r_ui=5.0, est=4.808118965793478, details={'was_impossible': False}), Prediction(uid=382071, iid=108042, r_ui=5.0, est=4.393049475993352, details={'was_impossible': False}), Prediction(uid=357358, iid=321917, r_ui=5.0, est=4.61016584813633, details={'was_impossible': False}), Prediction(uid=55380, iid=23225, r_ui=4.0, est=4.748468216422335, details={'was_impossible': False}), Prediction(uid=305531, iid=233830, r_ui=5.0, est=4.867274834788282, details={'was_impossible': False}), Prediction(uid=1168148, iid=113930, r_ui=5.0, est=4.938037421814927, details={'was_impossible': False}), Prediction(uid=209747, iid=170335, r_ui=3.0, est=4.911054376149743, details={'was_impossible': False}), Prediction(uid=485728, iid=410657, r_ui=5.0, est=4.908496615382164, details={'was_impossible': False}), Prediction(uid=593927, iid=425452, r_ui=4.0, est=4.604460758600348, details={'was_impossible': False}), Prediction(uid=156034, iid=165379, r_ui=4.0, est=4.581275883826484, details={'was_impossible': False}), Prediction(uid=542159, iid=361968, r_ui=5.0, est=4.917400492608129, details={'was_impossible': False}), Prediction(uid=4470, iid=72747, r_ui=5.0, est=4.689782887522558, details={'was_impossible': False}), Prediction(uid=175124, iid=89207, r_ui=5.0, est=4.611063311454578, details={'was_impossible': False}), Prediction(uid=494084, iid=65287, r_ui=5.0, est=4.616841296401112, details={'was_impossible': False}), Prediction(uid=464080, iid=412886, r_ui=5.0, est=4.509030181153331, details={'was_impossible': False}), Prediction(uid=452355, iid=306156, r_ui=4.0, est=4.474102537297914, details={'was_impossible': False}), Prediction(uid=593927, iid=446126, r_ui=5.0, est=4.587829150045138, details={'was_impossible': False}), Prediction(uid=526666, iid=332093, r_ui=5.0, est=5, details={'was_impossible': False}), Prediction(uid=316717, iid=916, r_ui=3.0, est=3.954797523271231, details={'was_impossible': False}), Prediction(uid=599450, iid=141651, r_ui=5.0, est=4.730322521927585, details={'was_impossible': False}), Prediction(uid=93446, iid=498060, r_ui=5.0, est=4.753578249403909, details={'was_impossible': False}), Prediction(uid=93997, iid=138654, r_ui=5.0, est=4.760549581246209, details={'was_impossible': False}), Prediction(uid=57042, iid=334409, r_ui=0.0, est=3.9818068747897533, details={'was_impossible': False}), Prediction(uid=869184, iid=369578, r_ui=5.0, est=4.910006029770941, details={'was_impossible': False}), Prediction(uid=296809, iid=48279, r_ui=5.0, est=4.650940153772668, details={'was_impossible': False}), Prediction(uid=211184, iid=424502, r_ui=5.0, est=5, details={'was_impossible': False}), Prediction(uid=198154, iid=117565, r_ui=5.0, est=3.9935247499308715, details={'was_impossible': False}), Prediction(uid=324390, iid=400569, r_ui=5.0, est=4.933273786878202, details={'was_impossible': False}), Prediction(uid=52282, iid=94663, r_ui=5.0, est=4.660867575339371, details={'was_impossible': False}), Prediction(uid=1802849661, iid=212439, r_ui=5.0, est=4.727834211429827, details={'was_impossible': False}), Prediction(uid=231057, iid=415164, r_ui=5.0, est=4.9729756429250225, details={'was_impossible': False}), Prediction(uid=104295, iid=29357, r_ui=4.0, est=5, details={'was_impossible': False}), Prediction(uid=228458, iid=253540, r_ui=5.0, est=4.31643427387446, details={'was_impossible': False}), Prediction(uid=157425, iid=84574, r_ui=5.0, est=4.746813151373014, details={'was_impossible': False}), Prediction(uid=542159, iid=169254, r_ui=5.0, est=4.769921196307321, details={'was_impossible': False}), Prediction(uid=705251, iid=190476, r_ui=3.0, est=4.7893759416015325, details={'was_impossible': False}), Prediction(uid=322326, iid=106438, r_ui=5.0, est=4.7139928946740035, details={'was_impossible': False}), Prediction(uid=186802, iid=64915, r_ui=5.0, est=4.988653546472013, details={'was_impossible': False}), Prediction(uid=104295, iid=146775, r_ui=4.0, est=4.3516856543717415, details={'was_impossible': False}), Prediction(uid=168416, iid=4395, r_ui=5.0, est=4.189701831133177, details={'was_impossible': False}), Prediction(uid=36128, iid=19247, r_ui=5.0, est=4.751145102464177, details={'was_impossible': False}), Prediction(uid=246482, iid=218227, r_ui=0.0, est=4.778943482857187, details={'was_impossible': False}), Prediction(uid=498271, iid=331211, r_ui=5.0, est=4.732350350692792, details={'was_impossible': False}), Prediction(uid=188119, iid=12711, r_ui=5.0, est=4.780504255964517, details={'was_impossible': False}), Prediction(uid=394085, iid=16574, r_ui=3.0, est=4.391040881217242, details={'was_impossible': False}), Prediction(uid=192264, iid=150768, r_ui=5.0, est=4.7571084044195455, details={'was_impossible': False}), Prediction(uid=383346, iid=306127, r_ui=4.0, est=4.702820847987828, details={'was_impossible': False}), Prediction(uid=35140, iid=170905, r_ui=5.0, est=4.830046341933591, details={'was_impossible': False}), Prediction(uid=1375473, iid=358875, r_ui=4.0, est=4.942826618424715, details={'was_impossible': False}), Prediction(uid=53932, iid=234508, r_ui=4.0, est=4.595089072035762, details={'was_impossible': False}), Prediction(uid=124249, iid=28924, r_ui=5.0, est=4.709072855813649, details={'was_impossible': False}), Prediction(uid=136997, iid=243370, r_ui=5.0, est=4.6129615788937866, details={'was_impossible': False}), Prediction(uid=171790, iid=85504, r_ui=5.0, est=4.68291715430195, details={'was_impossible': False}), Prediction(uid=482812, iid=103767, r_ui=4.0, est=4.665652406400328, details={'was_impossible': False}), Prediction(uid=645114, iid=33875, r_ui=5.0, est=4.035534955647234, details={'was_impossible': False}), Prediction(uid=93006, iid=122481, r_ui=5.0, est=4.913638787532862, details={'was_impossible': False}), Prediction(uid=4291, iid=16371, r_ui=5.0, est=4.656210491423822, details={'was_impossible': False}), Prediction(uid=119466, iid=163922, r_ui=5.0, est=4.916792110042246, details={'was_impossible': False}), Prediction(uid=351811, iid=37201, r_ui=5.0, est=4.531059283521485, details={'was_impossible': False}), Prediction(uid=107583, iid=132855, r_ui=5.0, est=4.886400338985098, details={'was_impossible': False}), Prediction(uid=6357, iid=55802, r_ui=4.0, est=4.928484326869309, details={'was_impossible': False}), Prediction(uid=329638, iid=28026, r_ui=5.0, est=5, details={'was_impossible': False}), Prediction(uid=296809, iid=217032, r_ui=4.0, est=4.52610324210051, details={'was_impossible': False}), Prediction(uid=29196, iid=303911, r_ui=5.0, est=4.835025714147921, details={'was_impossible': False}), Prediction(uid=305531, iid=202806, r_ui=5.0, est=4.986994223764677, details={'was_impossible': False}), Prediction(uid=527607, iid=237608, r_ui=5.0, est=4.740062398577326, details={'was_impossible': False}), Prediction(uid=104295, iid=373581, r_ui=4.0, est=4.29839811790622, details={'was_impossible': False}), Prediction(uid=351811, iid=296519, r_ui=4.0, est=4.901522357647689, details={'was_impossible': False}), Prediction(uid=37449, iid=317271, r_ui=5.0, est=4.816767483247822, details={'was_impossible': False}), Prediction(uid=86318, iid=323377, r_ui=5.0, est=4.458708325783074, details={'was_impossible': False}), Prediction(uid=86764, iid=132335, r_ui=5.0, est=4.620181995836352, details={'was_impossible': False}), Prediction(uid=500860, iid=101041, r_ui=5.0, est=4.507176440853722, details={'was_impossible': False}), Prediction(uid=131126, iid=244275, r_ui=5.0, est=5, details={'was_impossible': False}), Prediction(uid=486725, iid=435962, r_ui=4.0, est=4.438588502765852, details={'was_impossible': False}), Prediction(uid=201581, iid=449279, r_ui=5.0, est=4.841612513522309, details={'was_impossible': False})]\n",
            "[Prediction(uid=275742, iid=156132, r_ui=5.0, est=4.948606615147876, details={'was_impossible': False}), Prediction(uid=89831, iid=37640, r_ui=5.0, est=4.983028763347514, details={'was_impossible': False}), Prediction(uid=41578, iid=32170, r_ui=5.0, est=4.967779590652818, details={'was_impossible': False}), Prediction(uid=37779, iid=302815, r_ui=5.0, est=4.811943583099254, details={'was_impossible': False}), Prediction(uid=95743, iid=92208, r_ui=5.0, est=4.902458665328083, details={'was_impossible': False}), Prediction(uid=498271, iid=485585, r_ui=5.0, est=4.711423646288344, details={'was_impossible': False}), Prediction(uid=382071, iid=108042, r_ui=5.0, est=4.424268179547289, details={'was_impossible': False}), Prediction(uid=357358, iid=321917, r_ui=5.0, est=4.7129631400961305, details={'was_impossible': False}), Prediction(uid=55380, iid=23225, r_ui=4.0, est=4.443647749624894, details={'was_impossible': False}), Prediction(uid=305531, iid=233830, r_ui=5.0, est=4.916703210380846, details={'was_impossible': False}), Prediction(uid=1168148, iid=113930, r_ui=5.0, est=5, details={'was_impossible': False}), Prediction(uid=209747, iid=170335, r_ui=3.0, est=4.73231119249966, details={'was_impossible': False}), Prediction(uid=485728, iid=410657, r_ui=5.0, est=4.926523243748852, details={'was_impossible': False}), Prediction(uid=593927, iid=425452, r_ui=4.0, est=4.7008589440035236, details={'was_impossible': False}), Prediction(uid=156034, iid=165379, r_ui=4.0, est=4.5918043653452365, details={'was_impossible': False}), Prediction(uid=542159, iid=361968, r_ui=5.0, est=5, details={'was_impossible': False}), Prediction(uid=4470, iid=72747, r_ui=5.0, est=4.986694983765606, details={'was_impossible': False}), Prediction(uid=175124, iid=89207, r_ui=5.0, est=4.99689009982534, details={'was_impossible': False}), Prediction(uid=494084, iid=65287, r_ui=5.0, est=4.659618262431838, details={'was_impossible': False}), Prediction(uid=464080, iid=412886, r_ui=5.0, est=4.505978395745331, details={'was_impossible': False}), Prediction(uid=452355, iid=306156, r_ui=4.0, est=4.502068368629427, details={'was_impossible': False}), Prediction(uid=593927, iid=446126, r_ui=5.0, est=4.856690571457193, details={'was_impossible': False}), Prediction(uid=526666, iid=332093, r_ui=5.0, est=4.976108049492478, details={'was_impossible': False}), Prediction(uid=316717, iid=916, r_ui=3.0, est=3.961616667331592, details={'was_impossible': False}), Prediction(uid=599450, iid=141651, r_ui=5.0, est=4.659797151423998, details={'was_impossible': False}), Prediction(uid=93446, iid=498060, r_ui=5.0, est=4.765274353822662, details={'was_impossible': False}), Prediction(uid=93997, iid=138654, r_ui=5.0, est=4.801846972228759, details={'was_impossible': False}), Prediction(uid=57042, iid=334409, r_ui=0.0, est=3.778157990904556, details={'was_impossible': False}), Prediction(uid=869184, iid=369578, r_ui=5.0, est=4.920561008448699, details={'was_impossible': False}), Prediction(uid=296809, iid=48279, r_ui=5.0, est=4.639776730768018, details={'was_impossible': False}), Prediction(uid=211184, iid=424502, r_ui=5.0, est=4.9776783773849544, details={'was_impossible': False}), Prediction(uid=198154, iid=117565, r_ui=5.0, est=3.964664610301262, details={'was_impossible': False}), Prediction(uid=324390, iid=400569, r_ui=5.0, est=5, details={'was_impossible': False}), Prediction(uid=52282, iid=94663, r_ui=5.0, est=4.482228937581926, details={'was_impossible': False}), Prediction(uid=1802849661, iid=212439, r_ui=5.0, est=4.9154516475408725, details={'was_impossible': False}), Prediction(uid=231057, iid=415164, r_ui=5.0, est=4.972898181477802, details={'was_impossible': False}), Prediction(uid=104295, iid=29357, r_ui=4.0, est=4.475404290602378, details={'was_impossible': False}), Prediction(uid=228458, iid=253540, r_ui=5.0, est=4.34135990533484, details={'was_impossible': False}), Prediction(uid=157425, iid=84574, r_ui=5.0, est=4.761727646582725, details={'was_impossible': False}), Prediction(uid=542159, iid=169254, r_ui=5.0, est=4.771456894341066, details={'was_impossible': False}), Prediction(uid=705251, iid=190476, r_ui=3.0, est=4.805592112588082, details={'was_impossible': False}), Prediction(uid=322326, iid=106438, r_ui=5.0, est=4.704922129583302, details={'was_impossible': False}), Prediction(uid=186802, iid=64915, r_ui=5.0, est=5, details={'was_impossible': False}), Prediction(uid=104295, iid=146775, r_ui=4.0, est=4.03476397449115, details={'was_impossible': False}), Prediction(uid=168416, iid=4395, r_ui=5.0, est=4.103366770051646, details={'was_impossible': False}), Prediction(uid=36128, iid=19247, r_ui=5.0, est=4.760610420565704, details={'was_impossible': False}), Prediction(uid=246482, iid=218227, r_ui=0.0, est=4.8712739569661165, details={'was_impossible': False}), Prediction(uid=498271, iid=331211, r_ui=5.0, est=4.769942536568002, details={'was_impossible': False}), Prediction(uid=188119, iid=12711, r_ui=5.0, est=4.83158009577485, details={'was_impossible': False}), Prediction(uid=394085, iid=16574, r_ui=3.0, est=4.29560084187423, details={'was_impossible': False}), Prediction(uid=192264, iid=150768, r_ui=5.0, est=4.726005683807507, details={'was_impossible': False}), Prediction(uid=383346, iid=306127, r_ui=4.0, est=4.846805372228289, details={'was_impossible': False}), Prediction(uid=35140, iid=170905, r_ui=5.0, est=4.9536997846057815, details={'was_impossible': False}), Prediction(uid=1375473, iid=358875, r_ui=4.0, est=4.902246405613931, details={'was_impossible': False}), Prediction(uid=53932, iid=234508, r_ui=4.0, est=4.738545439468758, details={'was_impossible': False}), Prediction(uid=124249, iid=28924, r_ui=5.0, est=4.590783863843459, details={'was_impossible': False}), Prediction(uid=136997, iid=243370, r_ui=5.0, est=4.463048435639225, details={'was_impossible': False}), Prediction(uid=171790, iid=85504, r_ui=5.0, est=4.612938084514523, details={'was_impossible': False}), Prediction(uid=482812, iid=103767, r_ui=4.0, est=4.781569174150088, details={'was_impossible': False}), Prediction(uid=645114, iid=33875, r_ui=5.0, est=4.281490056670576, details={'was_impossible': False}), Prediction(uid=93006, iid=122481, r_ui=5.0, est=4.480278887048313, details={'was_impossible': False}), Prediction(uid=4291, iid=16371, r_ui=5.0, est=4.824665088985345, details={'was_impossible': False}), Prediction(uid=119466, iid=163922, r_ui=5.0, est=4.926797514156023, details={'was_impossible': False}), Prediction(uid=351811, iid=37201, r_ui=5.0, est=4.489000308573821, details={'was_impossible': False}), Prediction(uid=107583, iid=132855, r_ui=5.0, est=4.801446253436202, details={'was_impossible': False}), Prediction(uid=6357, iid=55802, r_ui=4.0, est=4.709431369779712, details={'was_impossible': False}), Prediction(uid=329638, iid=28026, r_ui=5.0, est=5, details={'was_impossible': False}), Prediction(uid=296809, iid=217032, r_ui=4.0, est=4.405526357231357, details={'was_impossible': False}), Prediction(uid=29196, iid=303911, r_ui=5.0, est=4.797185026357569, details={'was_impossible': False}), Prediction(uid=305531, iid=202806, r_ui=5.0, est=4.981598486141832, details={'was_impossible': False}), Prediction(uid=527607, iid=237608, r_ui=5.0, est=5, details={'was_impossible': False}), Prediction(uid=104295, iid=373581, r_ui=4.0, est=3.5513794082781547, details={'was_impossible': False}), Prediction(uid=351811, iid=296519, r_ui=4.0, est=4.877719013796796, details={'was_impossible': False}), Prediction(uid=37449, iid=317271, r_ui=5.0, est=4.8231680163637165, details={'was_impossible': False}), Prediction(uid=86318, iid=323377, r_ui=5.0, est=4.552361213041111, details={'was_impossible': False}), Prediction(uid=86764, iid=132335, r_ui=5.0, est=4.76646821337066, details={'was_impossible': False}), Prediction(uid=500860, iid=101041, r_ui=5.0, est=4.443323231596999, details={'was_impossible': False}), Prediction(uid=131126, iid=244275, r_ui=5.0, est=4.950484426308597, details={'was_impossible': False}), Prediction(uid=486725, iid=435962, r_ui=4.0, est=4.384001326972426, details={'was_impossible': False}), Prediction(uid=201581, iid=449279, r_ui=5.0, est=5, details={'was_impossible': False}), Prediction(uid=169430, iid=276008, r_ui=5.0, est=4.748429491213649, details={'was_impossible': False}), Prediction(uid=954555, iid=188164, r_ui=5.0, est=4.677099438486514, details={'was_impossible': False}), Prediction(uid=130663, iid=135452, r_ui=0.0, est=4.837774094165316, details={'was_impossible': False}), Prediction(uid=305531, iid=264495, r_ui=5.0, est=4.822524062869094, details={'was_impossible': False}), Prediction(uid=222478, iid=165281, r_ui=5.0, est=4.926816400294086, details={'was_impossible': False}), Prediction(uid=146284, iid=144963, r_ui=5.0, est=4.984047993217049, details={'was_impossible': False}), Prediction(uid=324390, iid=294720, r_ui=5.0, est=4.856848731655388, details={'was_impossible': False}), Prediction(uid=993604, iid=121959, r_ui=5.0, est=4.939282859267554, details={'was_impossible': False}), Prediction(uid=143318, iid=305429, r_ui=5.0, est=4.435936289958772, details={'was_impossible': False}), Prediction(uid=1677099, iid=160052, r_ui=5.0, est=4.549176705374569, details={'was_impossible': False})]\n",
            "[Prediction(uid=275742, iid=156132, r_ui=5.0, est=4.955806543237447, details={'was_impossible': False}), Prediction(uid=89831, iid=37640, r_ui=5.0, est=4.986342683929051, details={'was_impossible': False}), Prediction(uid=41578, iid=32170, r_ui=5.0, est=5, details={'was_impossible': False}), Prediction(uid=37779, iid=302815, r_ui=5.0, est=4.648261657678043, details={'was_impossible': False}), Prediction(uid=95743, iid=92208, r_ui=5.0, est=4.253308176528392, details={'was_impossible': False}), Prediction(uid=498271, iid=485585, r_ui=5.0, est=4.7870125995643855, details={'was_impossible': False}), Prediction(uid=382071, iid=108042, r_ui=5.0, est=4.17078617372425, details={'was_impossible': False}), Prediction(uid=357358, iid=321917, r_ui=5.0, est=4.4827629375440505, details={'was_impossible': False}), Prediction(uid=55380, iid=23225, r_ui=4.0, est=4.639861446632121, details={'was_impossible': False}), Prediction(uid=305531, iid=233830, r_ui=5.0, est=4.900123010258511, details={'was_impossible': False}), Prediction(uid=1168148, iid=113930, r_ui=5.0, est=5, details={'was_impossible': False}), Prediction(uid=209747, iid=170335, r_ui=3.0, est=4.815645017261205, details={'was_impossible': False}), Prediction(uid=485728, iid=410657, r_ui=5.0, est=4.843610630153456, details={'was_impossible': False}), Prediction(uid=593927, iid=425452, r_ui=4.0, est=4.714793586022617, details={'was_impossible': False}), Prediction(uid=156034, iid=165379, r_ui=4.0, est=4.584780457962946, details={'was_impossible': False}), Prediction(uid=542159, iid=361968, r_ui=5.0, est=4.9582052364912155, details={'was_impossible': False}), Prediction(uid=4470, iid=72747, r_ui=5.0, est=4.671054012392827, details={'was_impossible': False}), Prediction(uid=175124, iid=89207, r_ui=5.0, est=4.732841207631585, details={'was_impossible': False}), Prediction(uid=494084, iid=65287, r_ui=5.0, est=4.489896669540087, details={'was_impossible': False}), Prediction(uid=464080, iid=412886, r_ui=5.0, est=4.511749108748416, details={'was_impossible': False}), Prediction(uid=452355, iid=306156, r_ui=4.0, est=4.394060492158089, details={'was_impossible': False}), Prediction(uid=593927, iid=446126, r_ui=5.0, est=4.390467920772981, details={'was_impossible': False}), Prediction(uid=526666, iid=332093, r_ui=5.0, est=4.903180819057486, details={'was_impossible': False}), Prediction(uid=316717, iid=916, r_ui=3.0, est=4.088625897196454, details={'was_impossible': False}), Prediction(uid=599450, iid=141651, r_ui=5.0, est=4.678971936599558, details={'was_impossible': False}), Prediction(uid=93446, iid=498060, r_ui=5.0, est=4.791565193524682, details={'was_impossible': False}), Prediction(uid=93997, iid=138654, r_ui=5.0, est=4.727030023583944, details={'was_impossible': False}), Prediction(uid=57042, iid=334409, r_ui=0.0, est=3.6630385164928776, details={'was_impossible': False}), Prediction(uid=869184, iid=369578, r_ui=5.0, est=4.814613449009403, details={'was_impossible': False}), Prediction(uid=296809, iid=48279, r_ui=5.0, est=4.559018170932247, details={'was_impossible': False}), Prediction(uid=211184, iid=424502, r_ui=5.0, est=4.967171577797117, details={'was_impossible': False}), Prediction(uid=198154, iid=117565, r_ui=5.0, est=3.8294349745096037, details={'was_impossible': False}), Prediction(uid=324390, iid=400569, r_ui=5.0, est=4.930256052705531, details={'was_impossible': False}), Prediction(uid=52282, iid=94663, r_ui=5.0, est=4.586542748395166, details={'was_impossible': False}), Prediction(uid=1802849661, iid=212439, r_ui=5.0, est=4.89077683888571, details={'was_impossible': False}), Prediction(uid=231057, iid=415164, r_ui=5.0, est=4.952453590566863, details={'was_impossible': False}), Prediction(uid=104295, iid=29357, r_ui=4.0, est=4.070374070646493, details={'was_impossible': False}), Prediction(uid=228458, iid=253540, r_ui=5.0, est=4.339651078795705, details={'was_impossible': False}), Prediction(uid=157425, iid=84574, r_ui=5.0, est=4.899531682137271, details={'was_impossible': False}), Prediction(uid=542159, iid=169254, r_ui=5.0, est=4.77486002785695, details={'was_impossible': False}), Prediction(uid=705251, iid=190476, r_ui=3.0, est=4.853787941222098, details={'was_impossible': False}), Prediction(uid=322326, iid=106438, r_ui=5.0, est=4.6843206308380285, details={'was_impossible': False}), Prediction(uid=186802, iid=64915, r_ui=5.0, est=5, details={'was_impossible': False}), Prediction(uid=104295, iid=146775, r_ui=4.0, est=3.7789353842368074, details={'was_impossible': False}), Prediction(uid=168416, iid=4395, r_ui=5.0, est=4.1466520883040685, details={'was_impossible': False}), Prediction(uid=36128, iid=19247, r_ui=5.0, est=4.780357096017098, details={'was_impossible': False}), Prediction(uid=246482, iid=218227, r_ui=0.0, est=4.942848671859535, details={'was_impossible': False}), Prediction(uid=498271, iid=331211, r_ui=5.0, est=4.769113466284365, details={'was_impossible': False}), Prediction(uid=188119, iid=12711, r_ui=5.0, est=4.632140051839791, details={'was_impossible': False}), Prediction(uid=394085, iid=16574, r_ui=3.0, est=4.296851119865569, details={'was_impossible': False}), Prediction(uid=192264, iid=150768, r_ui=5.0, est=4.575431150670533, details={'was_impossible': False}), Prediction(uid=383346, iid=306127, r_ui=4.0, est=4.829784231692078, details={'was_impossible': False}), Prediction(uid=35140, iid=170905, r_ui=5.0, est=4.894965724032713, details={'was_impossible': False}), Prediction(uid=1375473, iid=358875, r_ui=4.0, est=4.812942093275233, details={'was_impossible': False}), Prediction(uid=53932, iid=234508, r_ui=4.0, est=4.679807752232824, details={'was_impossible': False}), Prediction(uid=124249, iid=28924, r_ui=5.0, est=4.7711814800711405, details={'was_impossible': False}), Prediction(uid=136997, iid=243370, r_ui=5.0, est=4.504134807422207, details={'was_impossible': False}), Prediction(uid=171790, iid=85504, r_ui=5.0, est=4.658330621918887, details={'was_impossible': False}), Prediction(uid=482812, iid=103767, r_ui=4.0, est=4.649037081283713, details={'was_impossible': False}), Prediction(uid=645114, iid=33875, r_ui=5.0, est=4.120321796742685, details={'was_impossible': False}), Prediction(uid=93006, iid=122481, r_ui=5.0, est=4.607790017590888, details={'was_impossible': False}), Prediction(uid=4291, iid=16371, r_ui=5.0, est=4.880053348332486, details={'was_impossible': False}), Prediction(uid=119466, iid=163922, r_ui=5.0, est=5, details={'was_impossible': False}), Prediction(uid=351811, iid=37201, r_ui=5.0, est=4.808661278243079, details={'was_impossible': False}), Prediction(uid=107583, iid=132855, r_ui=5.0, est=4.87683361985532, details={'was_impossible': False}), Prediction(uid=6357, iid=55802, r_ui=4.0, est=4.587918710719051, details={'was_impossible': False}), Prediction(uid=329638, iid=28026, r_ui=5.0, est=5, details={'was_impossible': False}), Prediction(uid=296809, iid=217032, r_ui=4.0, est=4.506344725946571, details={'was_impossible': False}), Prediction(uid=29196, iid=303911, r_ui=5.0, est=4.555819314974589, details={'was_impossible': False}), Prediction(uid=305531, iid=202806, r_ui=5.0, est=4.924851789137348, details={'was_impossible': False}), Prediction(uid=527607, iid=237608, r_ui=5.0, est=4.896490162312082, details={'was_impossible': False}), Prediction(uid=104295, iid=373581, r_ui=4.0, est=3.8577405388531045, details={'was_impossible': False}), Prediction(uid=351811, iid=296519, r_ui=4.0, est=4.895037969781317, details={'was_impossible': False}), Prediction(uid=37449, iid=317271, r_ui=5.0, est=4.8115781711274614, details={'was_impossible': False}), Prediction(uid=86318, iid=323377, r_ui=5.0, est=4.547403658122399, details={'was_impossible': False}), Prediction(uid=86764, iid=132335, r_ui=5.0, est=4.44028179085637, details={'was_impossible': False}), Prediction(uid=500860, iid=101041, r_ui=5.0, est=4.010226559851848, details={'was_impossible': False}), Prediction(uid=131126, iid=244275, r_ui=5.0, est=4.803070581126059, details={'was_impossible': False}), Prediction(uid=486725, iid=435962, r_ui=4.0, est=4.332672318902689, details={'was_impossible': False}), Prediction(uid=201581, iid=449279, r_ui=5.0, est=4.889973269884792, details={'was_impossible': False}), Prediction(uid=169430, iid=276008, r_ui=5.0, est=4.7344106567690805, details={'was_impossible': False}), Prediction(uid=954555, iid=188164, r_ui=5.0, est=4.701295894693508, details={'was_impossible': False}), Prediction(uid=130663, iid=135452, r_ui=0.0, est=4.821599997630011, details={'was_impossible': False}), Prediction(uid=305531, iid=264495, r_ui=5.0, est=4.90077761282279, details={'was_impossible': False}), Prediction(uid=222478, iid=165281, r_ui=5.0, est=4.927663523637828, details={'was_impossible': False}), Prediction(uid=146284, iid=144963, r_ui=5.0, est=4.868706205350955, details={'was_impossible': False}), Prediction(uid=324390, iid=294720, r_ui=5.0, est=4.762327213261564, details={'was_impossible': False}), Prediction(uid=993604, iid=121959, r_ui=5.0, est=4.966672496681002, details={'was_impossible': False}), Prediction(uid=143318, iid=305429, r_ui=5.0, est=4.739967896187943, details={'was_impossible': False}), Prediction(uid=1677099, iid=160052, r_ui=5.0, est=4.573140767504098, details={'was_impossible': False}), Prediction(uid=303162, iid=12365, r_ui=4.0, est=4.860084443650954, details={'was_impossible': False}), Prediction(uid=266635, iid=436073, r_ui=5.0, est=4.8737577560602015, details={'was_impossible': False}), Prediction(uid=51109, iid=30139, r_ui=5.0, est=4.929326283172811, details={'was_impossible': False}), Prediction(uid=690623, iid=318955, r_ui=5.0, est=4.727106826516335, details={'was_impossible': False}), Prediction(uid=424680, iid=267956, r_ui=5.0, est=5, details={'was_impossible': False}), Prediction(uid=496803, iid=334528, r_ui=5.0, est=4.4549229821932155, details={'was_impossible': False}), Prediction(uid=738401, iid=129533, r_ui=5.0, est=4.439112010730395, details={'was_impossible': False}), Prediction(uid=47510, iid=41169, r_ui=5.0, est=4.4331154178595, details={'was_impossible': False}), Prediction(uid=724631, iid=307974, r_ui=5.0, est=4.456643229616474, details={'was_impossible': False}), Prediction(uid=50969, iid=74301, r_ui=4.0, est=4.2003648043695305, details={'was_impossible': False})]\n"
          ]
        }
      ]
    },
    {
      "cell_type": "code",
      "source": [
        "# Plot the RMSE and MAE scores against the number of recommendations\n",
        "plt.plot(n_recommendations, rmse_scores, label='RMSE')\n",
        "plt.plot(n_recommendations, mae_scores, label='MAE')\n",
        "plt.title('Accuracy Metrics for Different Number of Recommendations')\n",
        "plt.xlabel('Number of Recommendations')\n",
        "plt.ylabel('Accuracy')\n",
        "plt.legend()\n",
        "plt.show()"
      ],
      "metadata": {
        "colab": {
          "base_uri": "https://localhost:8080/",
          "height": 295
        },
        "id": "b8_FjboN1RLq",
        "outputId": "fb6f9478-5192-42e7-8b05-c77504ca4b49"
      },
      "execution_count": 62,
      "outputs": [
        {
          "output_type": "display_data",
          "data": {
            "text/plain": [
              "<Figure size 432x288 with 1 Axes>"
            ],
            "image/png": "[encoded data removed]"
          },
          "metadata": {
            "needs_background": "light"
          }
        }
      ]
    },
    {
      "cell_type": "code",
      "source": [],
      "metadata": {
        "id": "oKsjImONZvjU"
      },
      "execution_count": null,
      "outputs": []
    }
  ]
}