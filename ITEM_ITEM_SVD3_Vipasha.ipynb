{
  "nbformat": 4,
  "nbformat_minor": 0,
  "metadata": {
    "colab": {
      "provenance": [],
      "authorship_tag": "ABX9TyOLakyN3C8G+7LZfrBdEJ+x",
      "include_colab_link": true
    },
    "kernelspec": {
      "name": "python3",
      "display_name": "Python 3"
    },
    "language_info": {
      "name": "python"
    }
  },
  "cells": [
    {
      "cell_type": "markdown",
      "metadata": {
        "id": "view-in-github",
        "colab_type": "text"
      },
      "source": [
        "<a href=\"https://colab.research.google.com/github/vipashaaV321/Collaborative-Food-Recipe-Recommendation-System/blob/Vipasha/ITEM_ITEM_SVD3_Vipasha.ipynb\" target=\"_parent\"><img src=\"https://colab.research.google.com/assets/colab-badge.svg\" alt=\"Open In Colab\"/></a>"
      ]
    },
    {
      "cell_type": "code",
      "execution_count": null,
      "metadata": {
        "id": "RrYfUIfdtYyd"
      },
      "outputs": [],
      "source": [
        "Base_path ='/content/drive/MyDrive/Data/RS2'"
      ]
    },
    {
      "cell_type": "code",
      "source": [
        "from google.colab import drive\n",
        "drive.mount('/content/drive')"
      ],
      "metadata": {
        "id": "bh6BHfaPtfFP"
      },
      "execution_count": null,
      "outputs": []
    },
    {
      "cell_type": "code",
      "source": [
        "import pandas as pd\n",
        "import numpy as np\n",
        "import matplotlib.pyplot as plt\n",
        "from sklearn.metrics import precision_score, recall_score, f1_score\n",
        "from sklearn.metrics.pairwise import cosine_similarity\n",
        "from scipy.sparse.linalg import svds"
      ],
      "metadata": {
        "id": "cq6f0UhvtmWk"
      },
      "execution_count": null,
      "outputs": []
    },
    {
      "cell_type": "code",
      "source": [
        "data = pd.read_csv(Base_path+\"/interactions_train.csv\")"
      ],
      "metadata": {
        "id": "lhtbSZAN1fOc"
      },
      "execution_count": null,
      "outputs": []
    },
    {
      "cell_type": "code",
      "source": [
        "data"
      ],
      "metadata": {
        "id": "OXdMJp9M3bzs"
      },
      "execution_count": null,
      "outputs": []
    },
    {
      "cell_type": "code",
      "source": [
        "subset1 = data[:349450] \n",
        "subset2 = data[349451:]"
      ],
      "metadata": {
        "id": "_S8nNTCG3_aX"
      },
      "execution_count": null,
      "outputs": []
    },
    {
      "cell_type": "code",
      "source": [
        "matrix1 = subset1.pivot_table(values='rating', index='user_id', columns='recipe_id')\n",
        "matrix2 = subset2.pivot_table(values='rating', index='user_id', columns='recipe_id')"
      ],
      "metadata": {
        "id": "3kCw0CCA4OIZ"
      },
      "execution_count": null,
      "outputs": []
    },
    {
      "cell_type": "code",
      "source": [
        "complete_matrix = matrix1.join(matrix2)"
      ],
      "metadata": {
        "id": "0ZrfEYC84Zyr"
      },
      "execution_count": null,
      "outputs": []
    },
    {
      "cell_type": "code",
      "source": [
        "data.groupby(['user_id','recipe_id'])['rating'].max().unstack()"
      ],
      "metadata": {
        "id": "oz6ZU1eJ1kug"
      },
      "execution_count": null,
      "outputs": []
    },
    {
      "cell_type": "code",
      "source": [
        "# Decompose the user-item ratings matrix using SVD\n",
        "U, sigma, Vt = svds(data, k=50)\n",
        "sigma = np.diag(sigma)"
      ],
      "metadata": {
        "id": "Azpm0QxmwBtH"
      },
      "execution_count": null,
      "outputs": []
    },
    {
      "cell_type": "code",
      "source": [
        "U"
      ],
      "metadata": {
        "id": "811E0SO2xTHO"
      },
      "execution_count": null,
      "outputs": []
    },
    {
      "cell_type": "code",
      "source": [
        "sigma"
      ],
      "metadata": {
        "id": "0hnVmwARxU2r"
      },
      "execution_count": null,
      "outputs": []
    },
    {
      "cell_type": "code",
      "source": [
        "Vt"
      ],
      "metadata": {
        "id": "fB7wEa_SxXMQ"
      },
      "execution_count": null,
      "outputs": []
    },
    {
      "cell_type": "code",
      "source": [
        "# Predict the ratings for all users and items\n",
        "predicted_ratings = np.dot(np.dot(U, sigma), Vt)"
      ],
      "metadata": {
        "id": "pfhsi_hrxOtN"
      },
      "execution_count": null,
      "outputs": []
    },
    {
      "cell_type": "code",
      "source": [
        "predicted_ratings"
      ],
      "metadata": {
        "id": "gG0-9UH1xSD2"
      },
      "execution_count": null,
      "outputs": []
    },
    {
      "cell_type": "code",
      "source": [
        "# Define the number of recommended items\n",
        "num_recommendations = 10\n",
        "\n",
        "# Calculate the item-item similarity matrix using cosine similarity\n",
        "item_similarities = cosine_similarity(predicted_ratings.T)"
      ],
      "metadata": {
        "id": "A4j4NY8CxbkN"
      },
      "execution_count": null,
      "outputs": []
    },
    {
      "cell_type": "code",
      "source": [
        "# Recommend top items based on similarity for each user\n",
        "top_items = np.zeros((predicted_ratings.shape[0], num_recommendations))\n",
        "for i in range(predicted_ratings.shape[0]):\n",
        "    top_items[i] = np.argsort(-item_similarities[i])[:num_recommendations]"
      ],
      "metadata": {
        "id": "UvdzelpXxoop"
      },
      "execution_count": null,
      "outputs": []
    },
    {
      "cell_type": "code",
      "source": [
        "# Define the ground truth ratings and item indices\n",
        "ground_truth_ratings = data.values\n",
        "item_indices = np.arange(ground_truth_ratings.shape[1])"
      ],
      "metadata": {
        "id": "1ZD5tschxxeC"
      },
      "execution_count": null,
      "outputs": []
    },
    {
      "cell_type": "code",
      "source": [
        "# Calculate the precision, recall, and F1-score for each user\n",
        "precision = 0.0\n",
        "recall = 0.0\n",
        "f1_score = 0.0\n",
        "for i in range(ground_truth_ratings.shape[0]):\n",
        "    relevant_items = np.where(ground_truth_ratings[i] > 0)[0]\n",
        "    recommended_items = top_items[i].astype(int)\n",
        "    tp = len(set(recommended_items) & set(relevant_items))\n",
        "    fp = len(set(recommended_items) - set(relevant_items))\n",
        "    fn = len(set(relevant_items) - set(recommended_items))\n",
        "    precision += tp / (tp + fp + 1e-9)\n",
        "    recall += tp / (tp + fn + 1e-9)\n",
        "    f1_score += 2 * tp / (2 * tp + fp + fn + 1e-9)\n",
        "precision /= ground_truth_ratings.shape[0]\n",
        "recall /= ground_truth_ratings.shape[0]\n",
        "f1_score /= ground_truth_ratings.shape[0]\n",
        "print(\"Precision:\", precision)\n",
        "print(\"Recall:\", recall)\n",
        "print(\"F1-score:\", f1_score)"
      ],
      "metadata": {
        "id": "uJmq-7ETx4EH"
      },
      "execution_count": null,
      "outputs": []
    },
    {
      "cell_type": "code",
      "source": [
        "# Calculate the NDCG and MRR for each user\n",
        "dcg = 0.0\n",
        "mrr = 0.0\n",
        "for i in range(ground_truth_ratings.shape[0]):\n",
        "    relevant_items = np.where(ground_truth_ratings[i] > 0)[0]\n",
        "    recommended_items = top_items[i].astype(int)\n",
        "    tp = len(set(recommended_items) & set(relevant_items))\n",
        "    if tp > 0:\n",
        "        # Calculate NDCG\n",
        "        idcg = np.sum(1 / np.log2(np.arange(2, tp + 2)))\n",
        "        dcg += np.sum(1 / np.log2(np.where(np.isin(item_indices, recommended_items[:tp]))[0] + 2)) / idcg\n",
        "        # Calculate MRR\n",
        "        mrr += 1 / (np.min(np.where(item_indices == recommended_items[0])[0]) + 1)\n",
        "dcg /= ground_truth_ratings.shape "
      ],
      "metadata": {
        "id": "bMimgfeBx8dJ"
      },
      "execution_count": null,
      "outputs": []
    }
  ]
}