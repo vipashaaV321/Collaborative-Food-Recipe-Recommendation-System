{
  "nbformat": 4,
  "nbformat_minor": 0,
  "metadata": {
    "colab": {
      "provenance": [],
      "authorship_tag": "ABX9TyMlWPkSAtqO9ws6Rd1P0sWI",
      "include_colab_link": true
    },
    "kernelspec": {
      "name": "python3",
      "display_name": "Python 3"
    },
    "language_info": {
      "name": "python"
    }
  },
  "cells": [
    {
      "cell_type": "markdown",
      "metadata": {
        "id": "view-in-github",
        "colab_type": "text"
      },
      "source": [
        "<a href=\"https://colab.research.google.com/github/vipashaaV321/Collaborative-Food-Recipe-Recommendation-System/blob/Vipasha/SVD_MRR.ipynb\" target=\"_parent\"><img src=\"https://colab.research.google.com/assets/colab-badge.svg\" alt=\"Open In Colab\"/></a>"
      ]
    },
    {
      "cell_type": "code",
      "execution_count": 1,
      "metadata": {
        "id": "9Mv1KUT5T_A0"
      },
      "outputs": [],
      "source": [
        "import pandas as pd\n",
        "import numpy as np\n",
        "from sklearn.metrics.pairwise import cosine_similarity\n",
        "from scipy.sparse.linalg import svds\n",
        "from scipy.sparse import csr_matrix"
      ]
    },
    {
      "cell_type": "code",
      "source": [
        "from google.colab import drive\n",
        "drive.mount('/content/drive')"
      ],
      "metadata": {
        "colab": {
          "base_uri": "https://localhost:8080/"
        },
        "id": "tefS6UG9TINT",
        "outputId": "f8df4fed-9c74-4a0a-b348-d4e8222db8de"
      },
      "execution_count": 2,
      "outputs": [
        {
          "output_type": "stream",
          "name": "stdout",
          "text": [
            "Drive already mounted at /content/drive; to attempt to forcibly remount, call drive.mount(\"/content/drive\", force_remount=True).\n"
          ]
        }
      ]
    },
    {
      "cell_type": "code",
      "source": [
        "data = pd.read_csv(\"/content/drive/MyDrive/Data/RS2/short-recipes-20.csv\")"
      ],
      "metadata": {
        "id": "fSosRnsUT8Lf"
      },
      "execution_count": 3,
      "outputs": []
    },
    {
      "cell_type": "code",
      "source": [
        "# Create the utility matrix\n",
        "utility_matrix = pd.pivot_table(data, values='rating', index='user_id', columns='recipe_id', fill_value=0)"
      ],
      "metadata": {
        "id": "6PGhnvt0UVQK"
      },
      "execution_count": 4,
      "outputs": []
    },
    {
      "cell_type": "code",
      "source": [
        "# Normalize the ratings\n",
        "mean_ratings = np.mean(utility_matrix, axis=1)\n",
        "utility_matrix = utility_matrix.sub(mean_ratings, axis=0)"
      ],
      "metadata": {
        "id": "2CqNWeL_UWxJ"
      },
      "execution_count": 5,
      "outputs": []
    },
    {
      "cell_type": "code",
      "source": [
        "# Sparse Matrix\n",
        "sparse_utility_matrix = csr_matrix(utility_matrix)"
      ],
      "metadata": {
        "id": "1XM1t6DXMfdQ"
      },
      "execution_count": 6,
      "outputs": []
    },
    {
      "cell_type": "code",
      "source": [
        "# Perform matrix factorization\n",
        "u, s, vt = svds(sparse_utility_matrix, k=50)"
      ],
      "metadata": {
        "id": "OtKt7zQyMgm5"
      },
      "execution_count": 7,
      "outputs": []
    },
    {
      "cell_type": "code",
      "source": [
        "# Generate recommendations\n",
        "def get_recommendations(previous_selections):\n",
        "    if len(previous_selections) == 0:\n",
        "        print(\"Welcome to the food recommendation system! What kind of food do you like?\")\n",
        "    else:\n",
        "        print(\"Based on your previous selections, here are some more recommendations:\")\n",
        "    recommended_items = recommend_items(previous_selections)\n",
        "    for i, item in enumerate(recommended_items):\n",
        "        print(f\"{i+1}. {item}\")\n",
        "    return recommended_items"
      ],
      "metadata": {
        "id": "Gen6LwIpWQzw"
      },
      "execution_count": 8,
      "outputs": []
    },
    {
      "cell_type": "code",
      "source": [
        "def recommend_items(previous_selections):\n",
        "    # Get the indices of the previous selections\n",
        "    indices = [data[data['name']==item]['recipe_id'].iloc[0] for item in previous_selections]\n",
        "\n",
        "    # Predict the ratings for all the recipes\n",
        "    predicted_ratings = np.dot(np.dot(u, np.diag(s)), vt)\n",
        "\n",
        "    # Get the predicted ratings for the previous selections and all the recipes\n",
        "    previous_ratings = predicted_ratings[:, indices].mean(axis=1)\n",
        "    all_ratings = predicted_ratings[:, :].mean(axis=1)\n",
        "\n",
        "    # Get the indices of the top 5 highest predicted ratings\n",
        "    top_indices = np.argsort(all_ratings - previous_ratings)[-5:][::-1]\n",
        "\n",
        "    # Get the recipe names from the indices\n",
        "    top_items = [data[data['recipe_id']==index]['name'].iloc[0] for index in top_indices]\n",
        "\n",
        "    return top_items"
      ],
      "metadata": {
        "id": "CoZHejXQM69g"
      },
      "execution_count": 9,
      "outputs": []
    },
    {
      "cell_type": "code",
      "source": [
        "# Start the conversation\n",
        "previous_selections = []\n",
        "while True:\n",
        "    # Get user input\n",
        "    user_input = input(\"\\nEnter a food item you like or type 'done' to exit: \")\n",
        "\n",
        "    # Check if the user wants to exit\n",
        "    if user_input.lower() == 'done':\n",
        "        print(\"Thank you for using the food recommendation system!\")\n",
        "        break\n",
        "\n",
        "    # Check if the user has already selected this item\n",
        "    if user_input in previous_selections:\n",
        "        print(f\"You've already selected {user_input}. Please choose a different food item.\")\n",
        "        continue\n",
        "\n",
        "    # Check if the item is in the dataset\n",
        "    if user_input not in data['name'].values:\n",
        "        print(\"Sorry, we don't have that item in our dataset. Please try a different food item.\")\n",
        "        continue\n",
        "\n",
        "    # Add the item to the previous selections\n",
        "    previous_selections.append(user_input)\n",
        "\n",
        "    # Get the recommendations\n",
        "    recommended_items = get_recommendations(previous_selections)"
      ],
      "metadata": {
        "colab": {
          "base_uri": "https://localhost:8080/"
        },
        "id": "mMfNRXReM9sk",
        "outputId": "44174d6f-9cbe-4a75-fc6c-3d5bbf8ae1b9"
      },
      "execution_count": 10,
      "outputs": [
        {
          "output_type": "stream",
          "name": "stdout",
          "text": [
            "\n",
            "Enter a food item you like or type 'done' to exit: to die for crock pot roast\t\n",
            "Sorry, we don't have that item in our dataset. Please try a different food item.\n",
            "\n",
            "Enter a food item you like or type 'done' to exit: creamy cajun chicken pasta\n",
            "Sorry, we don't have that item in our dataset. Please try a different food item.\n",
            "\n",
            "Enter a food item you like or type 'done' to exit: whatever floats your boat brownies\n",
            "Sorry, we don't have that item in our dataset. Please try a different food item.\n",
            "\n",
            "Enter a food item you like or type 'done' to exit: Apple Pie\n",
            "Sorry, we don't have that item in our dataset. Please try a different food item.\n",
            "\n",
            "Enter a food item you like or type 'done' to exit: all in the kitchen chili\n",
            "Sorry, we don't have that item in our dataset. Please try a different food item.\n",
            "\n",
            "Enter a food item you like or type 'done' to exit: alouette potatoes\n",
            "Sorry, we don't have that item in our dataset. Please try a different food item.\n",
            "\n",
            "Enter a food item you like or type 'done' to exit: done\n",
            "Thank you for using the food recommendation system!\n"
          ]
        }
      ]
    },
    {
      "cell_type": "code",
      "source": [],
      "metadata": {
        "id": "qsFjkZo7NQZ3"
      },
      "execution_count": 10,
      "outputs": []
    }
  ]
}
